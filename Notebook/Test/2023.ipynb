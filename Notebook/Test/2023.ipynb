{
 "cells": [
  {
   "cell_type": "markdown",
   "id": "c9cfce7a",
   "metadata": {},
   "source": [
    "# **テスト用**"
   ]
  },
  {
   "cell_type": "markdown",
   "id": "0691d229",
   "metadata": {},
   "source": [
    "## 要点"
   ]
  },
  {
   "cell_type": "markdown",
   "id": "b612cdba",
   "metadata": {},
   "source": [
    "- `int`(整数)/`float`(実数)の扱い\n",
    "- `//`では解が整数になる(切り捨て)\n",
    "- `%`は余りが出る$\\longrightarrow$偶数などの判定で用いる\n",
    "- 比較の時のイコールに注意(イコールは基本右)\n",
    "- `elif(elseif)`は条件を重ねることができる(分けるわけじゃない)\n",
    "- リストの添え字は範囲`0からlen(list)-1まで`rangeで表すと`range(len(list))`\n",
    "- リストは編集できるのに対してタプルは編集不可\n",
    "- リストは`append()`で追加`del list [x]`で削除できる\n",
    "- `x in list` で`list`にxが入っているかを確認できる$\\longrightarrow$`For x in list`につながってくる\n",
    "- `continue`はその条件だったら無視して続行、`break`はその条件だったらループ処理をやめる"
   ]
  }
 ],
 "metadata": {
  "kernelspec": {
   "display_name": "base",
   "language": "python",
   "name": "python3"
  },
  "language_info": {
   "codemirror_mode": {
    "name": "ipython",
    "version": 3
   },
   "file_extension": ".py",
   "mimetype": "text/x-python",
   "name": "python",
   "nbconvert_exporter": "python",
   "pygments_lexer": "ipython3",
   "version": "3.12.7"
  }
 },
 "nbformat": 4,
 "nbformat_minor": 5
}
