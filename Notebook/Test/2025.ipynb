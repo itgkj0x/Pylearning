{
 "cells": [
  {
   "cell_type": "code",
   "execution_count": null,
   "id": "7a6e648a",
   "metadata": {},
   "outputs": [],
   "source": [
    "x = 100\n",
    "\n",
    "for i in range(6):\n",
    "    x += i"
   ]
  }
 ],
 "metadata": {
  "language_info": {
   "name": "python"
  }
 },
 "nbformat": 4,
 "nbformat_minor": 5
}
