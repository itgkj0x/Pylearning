{
 "cells": [
  {
   "cell_type": "markdown",
   "id": "06b65d8e",
   "metadata": {},
   "source": [
    "# プログラミング基礎第3回-授業\n",
    "## **演習1**"
   ]
  },
  {
   "cell_type": "markdown",
   "id": "787a87cf",
   "metadata": {},
   "source": [
    "- 23を入力した時のプログラムの出力"
   ]
  },
  {
   "cell_type": "code",
   "execution_count": 13,
   "id": "8987daaa",
   "metadata": {},
   "outputs": [
    {
     "name": "stdout",
     "output_type": "stream",
     "text": [
      "45\n",
      "2025 2025 2025\n"
     ]
    },
    {
     "name": "stdout",
     "output_type": "stream",
     "text": [
      "c : 23\n"
     ]
    },
    {
     "name": "stdout",
     "output_type": "stream",
     "text": [
      "min:  20 max:  25\n"
     ]
    }
   ],
   "source": [
    "x=1+2+3+4+5+6+7+8+9 # (a) 1から9の合計\n",
    "print(x) # (b) xの値を出力\n",
    "y=1**3+2**3+3**3+4**3+5**3+6**3+7**3+8**3+9**3 # (c) 1から9の各三乗の和\n",
    "a=int(y/100) # (d) yの100分の1の整数\n",
    "b= y % 100 # (e) yを100で割ったあまり\n",
    "print(x**2,y,(a+b)**2) \n",
    "c= int(input(\"c :\"))  #(f)入力を整数として扱う\n",
    "print(\"min: \",min(a,b,c),\"max: \",max(a,b,c)) # (g) a,b,cの最小値と最大値"
   ]
  },
  {
   "cell_type": "markdown",
   "id": "dbd18e45",
   "metadata": {},
   "source": [
    "## **演習2**\n",
    "日本では気温に摂氏(Celsius,単位は $^\\circ $ C)を使っているがアメリカなどは華氏(Fahrenheit,単位は $^\\circ$ F)を使っている。摂氏から華氏への変換は\n",
    "華氏( $^\\circ$ F) = 摂氏($^\\circ$ C) $\\times(\\frac{9}{5})+32$という式で表される。摂氏の温度を入力すると、華氏の温度を出力するプログラムを作成せよ。ただし摂氏と華氏の変数を $c$ と $f$ とし、摂氏20 $^\\circ$ C, 25 $^\\circ$ C ,30 $^\\circ$ C を試すこと"
   ]
  },
  {
   "cell_type": "code",
   "execution_count": 11,
   "id": "44c84acf",
   "metadata": {},
   "outputs": [
    {
     "name": "stdout",
     "output_type": "stream",
     "text": [
      "摂氏:  30\n"
     ]
    },
    {
     "name": "stdout",
     "output_type": "stream",
     "text": [
      "華氏:  86.0\n"
     ]
    }
   ],
   "source": [
    "c = int(input(\"摂氏: \"))\n",
    "f = c*(9/5)+32\n",
    "print(\"華氏: \", f)"
   ]
  },
  {
   "cell_type": "markdown",
   "id": "47541ede",
   "metadata": {},
   "source": [
    "## **演習3**\n",
    "2次方程式$ax^2+bx+c=0$の解の公式は次の式で表される。\n",
    "$$ x = \\frac{-b\\pm\\sqrt{b^2-4ac}}{2a} $$\n",
    "3個の入力を実数a,b,cとし、２個の解を出力するプロフラムを書け。ただし、重解の場合でも同じ値を2個出力してよく、解が存在しない場合を考慮しなくてもよい。(そのような入力はないと仮定する。) また$\\sqrt{b^2-4ac}$の値を変数$d$と定義し、$d$を使って解を出力すること。"
   ]
  },
  {
   "cell_type": "code",
   "execution_count": 1,
   "id": "8bda5db2",
   "metadata": {},
   "outputs": [
    {
     "name": "stdout",
     "output_type": "stream",
     "text": [
      "a: 1\n",
      "b: 3\n",
      "c: 2\n"
     ]
    },
    {
     "name": "stdout",
     "output_type": "stream",
     "text": [
      "x= -1.0 , -2.0\n"
     ]
    }
   ],
   "source": [
    "a = int(input(\"a:\"))\n",
    "b = int(input(\"b:\"))\n",
    "c = int(input(\"c:\"))\n",
    "d = ((b**2)-(4*a*c))**(1/2)\n",
    "print(\"x=\",(-b+d)/2*a,\",\",(-b-d)/2*a)\n"
   ]
  }
 ],
 "metadata": {
  "kernelspec": {
   "display_name": "Python 3",
   "language": "python",
   "name": "python3"
  },
  "language_info": {
   "codemirror_mode": {
    "name": "ipython",
    "version": 3
   },
   "file_extension": ".py",
   "mimetype": "text/x-python",
   "name": "python",
   "nbconvert_exporter": "python",
   "pygments_lexer": "ipython3",
   "version": "3.13.2"
  }
 },
 "nbformat": 4,
 "nbformat_minor": 5
}
