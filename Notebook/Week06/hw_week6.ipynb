{
 "cells": [
  {
   "cell_type": "markdown",
   "id": "e2cef0b5",
   "metadata": {},
   "source": [
    "# **プログラミング基礎第6回**\n",
    "\n",
    "---"
   ]
  },
  {
   "cell_type": "markdown",
   "id": "7c2f3abe",
   "metadata": {},
   "source": [
    "## 繰り返しとは"
   ]
  },
  {
   "cell_type": "markdown",
   "id": "3b48e416",
   "metadata": {},
   "source": [
    "### プログラムの制御構造(復習)\n",
    "\n",
    "プログラムの流れを制御する3種類の構造\n",
    "- *順次構造*\n",
    "  - 記述されている順番に処理を実行\n",
    "- *選択構造(条件分岐)*\n",
    "  - 条件によって行う処理を選択\n",
    "  - 流れが枝分かれするので分岐と呼ぶ\n",
    "- **反復構造**\n",
    "  - 繰り返して処理を実行→今回の学習\n",
    "\n",
    "すべてのプログラムは上記3種類の制御構造を利用するだけで作成可能"
   ]
  },
  {
   "cell_type": "markdown",
   "id": "4c40dfe3",
   "metadata": {},
   "source": [
    "#### 反復構造 \n",
    "- 条件を満たす間は繰り返して処理を実行"
   ]
  },
  {
   "cell_type": "markdown",
   "id": "c3faf8f5",
   "metadata": {},
   "source": [
    "## **Pythonの選択構造と反復構造**\n",
    "- 選択構造\n",
    "  - `if`文,`if-else`文: 2方向分岐\n",
    "  - `elif`文: 多方向分岐\n",
    "- 反復分岐\n",
    "  - `while`文 : 主に不定回数分岐\n",
    "  - `for`文 : 主に指定回数(リストの要素数)反復"
   ]
  },
  {
   "cell_type": "markdown",
   "id": "32d25900",
   "metadata": {},
   "source": [
    "### 反復制御の必要性\n",
    "\n",
    "同じような処理の繰り返しを単純に表現するには:\n",
    "- Case.1:素振り\n",
    "  - 「構えて振って,構えて振って,...」と同じこと20回も言わない\n",
    "  - 「構えて振って,を20回やる。」と表現する\n",
    "    - 一定回数繰り返す\n",
    "- Case.2:ネジ締め\n",
    "  - しっかり締まった→終了\n",
    "  - まだ締まっていない→ネジを回す\n",
    "    - 期待した結果まで繰り返す\n",
    "- 二つの違い\n",
    "  - Case.1:一定回数\n",
    "  - Case.2:終了条件により回数は不定  "
   ]
  },
  {
   "cell_type": "markdown",
   "id": "1e623f1f",
   "metadata": {},
   "source": [
    "### Pythonにおける反復制御\n",
    "- Case1:素振りを20回\n",
    "  - 構えて振って(という処理)を20回やる\n",
    "  - `for`文を使う: 0回以上の指定回数の繰り返し\n",
    "- Case2:ネジ締めをする\n",
    "  - しっかり締まった→終了\n",
    "  - まだ締まっていない→ネジを回す\n",
    "  - `while`文を使う:条件を満たしている間の不定回数の繰り返し\n",
    "    - 例では期待した状態ではないという条件"
   ]
  },
  {
   "cell_type": "markdown",
   "id": "4849fd02",
   "metadata": {},
   "source": [
    "## **While文**"
   ]
  },
  {
   "cell_type": "markdown",
   "id": "985aed7f",
   "metadata": {},
   "source": [
    "### while文の書き方\n",
    "- `while`<span style=\"color:blue\">条件:(コロン)</span><br>インデントした繰り返し処理の指定 "
   ]
  },
  {
   "cell_type": "code",
   "execution_count": 4,
   "id": "e6c7de1e",
   "metadata": {},
   "outputs": [
    {
     "name": "stdout",
     "output_type": "stream",
     "text": [
      "12345678910done\n"
     ]
    }
   ],
   "source": [
    "# 1から10まで数える\n",
    "a = 1 # while文の前の処理\n",
    "while a <= 10: # while文の開始\n",
    "    print(a, end='') # 繰り返す内容\n",
    "    a = a + 1 # ここまで\n",
    "print('done') # while文の後の処理\n",
    "\n",
    "# printについてるendは改行しないための処理\n",
    "# \\nが標準でついてるのを無効化できる"
   ]
  },
  {
   "cell_type": "markdown",
   "id": "0e160216",
   "metadata": {},
   "source": [
    "- もし条件を満たさなければ(`False`)\n",
    "  - `while`の後の処理へ進む<br>(ループを抜ける)\n",
    "- もし条件を満たしているならば(`True`)\n",
    "  - インデントで指定された処理を行い\n",
    "  - 再度条件を確認する"
   ]
  },
  {
   "cell_type": "markdown",
   "id": "84d4d74e",
   "metadata": {},
   "source": [
    "### while文の仕組み\n",
    "- while文を処理する手順\n",
    "1. 条件を計算\n",
    "2. 結果が`True`ならば、\n",
    "   - インデントで指定された部分を1回実行\n",
    "   - 1に戻る\n",
    "3. 結果が`False`ならば、\n",
    "   - ループを抜ける(`while`文の次の処理へ)\n",
    "- 条件の計算にはやを用いる\n",
    "  - 末尾のコロンを含めて`if`文と同じ構造\n",
    "  - `if`文はインデントの処理を一度行うのみ\n",
    "- 極端な例(無限ループ,試さないほうが良い)\n"
   ]
  },
  {
   "cell_type": "markdown",
   "id": "14a0ee70",
   "metadata": {},
   "source": [
    "```Python\n",
    "while True:\n",
    "    print('y', end='')\n",
    "```"
   ]
  },
  {
   "cell_type": "markdown",
   "id": "376919ea",
   "metadata": {},
   "source": [
    "### while文の例\n",
    "- 基本的な書き方\n",
    "  \n",
    "`while` 条件:<br>\n",
    "文(やりたいことその1)<br>\n",
    "文(やりたいことその1)<br>\n",
    "...<br>\n",
    "文(やりたいことそのn)<br>\n",
    "文n+1 <br>\n",
    "↑ループ終了の処理"
   ]
  },
  {
   "cell_type": "code",
   "execution_count": 11,
   "id": "b8dab321",
   "metadata": {},
   "outputs": [
    {
     "name": "stdout",
     "output_type": "stream",
     "text": [
      "A : 0,A : 2,A : 4,6\n"
     ]
    }
   ],
   "source": [
    "a = 0 # while文前の処理\n",
    "while a < 5:\n",
    "    print('A :',a,end=',')\n",
    "    a = a+2\n",
    "print(a) # while文後の処理"
   ]
  },
  {
   "cell_type": "markdown",
   "id": "2bad6b6d",
   "metadata": {},
   "source": [
    "### 値の増分と減分\n",
    "\n",
    "- 増分(インクリメント):値を増やして変数を更新する\n",
    "- 減分(デクリメント):値を減らして変数を更新する\n",
    "  - 塁算代入演算とも呼ばれる(累計)\n",
    "  - 特に1だけ増やしたり減らすことを指すことが多い"
   ]
  },
  {
   "cell_type": "code",
   "execution_count": 12,
   "id": "cb6d16bc",
   "metadata": {},
   "outputs": [
    {
     "name": "stdout",
     "output_type": "stream",
     "text": [
      "1\n",
      "2\n"
     ]
    }
   ],
   "source": [
    "a = 0\n",
    "a = a + 1\n",
    "print(a)\n",
    "a = a + 1\n",
    "print(a)"
   ]
  },
  {
   "cell_type": "markdown",
   "id": "d222797e",
   "metadata": {},
   "source": [
    "### 塁算代入演算子 \n",
    "\n",
    "|演算子|機能|使い方|意味|\n",
    "|-----|----|------|----|\n",
    "|+=|加算|a += 4 <br> x += y <br>x += y-z|a = a+4 <br> x = x+y <br>x = x+(y-z)|\n",
    "|-=|減算|a -= 2 <br> x -= y <br> x -= y-z|a = a-2 <br> x = x-y <br> x = x-(y-z)|\n",
    "|*=|乗算|a *= 6 <br> x *= y <br> x *= y-z|a = a* 6 <br> x = x* y <br> x = x* (y-z)|\n",
    "|/=<br>//=|除算|a /= 3 <br> x /= y <br> x /= y-z | a = a/3 <br> x = x/y <br> x = x/(y-z) |\n",
    "|%=|剰余|a %= 3 <br> x %= y <br> x %= y-z|a = a%3 <br> x = x%y <br> x = x%(y-z)|"
   ]
  },
  {
   "cell_type": "markdown",
   "id": "63de8553",
   "metadata": {},
   "source": [
    "### ループ制御変数\n",
    "- 一定処理の繰り返しにおいて、ループのを制御するための変数\n",
    "- 初期値,増分(1回の処理毎に加算/減算される値)、及び、継続条件の設定により回数を制御可能\n",
    "- `+=`演算子、`-=`演算子がよく使われる\n",
    "- 以下の例では変数$i$がループ制御関数"
   ]
  },
  {
   "cell_type": "code",
   "execution_count": 3,
   "id": "a91c6bd2",
   "metadata": {},
   "outputs": [
    {
     "name": "stdout",
     "output_type": "stream",
     "text": [
      "25 25\n"
     ]
    }
   ],
   "source": [
    "x = [1,3,5,7,9]\n",
    "s = 0\n",
    "i = 0\n",
    "while i < len(x):\n",
    "    s += x[i]\n",
    "    i += 1\n",
    "print(s,sum(x))"
   ]
  },
  {
   "cell_type": "markdown",
   "id": "74962c86",
   "metadata": {},
   "source": [
    "### 条件分岐との組み合わせ\n",
    "- `while`条件:に続くブロック内に書ける処理\n",
    "  - 文として書けるものならすべて\n",
    "  - 各種計算\n",
    "  - 条件分岐\n",
    "  - 繰り返し制御(繰り返しの中に繰り返しという入れ子になる)"
   ]
  },
  {
   "cell_type": "code",
   "execution_count": 4,
   "id": "ac9dbce6",
   "metadata": {},
   "outputs": [
    {
     "name": "stdout",
     "output_type": "stream",
     "text": [
      "246810"
     ]
    }
   ],
   "source": [
    "# 1以上,10以下の整数のうち,偶数のみを表示する\n",
    "x = 1\n",
    "while x <= 10:\n",
    "    if x % 2 == 0:\n",
    "        print(x,end='') # スペース文字\n",
    "    x += 1"
   ]
  },
  {
   "cell_type": "markdown",
   "id": "919601ed",
   "metadata": {},
   "source": [
    "- 考え方:<br>整数$x$が偶数であれば画面へ出力する処理(`if`文の内容)を,1から10まで繰り返す"
   ]
  },
  {
   "cell_type": "markdown",
   "id": "bcad8aac",
   "metadata": {},
   "source": [
    "### 条件付きリストの合計\n",
    "- 偶数の値のみを合計に加える\n",
    "- 組み込み関数`sum()`では計算できないことに注意"
   ]
  },
  {
   "cell_type": "code",
   "execution_count": 5,
   "id": "4ccf6c8e",
   "metadata": {},
   "outputs": [
    {
     "name": "stdout",
     "output_type": "stream",
     "text": [
      "108\n"
     ]
    }
   ],
   "source": [
    "x = [33,2,34,56,93,85,16]\n",
    "i = 0\n",
    "s = 0\n",
    "while i < len(x):\n",
    "    if x[i] % 2 == 0:\n",
    "        s += x[i]\n",
    "    i += 1\n",
    "print(s)"
   ]
  },
  {
   "cell_type": "markdown",
   "id": "72e15dab",
   "metadata": {},
   "source": [
    "## **for文**\n",
    "\n",
    "### for文による繰り返し制御\n",
    "- 指定したデータの集まり(リスト等)から,データ(リストの要素)を一つずつ取り出し、データの数だけ繰り返す\n",
    "- `for`の行の末尾にコロン(:)が必要\n",
    "- インデントにより繰り返しの範囲を指定する"
   ]
  },
  {
   "cell_type": "markdown",
   "id": "0abeb35a",
   "metadata": {},
   "source": [
    "for文の書き方\n",
    "$$ for 変数 in データの集まり: $$\n",
    "$$処理1$$\n",
    "$$処理2$$"
   ]
  },
  {
   "cell_type": "markdown",
   "id": "6ebdfbc2",
   "metadata": {},
   "source": [
    "### for文の基本\n",
    "- リストから要素をaに一つずつ取り出す\n",
    "- そのaに対して処理を施す"
   ]
  },
  {
   "cell_type": "code",
   "execution_count": 3,
   "id": "1228bf4e",
   "metadata": {},
   "outputs": [
    {
     "name": "stdout",
     "output_type": "stream",
     "text": [
      "34 23 12 35 45 "
     ]
    }
   ],
   "source": [
    "for a in [34, 23, 12, 35, 45]:\n",
    "\tprint(a, end=' ')"
   ]
  },
  {
   "cell_type": "markdown",
   "id": "a127dfab",
   "metadata": {},
   "source": [
    "変数aにリストの要素が順番に代入され、その値を要素の数だけ繰り返し表示する"
   ]
  },
  {
   "cell_type": "markdown",
   "id": "a106b4cd",
   "metadata": {},
   "source": [
    "### 条件付きのリストの合計(for文)\n",
    "\n",
    "- 偶数の値のみを合計に加える\n",
    "- 組み込み関数`sum()`では計算できないことに注意\n",
    "- `while`文よりもシンプルに表現できる"
   ]
  },
  {
   "cell_type": "code",
   "execution_count": 7,
   "id": "29d63ed0",
   "metadata": {},
   "outputs": [
    {
     "name": "stdout",
     "output_type": "stream",
     "text": [
      "108\n"
     ]
    }
   ],
   "source": [
    "x = [33,2,34,56,93,85,16]\n",
    "s = 0\n",
    "for a in x : # xはリストを指す\n",
    "    if a % 2 == 0: # aはリストの要素\n",
    "        s += a\n",
    "print(s)"
   ]
  },
  {
   "cell_type": "markdown",
   "id": "5f779cb8",
   "metadata": {},
   "source": [
    "### range関数\n",
    "- `range()`関数は数字の並びを生成する(準備をする)\n",
    "- `for`文と組み合わせることで、数列を指定したことになる\n",
    "- 数列作成の指定方法は3種類ある\n",
    "  - `range([start,]stop[,stop])`:[]は省略可能\n",
    "  - startの無指定で0(デフォルト値),stopは範囲に含まれない\n",
    "  - 範囲は数値が減る方向でも良い"
   ]
  },
  {
   "cell_type": "code",
   "execution_count": 9,
   "id": "9810fbb0",
   "metadata": {},
   "outputs": [
    {
     "name": "stdout",
     "output_type": "stream",
     "text": [
      "0 1 2 3 4 5 "
     ]
    }
   ],
   "source": [
    "for a in range(6):  # 0から5まで\n",
    "    print(a,end=' ')"
   ]
  },
  {
   "cell_type": "code",
   "execution_count": 10,
   "id": "173f5cba",
   "metadata": {},
   "outputs": [
    {
     "name": "stdout",
     "output_type": "stream",
     "text": [
      "3 4 5 6 7 8 9 10 11 "
     ]
    }
   ],
   "source": [
    "for a in range(3, 12): # 3から11まで\n",
    "    print(a,end=' ') "
   ]
  },
  {
   "cell_type": "code",
   "execution_count": 11,
   "id": "87a45fed",
   "metadata": {},
   "outputs": [
    {
     "name": "stdout",
     "output_type": "stream",
     "text": [
      "5 7 9 11 13 15 17 19 "
     ]
    }
   ],
   "source": [
    "for a in range(5,20,2):  # 増分2で5から19まで\n",
    "    print(a,end=' ')"
   ]
  },
  {
   "cell_type": "markdown",
   "id": "01d5c619",
   "metadata": {},
   "source": [
    "### range関数とリスト\n",
    "- range関数の結果はリストではない\n",
    "- 値の並びを生成するオブジェクト"
   ]
  },
  {
   "cell_type": "code",
   "execution_count": 4,
   "id": "c586eb5a",
   "metadata": {},
   "outputs": [
    {
     "data": {
      "text/plain": [
       "range(0, 6)"
      ]
     },
     "execution_count": 4,
     "metadata": {},
     "output_type": "execute_result"
    }
   ],
   "source": [
    "range(6) # 0から5まで"
   ]
  },
  {
   "cell_type": "code",
   "execution_count": 5,
   "id": "c3c87e2d",
   "metadata": {},
   "outputs": [
    {
     "data": {
      "text/plain": [
       "range"
      ]
     },
     "execution_count": 5,
     "metadata": {},
     "output_type": "execute_result"
    }
   ],
   "source": [
    "type(range(6))"
   ]
  },
  {
   "cell_type": "markdown",
   "id": "51ace997",
   "metadata": {},
   "source": [
    "- `list`関数でリストを生成できる"
   ]
  },
  {
   "cell_type": "code",
   "execution_count": 6,
   "id": "43d437a5",
   "metadata": {},
   "outputs": [
    {
     "data": {
      "text/plain": [
       "[0, 1, 2, 3, 4, 5]"
      ]
     },
     "execution_count": 6,
     "metadata": {},
     "output_type": "execute_result"
    }
   ],
   "source": [
    "list(range(6))"
   ]
  },
  {
   "cell_type": "markdown",
   "id": "ef7bf789",
   "metadata": {},
   "source": [
    "### range関数を使う場面\n",
    "- 規則的に変化する値のリストが必要な場合"
   ]
  },
  {
   "cell_type": "code",
   "execution_count": 12,
   "id": "99f77bf1",
   "metadata": {},
   "outputs": [
    {
     "name": "stdout",
     "output_type": "stream",
     "text": [
      "[1, 3, 5, 7, 9]\n",
      "[2, 4, 6, 8, 10]\n"
     ]
    }
   ],
   "source": [
    "x = list(range(1,10,2)) # 奇数のリスト\n",
    "print(x)\n",
    "y = list(range(2,11,2)) # 偶数のリスト\n",
    "print(y)"
   ]
  },
  {
   "cell_type": "markdown",
   "id": "6b01fc69",
   "metadata": {},
   "source": [
    "- 複数のリストを同時に扱う場合の添字(インデクス)の数列"
   ]
  },
  {
   "cell_type": "code",
   "execution_count": 13,
   "id": "bbe68408",
   "metadata": {},
   "outputs": [
    {
     "name": "stdout",
     "output_type": "stream",
     "text": [
      "190\n"
     ]
    }
   ],
   "source": [
    "x = [1,3,5,7,9]\n",
    "y = [2,4,6,8,10]\n",
    "s = 0\n",
    "for i in range (len(y)):\n",
    "    s += x[i]*y[i]\n",
    "print(s)"
   ]
  },
  {
   "cell_type": "markdown",
   "id": "155c6d2c",
   "metadata": {},
   "source": [
    "### enumerate関数\n",
    "- リストの要素とその要素の添字の双方を同時に扱いたい\n",
    "  - `for x in [1,2,3]`: とすると要素はx,添字はなし\n",
    "  - `for i in range(len([1,2,3]))`:では添字はi、要素はなし\n",
    "- `enumerate()`関数はリストやタプルから、添字や要素のタプルの並びを生成する(準備をする)\n",
    "  - `enumerate`:列挙する、数え上げる、一覧表にする\n",
    "- 基本的な使い方:\n"
   ]
  },
  {
   "cell_type": "code",
   "execution_count": 14,
   "id": "baba38a0",
   "metadata": {},
   "outputs": [
    {
     "name": "stdout",
     "output_type": "stream",
     "text": [
      "0 A\n",
      "1 B\n",
      "2 C\n"
     ]
    }
   ],
   "source": [
    "for i,x in enumerate(['A','B','C']):\n",
    "    print(i,x) # iはインデックス, xは要素"
   ]
  },
  {
   "cell_type": "markdown",
   "id": "c8b7c17f",
   "metadata": {},
   "source": [
    "- タプルは個別の変数のアンパックできることを思い出そう"
   ]
  },
  {
   "cell_type": "code",
   "execution_count": 15,
   "id": "23c12a82",
   "metadata": {},
   "outputs": [
    {
     "name": "stdout",
     "output_type": "stream",
     "text": [
      "0 A\n"
     ]
    }
   ],
   "source": [
    "i,x = (0,'A')\n",
    "print(i,x)"
   ]
  },
  {
   "cell_type": "markdown",
   "id": "6dd9261c",
   "metadata": {},
   "source": [
    "### enumerate関数とリスト\n",
    "- enumerate関数の結果はリストではない(range関数と同様)\n",
    "- タプルの並びを生成するオブジェクト"
   ]
  },
  {
   "cell_type": "code",
   "execution_count": 16,
   "id": "002bc502",
   "metadata": {},
   "outputs": [
    {
     "data": {
      "text/plain": [
       "<enumerate at 0x1878cd40180>"
      ]
     },
     "execution_count": 16,
     "metadata": {},
     "output_type": "execute_result"
    }
   ],
   "source": [
    "enumerate([1,2,3])"
   ]
  },
  {
   "cell_type": "code",
   "execution_count": 17,
   "id": "662c7344",
   "metadata": {},
   "outputs": [
    {
     "data": {
      "text/plain": [
       "enumerate"
      ]
     },
     "execution_count": 17,
     "metadata": {},
     "output_type": "execute_result"
    }
   ],
   "source": [
    "type(enumerate([1,2,3]))"
   ]
  },
  {
   "cell_type": "markdown",
   "id": "8ffb33a4",
   "metadata": {},
   "source": [
    "- `list`関数でタプルのリストを生成できる"
   ]
  },
  {
   "cell_type": "code",
   "execution_count": 18,
   "id": "60364974",
   "metadata": {},
   "outputs": [
    {
     "data": {
      "text/plain": [
       "[(0, 'X'), (1, 'Y'), (2, 'Z')]"
      ]
     },
     "execution_count": 18,
     "metadata": {},
     "output_type": "execute_result"
    }
   ],
   "source": [
    "list(enumerate(['X','Y','Z']))"
   ]
  },
  {
   "cell_type": "markdown",
   "id": "d6b8f863",
   "metadata": {},
   "source": [
    "### enumerate関数を使う場面\n",
    "- `range`関数で書ける内容をシンプルに表現したいとき\n",
    "- 例: 添字が偶数の要素を取りたい"
   ]
  },
  {
   "cell_type": "code",
   "execution_count": 19,
   "id": "233555e8",
   "metadata": {},
   "outputs": [
    {
     "name": "stdout",
     "output_type": "stream",
     "text": [
      "176\n"
     ]
    }
   ],
   "source": [
    "x = [33,2,34,56,93,85,16]\n",
    "s = 0\n",
    "for i,a in enumerate(x):\n",
    "    if i % 2 == 0:\n",
    "        s += a\n",
    "print(s)"
   ]
  },
  {
   "cell_type": "markdown",
   "id": "d787a366",
   "metadata": {},
   "source": [
    "- `range`関数で同じ内容を書くと"
   ]
  },
  {
   "cell_type": "code",
   "execution_count": 20,
   "id": "9531ee47",
   "metadata": {},
   "outputs": [
    {
     "name": "stdout",
     "output_type": "stream",
     "text": [
      "176\n"
     ]
    }
   ],
   "source": [
    "x = [33,2,34,56,93,85,16]\n",
    "s = 0\n",
    "for i in range(len(x)): # やや複雑\n",
    "    if i % 2 == 0:\n",
    "        s += x[i]   # x[i]が複数なら煩雑\n",
    "print(s)"
   ]
  },
  {
   "cell_type": "markdown",
   "id": "f6ccc4c4",
   "metadata": {},
   "source": [
    "## **breakとcontinue**"
   ]
  },
  {
   "cell_type": "markdown",
   "id": "83ee3a49",
   "metadata": {},
   "source": [
    "### breakとcontinue\n",
    "- ループの構造を無理に変更する文\n",
    "  - `for`/`while`文どちらでも使用可\n",
    "- 本当に必要な時のみ使用するのが良い\n",
    "  - なくても何とかなる\n",
    "  - インデントが深くなるので避ける\n",
    "- `break` : ループを途中で終了する"
   ]
  },
  {
   "cell_type": "code",
   "execution_count": 21,
   "id": "70f96a19",
   "metadata": {},
   "outputs": [
    {
     "name": "stdout",
     "output_type": "stream",
     "text": [
      "12"
     ]
    }
   ],
   "source": [
    "for i in [1,2,3,4,5]:\n",
    "    if i == 3:\n",
    "        break # ここでループ終了\n",
    "    print(i,end='')"
   ]
  },
  {
   "cell_type": "markdown",
   "id": "8140e982",
   "metadata": {},
   "source": [
    "- `continue` : ループの残りの処理をやめて次の処理に進む"
   ]
  },
  {
   "cell_type": "code",
   "execution_count": 22,
   "id": "ba7dbfa5",
   "metadata": {},
   "outputs": [
    {
     "name": "stdout",
     "output_type": "stream",
     "text": [
      "4 5 "
     ]
    }
   ],
   "source": [
    "for i in [1,2,3,4,5]:\n",
    "    if i <= 3:\n",
    "        continue  #次のiに進む\n",
    "    print(i,end=' ')"
   ]
  },
  {
   "cell_type": "markdown",
   "id": "dd6c4729",
   "metadata": {},
   "source": [
    "## **まとめ**\n",
    "\n",
    "- Pythonの反復構造は2種類\n",
    "  - `while`文 : 不定回の繰り返し\n",
    "  - `for`文 : リストの要素に対する繰り返し、または指定回数の繰り返し\n",
    "- `while`文 : 繰り返しの条件と繰り返す処理を指定する\n",
    "  - +=などの塁算代入が使われる\n",
    "  - ループ制御という役割をもつ変数を意識する良い\n",
    "- `for`文 : `in`を使いリストから要素を取り出す指定をする\n",
    "  - `range`関数は添字の並びを生成\n",
    "  - `enumerate`関数は添字と要素のタプルの並びを生成\n",
    "- `break`と`continue`\n",
    "  - ループを制御する方法"
   ]
  }
 ],
 "metadata": {
  "kernelspec": {
   "display_name": "base",
   "language": "python",
   "name": "python3"
  },
  "language_info": {
   "codemirror_mode": {
    "name": "ipython",
    "version": 3
   },
   "file_extension": ".py",
   "mimetype": "text/x-python",
   "name": "python",
   "nbconvert_exporter": "python",
   "pygments_lexer": "ipython3",
   "version": "3.12.7"
  }
 },
 "nbformat": 4,
 "nbformat_minor": 5
}
