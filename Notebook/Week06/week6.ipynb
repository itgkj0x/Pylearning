{
 "cells": [
  {
   "cell_type": "markdown",
   "id": "27d4ecf0",
   "metadata": {},
   "source": [
    "# 第6回プログラミング基礎\n",
    "## 演習1\n",
    "実数$x$を入力すると$\\frac{x}{1}+\\frac{x}{2}+...+\\frac{x}{n}$(ただし、$\\frac{x}{n}$は$0.001$以上)を計算するプログラムを作成せよ\n",
    "- 条件1:`while`文を使う\n",
    "- 条件2:$+=$演算子を使う\n",
    "- 条件3:リストは使わない\n"
   ]
  },
  {
   "cell_type": "code",
   "execution_count": 5,
   "id": "c6a0853b",
   "metadata": {},
   "outputs": [
    {
     "name": "stdout",
     "output_type": "stream",
     "text": [
      "Input a real number =>  2.1\n"
     ]
    },
    {
     "name": "stdout",
     "output_type": "stream",
     "text": [
      "17.277007366404895\n"
     ]
    }
   ],
   "source": [
    "x = float(input(\"Input a real number => \"))\n",
    "n = 1\n",
    "a = 0\n",
    "\n",
    "while x/n >= 0.001 :\n",
    "    a += x/n\n",
    "    n += 1\n",
    "\n",
    "print(a)"
   ]
  },
  {
   "cell_type": "markdown",
   "id": "62e3ee10",
   "metadata": {},
   "source": [
    "## 演習2\n",
    "xy平面上の複数の点の座標がタプルのリストで示されている。<br>\n",
    "a = [(3,4)(2,5)(4,1)(5,2)(2,5)]\n",
    "<br>\n",
    "この変数aからx,yそれぞれの平均を求めるプログラムを作成せよ。ただし、タプルやリストの要素の値を取り出すのに添字を使わないこと"
   ]
  },
  {
   "cell_type": "code",
   "execution_count": 34,
   "id": "e4126096",
   "metadata": {},
   "outputs": [
    {
     "name": "stdout",
     "output_type": "stream",
     "text": [
      "x: 3.2\n",
      "y: 3.4\n"
     ]
    }
   ],
   "source": [
    "a = [(3,4),(2,5),(4,1),(5,2),(2,5)]\n",
    "i = 0\n",
    "x = 0\n",
    "y = 0\n",
    "\n",
    "while i <= (len(a)-1):\n",
    "    x += a[i][0]\n",
    "    y += a[i][1]\n",
    "    i += 1\n",
    "print(\"x:\",x/len(a))\n",
    "print(\"y:\",y/len(a))\n",
    "\n",
    "# これでも動くことは動く"
   ]
  },
  {
   "cell_type": "code",
   "execution_count": 20,
   "id": "75dcc425",
   "metadata": {},
   "outputs": [
    {
     "name": "stdout",
     "output_type": "stream",
     "text": [
      "x: 3.2\n",
      "y: 3.4\n"
     ]
    }
   ],
   "source": [
    "a = [(3,4),(2,5),(4,1),(5,2),(2,5)]\n",
    "i = 0\n",
    "x0 = 0\n",
    "y0 = 0\n",
    "\n",
    "for x,y in a:\n",
    "    x0 += x\n",
    "    y0 += y\n",
    "print(\"x:\",x0/len(a))\n",
    "print(\"y:\",y0/len(a))\n"
   ]
  },
  {
   "cell_type": "markdown",
   "id": "d51783c8",
   "metadata": {},
   "source": [
    "## 演習3\n",
    "1から自然数$n$までの3乗和は次の式で表される\n",
    "\n",
    "$$\\sum_{k=1}^{n} k^3 =  \\left(\\frac{1}{2}n(n+1)\\right)^2$$\n",
    "\n",
    "これを確認するために$n$を10,12,35,49,53と変えて上式の右辺と左辺の値を比べるプログラムを作成せよ。"
   ]
  },
  {
   "cell_type": "markdown",
   "id": "4a08c487",
   "metadata": {},
   "source": [
    "```Python\n",
    "ns = [10,12,35,49,53]\n",
    "for n in ns:\n",
    "    lhs =                       # 左辺用の変数\n",
    "    for k in range(   ):\n",
    "        \n",
    "    rhs =                       # 右辺用の変数\n",
    "    print(\"n =\",n,\"lhs=\",lhs, \"rhs=\",rhs)\n",
    "```"
   ]
  },
  {
   "cell_type": "code",
   "execution_count": 33,
   "id": "7978e8ed",
   "metadata": {},
   "outputs": [
    {
     "name": "stdout",
     "output_type": "stream",
     "text": [
      "n = 10 lhs= 3025 rhs= 3025.0\n",
      "n = 12 lhs= 6084 rhs= 6084.0\n",
      "n = 35 lhs= 396900 rhs= 396900.0\n",
      "n = 49 lhs= 1500625 rhs= 1500625.0\n",
      "n = 53 lhs= 2047761 rhs= 2047761.0\n"
     ]
    }
   ],
   "source": [
    "ns = [10,12,35,49,53]\n",
    "for n in ns:\n",
    "    lhs = 0\n",
    "    for k in range(1, n+1):\n",
    "        lhs += k**3\n",
    "    rhs = (1/2 * n * (n+1))**2\n",
    "    print(\"n =\",n,\"lhs=\",lhs, \"rhs=\",rhs)"
   ]
  },
  {
   "cell_type": "markdown",
   "id": "a873d119",
   "metadata": {},
   "source": [
    "## markdown情報\n",
    "- 数式で指定するもの\n",
    "  - 中括弧$\\{$と$\\}$は\"\\ {\"と\"\\ }\"\n",
    "  - 分数$\\frac{1}{2}$は\"\\frac{1}{2}\" \n",
    "  - 合計 $\\sum_{i=1}^{n} x_i$ は \"\\sum_{i=1}^{n} x_i\"\n",
    "  - ***とすると仕切り線(水平線)となる\n",
    "  - Pythonのコード部分をmarkdownで表すには以下のように```python,と```を使う\n",
    "  - 実行結果はpythonの単語を省いて```だけ使えばよい(`はバックフォートという文字)"
   ]
  },
  {
   "cell_type": "markdown",
   "id": "42da46dc",
   "metadata": {},
   "source": [
    "```python\n",
    "for i in [1,2,3]:\n",
    "    print(i)\n",
    "```"
   ]
  }
 ],
 "metadata": {
  "kernelspec": {
   "display_name": "base",
   "language": "python",
   "name": "python3"
  },
  "language_info": {
   "codemirror_mode": {
    "name": "ipython",
    "version": 3
   },
   "file_extension": ".py",
   "mimetype": "text/x-python",
   "name": "python",
   "nbconvert_exporter": "python",
   "pygments_lexer": "ipython3",
   "version": "3.12.7"
  }
 },
 "nbformat": 4,
 "nbformat_minor": 5
}
