{
 "cells": [
  {
   "cell_type": "markdown",
   "id": "b321039f",
   "metadata": {},
   "source": [
    "# **プログラミング基礎第7回** \n",
    "**リスト内包表記と関数の定義**\n",
    "\n",
    "---"
   ]
  },
  {
   "cell_type": "markdown",
   "id": "1b49a6a4",
   "metadata": {},
   "source": [
    "### 今回の目標\n",
    "プログラムを整理して簡潔に作成する方法の習得\n",
    "- リスト内包表記:大量のデータを効率よく指定して保持する方法\n",
    "- 関数:処理手順の記述を効率化する方法\n",
    "- より短い行数でのプログラムの作成\n",
    "  - くどくなく(冗長でない)\n",
    "  - 見やすい(理解しやすい)\n",
    "  - 変更が楽"
   ]
  },
  {
   "cell_type": "markdown",
   "id": "be39bfe1",
   "metadata": {},
   "source": [
    "## **リスト内包表記**\n",
    "- 特定のパターンのリストを生成する方法\n",
    "- リストの値を並べるのではなく、値の範囲や条件を指定する\n",
    "- あるリストから要素を残したり加工して別のリストを作る\n",
    "- `for`文を使って数行で表現できる内容を1行で表す"
   ]
  },
  {
   "cell_type": "markdown",
   "id": "24a562cd",
   "metadata": {},
   "source": [
    "```Python\n",
    "[式 for ... in ...(オプションでforやif)]\n",
    "```"
   ]
  },
  {
   "cell_type": "code",
   "execution_count": 1,
   "id": "55dfdc13",
   "metadata": {},
   "outputs": [
    {
     "name": "stdout",
     "output_type": "stream",
     "text": [
      "[0, 2, 4, 6, 8]\n"
     ]
    }
   ],
   "source": [
    "a = []              # 空のリスト\n",
    "for n in range (5): # for文の場合\n",
    "    a.append(2*n)   # 2*nをaに追加\n",
    "print(a)"
   ]
  },
  {
   "cell_type": "code",
   "execution_count": 1,
   "id": "b026eaef",
   "metadata": {},
   "outputs": [
    {
     "name": "stdout",
     "output_type": "stream",
     "text": [
      "[0, 2, 4, 6, 8]\n"
     ]
    }
   ],
   "source": [
    "a = [2*n for n in range(5)] # リスト内包表記\n",
    "print(a)"
   ]
  },
  {
   "cell_type": "markdown",
   "id": "20a17f00",
   "metadata": {},
   "source": [
    "### 基本形\n",
    "- リストの要素に対してを適用する"
   ]
  },
  {
   "cell_type": "code",
   "execution_count": 2,
   "id": "bc9f81c9",
   "metadata": {},
   "outputs": [],
   "source": [
    "a = [3,8,2,9,6,4] # 元となるリスト"
   ]
  },
  {
   "cell_type": "code",
   "execution_count": 3,
   "id": "bf6b0f6d",
   "metadata": {},
   "outputs": [
    {
     "name": "stdout",
     "output_type": "stream",
     "text": [
      "[9, 64, 4, 81, 36, 16]\n"
     ]
    }
   ],
   "source": [
    "b = []              # 空のリストbを用意して\n",
    "for n in a:         # リストaの要素\n",
    "    b.append(n**2)  # 2乗の値を計算しbに追加\n",
    "print(b)"
   ]
  },
  {
   "cell_type": "code",
   "execution_count": 2,
   "id": "fd835d37",
   "metadata": {},
   "outputs": [
    {
     "name": "stdout",
     "output_type": "stream",
     "text": [
      "[0, 4, 16, 36, 64]\n"
     ]
    }
   ],
   "source": [
    "b = [ n**2 for n in a]\n",
    "print(b)"
   ]
  },
  {
   "cell_type": "markdown",
   "id": "9e46fbe8",
   "metadata": {},
   "source": [
    "### range()の例\n",
    "- `range()`関数で範囲を決めたnに対して式を適用"
   ]
  },
  {
   "cell_type": "code",
   "execution_count": 5,
   "id": "48ad9248",
   "metadata": {},
   "outputs": [
    {
     "name": "stdout",
     "output_type": "stream",
     "text": [
      "[0, 1, 4, 9, 16]\n"
     ]
    }
   ],
   "source": [
    "a = []              # for文で書いた場合\n",
    "for n in range(5):  # リストの指定とほぼ同じ\n",
    "    a.append(n**2)\n",
    "print(a)"
   ]
  },
  {
   "cell_type": "code",
   "execution_count": 6,
   "id": "5c14744d",
   "metadata": {},
   "outputs": [],
   "source": [
    "a = []"
   ]
  },
  {
   "cell_type": "markdown",
   "id": "0cbe9ae7",
   "metadata": {},
   "source": [
    "### 範囲限定\n",
    "- `for`で得た範囲をする"
   ]
  },
  {
   "cell_type": "code",
   "execution_count": 7,
   "id": "2bd08ba1",
   "metadata": {},
   "outputs": [
    {
     "name": "stdout",
     "output_type": "stream",
     "text": [
      "[0, 2, 4]\n"
     ]
    }
   ],
   "source": [
    "a = []\n",
    "for n in range(5):\n",
    "    if n%2 == 0:\n",
    "        a.append(n)\n",
    "print(a)"
   ]
  },
  {
   "cell_type": "code",
   "execution_count": 9,
   "id": "45d0eaf5",
   "metadata": {},
   "outputs": [
    {
     "name": "stdout",
     "output_type": "stream",
     "text": [
      "[0, 2, 4]\n"
     ]
    }
   ],
   "source": [
    "a = [n for n in range(5) if n%2 == 0]\n",
    "print(a)"
   ]
  },
  {
   "cell_type": "markdown",
   "id": "744b67d1",
   "metadata": {},
   "source": [
    "### 判断\n",
    "- `for`で得た範囲を条件に応じて加工する"
   ]
  },
  {
   "cell_type": "code",
   "execution_count": 10,
   "id": "aa95375d",
   "metadata": {},
   "outputs": [
    {
     "name": "stdout",
     "output_type": "stream",
     "text": [
      "[0, -1, 2, -3, 4, -5, 6, -7, 8, -9]\n"
     ]
    }
   ],
   "source": [
    "a = []  # 偶数はそのまま奇数はマイナス\n",
    "for n in range(10):\n",
    "    if n%2 == 0:\n",
    "        a.append(n)\n",
    "    else:\n",
    "        a.append(-n)\n",
    "print(a)"
   ]
  },
  {
   "cell_type": "code",
   "execution_count": 3,
   "id": "9e203d3a",
   "metadata": {},
   "outputs": [
    {
     "name": "stdout",
     "output_type": "stream",
     "text": [
      "[0, -1, 2, -3, 4, -5, 6, -7, 8, -9]\n"
     ]
    }
   ],
   "source": [
    "a = [n if n%2 == 0 else -n for n in range(10)]\n",
    "print(a)"
   ]
  },
  {
   "cell_type": "markdown",
   "id": "f4a84f68",
   "metadata": {},
   "source": [
    "### 条件式\n",
    "- 式1 if 条件 else 式2 の部分を条件式(三項演算子)と呼ぶ\n",
    "- まず条件を判断し、`True`ならば式1を評価して値を返す\n",
    "- `False`ならば式2を評価して値を返す\n",
    "- `for`文の例は以下のように書いても良い\n",
    "```Python\n",
    "a.append(n if n%2 == 0 else -n)\n",
    "```"
   ]
  },
  {
   "cell_type": "markdown",
   "id": "be07d217",
   "metadata": {},
   "source": [
    "```Python\n",
    "a = \n",
    "for n in range(10):\n",
    "    if n%2 == 0:\n",
    "        a.append(n)\n",
    "    else:\n",
    "        a.append(-n)\n",
    "\n",
    "[n if n%2 == 0 else -n for n in range(10)] \n",
    "```"
   ]
  },
  {
   "cell_type": "markdown",
   "id": "0ab4f74e",
   "metadata": {},
   "source": [
    "### 二重ループ\n",
    "- あるiについてjが0,1,2と変わる\n",
    "    - i=0で(0,0),(0,1),(0,2)\n",
    "    - i=1で(1,0),(1,1),(1,2)"
   ]
  },
  {
   "cell_type": "code",
   "execution_count": 2,
   "id": "62403d1f",
   "metadata": {},
   "outputs": [
    {
     "name": "stdout",
     "output_type": "stream",
     "text": [
      "[(0, 0), (0, 1), (0, 2), (1, 0), (1, 1), (1, 2)]\n"
     ]
    }
   ],
   "source": [
    "a = []\n",
    "for i in range(2):\n",
    "    for j in range(3):\n",
    "        a.append((i,j)) # タプルの追加\n",
    "print(a)"
   ]
  },
  {
   "cell_type": "code",
   "execution_count": 4,
   "id": "a4d5244a",
   "metadata": {},
   "outputs": [
    {
     "name": "stdout",
     "output_type": "stream",
     "text": [
      "[(0, 0), (0, 1), (0, 2), (1, 0), (1, 1), (1, 2)]\n"
     ]
    }
   ],
   "source": [
    "a = [(i,j) for i in range(2) for j in range(3)]\n",
    "print(a)"
   ]
  },
  {
   "cell_type": "markdown",
   "id": "5de7bd11",
   "metadata": {},
   "source": [
    "### リストのリスト\n",
    "- 内側のループでa[i]に要素を追加している "
   ]
  },
  {
   "cell_type": "code",
   "execution_count": 5,
   "id": "08561121",
   "metadata": {},
   "outputs": [
    {
     "name": "stdout",
     "output_type": "stream",
     "text": [
      "[[0, 1, 2, 3], [1, 2, 3, 4], [2, 3, 4, 5]]\n"
     ]
    }
   ],
   "source": [
    "a = []\n",
    "for i in range(3):\n",
    "    b = []\n",
    "    for j in range(i,i+4):\n",
    "        b.append(j)\n",
    "    a.append(b)\n",
    "print(a)"
   ]
  },
  {
   "cell_type": "markdown",
   "id": "27704781",
   "metadata": {},
   "source": [
    "- 内側の[]の位置に注意する\n",
    "  - リスト内包表記が入れ子になっている\n",
    "  - 式の結果がリスト([])なので、リストが並ぶことになる"
   ]
  },
  {
   "cell_type": "code",
   "execution_count": 7,
   "id": "e93c4ea2",
   "metadata": {},
   "outputs": [
    {
     "name": "stdout",
     "output_type": "stream",
     "text": [
      "[[0, 1, 2, 3], [1, 2, 3, 4], [2, 3, 4, 5]]\n"
     ]
    }
   ],
   "source": [
    "a = [[j for j in range(i,i+4)]for i in range(3)]\n",
    "print(a)"
   ]
  },
  {
   "cell_type": "markdown",
   "id": "a81dc43f",
   "metadata": {},
   "source": [
    "## **関数の定義**\n",
    "### 数学の関数とは\n",
    "- 例\n",
    "  - 三角関数($\\sin$,$\\cos$,$\\tan$)...\n",
    "  - 微分方程式,などなど\n",
    "- 二つの考え方がある\n",
    "  - ある変数に依存して決まる値や式\n",
    "    - 独立変数と従属変数\n",
    "    - 定義域と値域\n",
    "  - 数の集合の対応関係\n",
    "    - 写像,合成,全射,単射,逆  "
   ]
  },
  {
   "cell_type": "markdown",
   "id": "74bf5880",
   "metadata": {},
   "source": [
    "### プログラムにおける関数\n",
    "こちらは三つの考え方\n",
    "- 数学的な関数\n",
    "- 処理の並びに名前を付けたもの\n",
    "  - この講義で扱う内容\n",
    "  - 名前を指定することで一連の処理を行わせる\n",
    "  - オプションの指定で異なった内容を指示することもある\n",
    "- ラムダ計算\n",
    "  - 詳細を知らずに終わる人も多数いるが、プログラミングにおける考え方はとても大事\n",
    "<br> \n",
    "#### 用語の確認\n",
    "- **プログラム** :　コンピュータに行わせる指示をまとめたもの\n",
    "- **プログラミング** :プログラムを作成する行為"
   ]
  },
  {
   "cell_type": "markdown",
   "id": "5af64a09",
   "metadata": {},
   "source": [
    "### 関数の定義\n",
    "- **関数定義**:関数を作ること\n",
    "  - 関数名(識別子)と0個以上の仮引数(かりひきすう)を決める\n",
    "    - 関数名は変数と同じルールで名前をつける(第2回資料)\n",
    "    - 長い名前は下線文字で区切る慣習がある(例:`get_string`)\n",
    "  - 関数としてまとめたい処理を並べる\n",
    "  - 結果を返す場合には`return`文を指定する(戻り値の指定) "
   ]
  },
  {
   "cell_type": "markdown",
   "id": "99700745",
   "metadata": {},
   "source": [
    "```Python\n",
    "def 関数名 (仮引数1,仮引数2,...):\n",
    "    # 関数の中の処理(if文と同じインデント)\n",
    "    ...\n",
    "    ...\n",
    "    return 戻り値 # 結果を返す場合\n",
    "```"
   ]
  },
  {
   "cell_type": "markdown",
   "id": "59a46a11",
   "metadata": {},
   "source": [
    "### 関数の呼び出し\n",
    "- **関数呼び出し**:関数を使うこと\n",
    "  - 値や式を指定する場所で関数名とーの並びを指定する\n",
    "  - 何度呼び出してもよい\n",
    "  - 関数が戻り値を持つ場合には、代入文を使う"
   ]
  },
  {
   "cell_type": "markdown",
   "id": "22017646",
   "metadata": {},
   "source": [
    "```Python\n",
    "関数名(実引数1,実引数2,...)\n",
    "または\n",
    "変数 = 関数名(実引数1,実引数2,...)\n",
    "```"
   ]
  },
  {
   "cell_type": "markdown",
   "id": "45347df1",
   "metadata": {},
   "source": [
    "### 用語の確認\n",
    "- `def`は予約語\n",
    "  - 変数名には使えない\n",
    "  - **defination**:定義の省略\n",
    "- ー:\n",
    "  - 関数定義で使う変数\n",
    "  - 初期値は呼び出し時に指定される\n",
    "  - 呼び出されるまで「仮」に置く変数という意味\n",
    "  - 仮引数のない関数は丸括弧のみを指定する\n",
    "- ー:\n",
    "  - 関数で処理した結果を呼び出し元に返す際の指定\n",
    "  - `return`という予約語を指定する\n",
    "\n",
    "実引数や戻り値には`int`,`float`,`str`,`bool`,`list`,`tuple`などのどの型や変数でも指定できる"
   ]
  },
  {
   "cell_type": "markdown",
   "id": "c5a1c7cc",
   "metadata": {},
   "source": [
    "### add関数の例\n",
    "- 関数`add`,仮引数aとb\n",
    "- 処理内容:加算した結果を返す"
   ]
  },
  {
   "cell_type": "code",
   "execution_count": 4,
   "id": "fedddf8b",
   "metadata": {},
   "outputs": [],
   "source": [
    "def add(a,b):   # 末尾にコロンが必要\n",
    "    c = a + b   # インデント\n",
    "    return c    # 式の指定も可"
   ]
  },
  {
   "cell_type": "code",
   "execution_count": 5,
   "id": "782e3300",
   "metadata": {},
   "outputs": [
    {
     "name": "stdout",
     "output_type": "stream",
     "text": [
      "3\n",
      "12\n"
     ]
    }
   ],
   "source": [
    "x =  add(1,2)  # addを使って変数を作る\n",
    "print(x)\n",
    "y = 5\n",
    "z = 7\n",
    "print(add(y,z)) # addの結果をprintで使う"
   ]
  },
  {
   "cell_type": "markdown",
   "id": "d40aa67d",
   "metadata": {},
   "source": [
    "### 複数のreturn文を持つ関数\n",
    "- 関数`diff_plus`,仮引数aとb\n",
    "- 処理内容:差分を0または正の値として返す  "
   ]
  },
  {
   "cell_type": "code",
   "execution_count": 6,
   "id": "6ba4775b",
   "metadata": {},
   "outputs": [],
   "source": [
    "def diff_plus(a,b):\n",
    "    if a > b:\n",
    "        return a-b  # returnは複数でも良い\n",
    "    else:\n",
    "        return b-a  # どれかが使用される"
   ]
  },
  {
   "cell_type": "code",
   "execution_count": 7,
   "id": "ef113864",
   "metadata": {},
   "outputs": [
    {
     "name": "stdout",
     "output_type": "stream",
     "text": [
      "1\n",
      "2\n"
     ]
    }
   ],
   "source": [
    "x = diff_plus(1,2)\n",
    "print(x)\n",
    "y = 5\n",
    "z = 7\n",
    "print(diff_plus(y,z))"
   ]
  },
  {
   "cell_type": "markdown",
   "id": "d6cb05f7",
   "metadata": {},
   "source": [
    "### 仮引数のない関数\n",
    "- 関数`n2sum`\n",
    "- 処理内容1,4,9,16と言った二乗の値の和を返す"
   ]
  },
  {
   "cell_type": "code",
   "execution_count": 8,
   "id": "c1de98ce",
   "metadata": {},
   "outputs": [],
   "source": [
    "def n2sum():\n",
    "    x = 0\n",
    "    for i in range(1,10):\n",
    "        x += i**2\n",
    "    return x"
   ]
  },
  {
   "cell_type": "code",
   "execution_count": 10,
   "id": "56ad6b4f",
   "metadata": {},
   "outputs": [
    {
     "name": "stdout",
     "output_type": "stream",
     "text": [
      "285\n"
     ]
    }
   ],
   "source": [
    "a = n2sum() #実引数もなし\n",
    "print(a)"
   ]
  },
  {
   "cell_type": "markdown",
   "id": "e484b932",
   "metadata": {},
   "source": [
    "### 戻り値のない関数\n",
    "- 関数名`print_at_mark`\n",
    "- 処理内容:指定した数の@を出力する\n",
    "- 値指定のない`return`に注意する\n",
    "  - この`return`は制御を呼び出しもとに返すという意味合いになる"
   ]
  },
  {
   "cell_type": "code",
   "execution_count": 18,
   "id": "09417bb9",
   "metadata": {},
   "outputs": [],
   "source": [
    "def print_at_mark(n):\n",
    "    if n <= 0:\n",
    "        return  # 処理終了、呼び出し元に戻る\n",
    "    for n in range(0,n):\n",
    "        print(\"@\", end='')\n",
    "    print()\n",
    "    return  # これは省略可能"
   ]
  },
  {
   "cell_type": "code",
   "execution_count": 19,
   "id": "8310589e",
   "metadata": {},
   "outputs": [
    {
     "name": "stdout",
     "output_type": "stream",
     "text": [
      "@@@\n",
      "@@@@@\n"
     ]
    }
   ],
   "source": [
    "print_at_mark(3)\n",
    "print_at_mark(5)\n",
    "print_at_mark(0)"
   ]
  },
  {
   "cell_type": "markdown",
   "id": "86d314dd",
   "metadata": {},
   "source": [
    "### bool型を返す関数\n",
    "- `bool`を返す関数は条件判定に利用するので特に重要"
   ]
  },
  {
   "cell_type": "code",
   "execution_count": 20,
   "id": "ea59d123",
   "metadata": {},
   "outputs": [],
   "source": [
    "def eq10(n):\n",
    "    if n == 10:\n",
    "        return True\n",
    "    else:\n",
    "        return False"
   ]
  },
  {
   "cell_type": "markdown",
   "id": "214049bf",
   "metadata": {},
   "source": [
    "- `return`には式も指定できるのでもっと短く書ける"
   ]
  },
  {
   "cell_type": "code",
   "execution_count": 21,
   "id": "ccd819de",
   "metadata": {},
   "outputs": [],
   "source": [
    "def eq10b(n):\n",
    "    return n == 10  # 結果はbool型"
   ]
  },
  {
   "cell_type": "code",
   "execution_count": 23,
   "id": "54a48157",
   "metadata": {},
   "outputs": [
    {
     "name": "stdout",
     "output_type": "stream",
     "text": [
      "False\n",
      "OK\n"
     ]
    }
   ],
   "source": [
    "print(eq10(5))\n",
    "if eq10b(10):   # 関数の結果をif文で使う\n",
    "    print('OK')"
   ]
  },
  {
   "cell_type": "markdown",
   "id": "816adc1e",
   "metadata": {},
   "source": [
    "### リストをやり取りする関数\n",
    "- 関数`select3`,仮引数`x`\n",
    "- 処理内容:仮引数リストxから3の倍数の値のみのリストを返す"
   ]
  },
  {
   "cell_type": "code",
   "execution_count": 24,
   "id": "e2f9e28c",
   "metadata": {},
   "outputs": [],
   "source": [
    "def select3(x):\n",
    "    a = []\n",
    "    for e in x:\n",
    "        if e % 3 == 0:\n",
    "            a.append(e)\n",
    "    return a"
   ]
  },
  {
   "cell_type": "code",
   "execution_count": 25,
   "id": "604dfbf4",
   "metadata": {},
   "outputs": [],
   "source": [
    "def select3b(x):    # リスト内包表記でもよい\n",
    "    return[n for n in x if n%3==0]"
   ]
  },
  {
   "cell_type": "code",
   "execution_count": 27,
   "id": "a65c43dc",
   "metadata": {},
   "outputs": [
    {
     "name": "stdout",
     "output_type": "stream",
     "text": [
      "[3, 6, 9]\n",
      "[3, 6, 9]\n",
      "[3, 6, 9]\n"
     ]
    }
   ],
   "source": [
    "print(select3([1,2,3,4,5,6,7,8,9]))\n",
    "print(select3(range(1,10)))\n",
    "print(select3b(range(1,10)))"
   ]
  },
  {
   "cell_type": "markdown",
   "id": "be001c3b",
   "metadata": {},
   "source": [
    "## **スコープ**"
   ]
  },
  {
   "cell_type": "markdown",
   "id": "bf3ac775",
   "metadata": {},
   "source": [
    "### 同一名の変数\n",
    "- 関数の中で定義された変数はその関数固有の範囲を持つ\n",
    "- 関数内の変数は呼び出し時に作成され、戻る時に廃棄される\n",
    "- 関数の外側で同一名の変数があっても良い"
   ]
  },
  {
   "cell_type": "code",
   "execution_count": 29,
   "id": "27d31e6b",
   "metadata": {},
   "outputs": [
    {
     "name": "stdout",
     "output_type": "stream",
     "text": [
      "10315310\n"
     ]
    }
   ],
   "source": [
    "x = 10                  # 関数とは無関係な変数\n",
    "def func1(x):           # 仮引数も関数内のみ有効\n",
    "    print(x,end='')\n",
    "    x = 5               # func1の仮引数が対象\n",
    "    print(x,end='')\n",
    "\n",
    "def func2(x):\n",
    "    x = 3\n",
    "    print(x,end='')\n",
    "    func1(1)\n",
    "    print(x,end='')\n",
    "\n",
    "print(x,end='')\n",
    "func2(x)\n",
    "print(x)"
   ]
  },
  {
   "cell_type": "markdown",
   "id": "1f405a63",
   "metadata": {},
   "source": [
    "### 同一名の変数\n",
    "- 元々あった同一名の変数名は関数呼び出しで一時的に見えなくなる\n",
    "- `return`とともに再使用できるようになる\n",
    "- 下記は3個の$x$の使用されている範囲とその値な関係を示す\n",
    "  - 矢印が上に進むと関数呼び出す,下に進むと`return`を表す"
   ]
  },
  {
   "cell_type": "markdown",
   "id": "af0f7343",
   "metadata": {},
   "source": [
    "### 変数のスコープ\n",
    "\n",
    "- スコープ:ある変数の値を参照,変更可能な範囲\n",
    "- スコープの種類\n",
    "  - ローカルスコープ(局所スコープ):\n",
    "    - ある範囲内(関数の中など)でのみ有効\n",
    "    - ローカル変数\n",
    "  - グローバルスコープ(大域スコープ):\n",
    "    - プログラムファイル全体で有効\n",
    "    - モジュールスコープとも呼ばれる\n",
    "    - グローバル変数\n",
    "  - ビルトインスコープ\n",
    "    - `print()`など最初から組み込まれた関数などのスコープ\n",
    "    - 変わることがないので意識しなくてもよい"
   ]
  },
  {
   "cell_type": "markdown",
   "id": "d5960fe9",
   "metadata": {},
   "source": [
    "### ローカル変数とグローバル変数の例\n",
    "- 下記の例では`add()`の$w$変数と`main()`の$w$の別変数"
   ]
  },
  {
   "cell_type": "code",
   "execution_count": 3,
   "id": "ecbd112c",
   "metadata": {},
   "outputs": [
    {
     "name": "stdout",
     "output_type": "stream",
     "text": [
      "40\n"
     ]
    }
   ],
   "source": [
    "z = 10                  # グローバル変数\n",
    "\n",
    "def add(x,y):\n",
    "    w = x + y + z       # ローカル変数 w,x,y\n",
    "    return w\n",
    "\n",
    "def main():\n",
    "    a=10                # ローカル変数 a\n",
    "    b=20                # ローカル変数 b\n",
    "    w = add (a,b)       # ローカル変数 w,a,b\n",
    "    print(w)\n",
    "\n",
    "main()"
   ]
  },
  {
   "cell_type": "markdown",
   "id": "d8f34cab",
   "metadata": {},
   "source": [
    "### Jupyter Notebookとグローバル変数\n",
    "\n",
    "- JupyterNotebookでは入力欄が変わってもグローバル関数や関数定義は有効である\n",
    "- 入力欄で上下よりも番号が重要である"
   ]
  },
  {
   "cell_type": "code",
   "execution_count": 4,
   "id": "335a3833",
   "metadata": {},
   "outputs": [],
   "source": [
    "z = 10          # グローバル関数\n",
    "def add(x,y):\n",
    "    w = x + y   # addにローカル関数\n",
    "    return w"
   ]
  },
  {
   "cell_type": "code",
   "execution_count": 5,
   "id": "af170a06",
   "metadata": {},
   "outputs": [
    {
     "name": "stdout",
     "output_type": "stream",
     "text": [
      "40\n"
     ]
    }
   ],
   "source": [
    "def main():\n",
    "    a=10               # ローカル変数a\n",
    "    b=20               # ローカル変数b\n",
    "    w = add(a,b)+z     # zは前の欄で作成\n",
    "    print(w)\n",
    "\n",
    "main()"
   ]
  },
  {
   "cell_type": "markdown",
   "id": "b1b06dd8",
   "metadata": {},
   "source": [
    "## **まとめ**\n",
    "- リスト内包表記\n",
    "  - リストの要素の条件を指定してリストを生成する方法\n",
    "  - 一行で様々な形式のリストを作成できる\n",
    "- 関数定義\n",
    "  - 処理に名前を付けた再利用する枠組み\n",
    "  - 関数名、仮引数、戻り値を定義時に決める\n",
    "  - 呼び出し時に実引数を指定する\n",
    "  - `return`文\n",
    "    - 関数の制御を呼び出し元に戻す文\n",
    "    - 式を指定して戻り値を指定できる\n",
    "- スコープ\n",
    "  - 関数に対応した変数の有効範囲\n",
    "  - グローバル変数とローカル変数を分けて考える\n",
    "  - グローバル変数は少ないほどプログラムの管理が楽になる"
   ]
  }
 ],
 "metadata": {
  "kernelspec": {
   "display_name": "base",
   "language": "python",
   "name": "python3"
  },
  "language_info": {
   "codemirror_mode": {
    "name": "ipython",
    "version": 3
   },
   "file_extension": ".py",
   "mimetype": "text/x-python",
   "name": "python",
   "nbconvert_exporter": "python",
   "pygments_lexer": "ipython3",
   "version": "3.12.7"
  }
 },
 "nbformat": 4,
 "nbformat_minor": 5
}
