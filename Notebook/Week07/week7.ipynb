{
 "cells": [
  {
   "cell_type": "markdown",
   "id": "a19898a5",
   "metadata": {},
   "source": [
    "# プログラミング基礎第7回\n"
   ]
  },
  {
   "cell_type": "markdown",
   "id": "085e881a",
   "metadata": {},
   "source": [
    "## 演習1"
   ]
  },
  {
   "cell_type": "markdown",
   "id": "7ad335db",
   "metadata": {},
   "source": [
    "空欄を埋めて二つの関数を完成させよ\n",
    "- `avg(a)`:数値リストaの平均値を返す\n",
    "- `abglist(a)`:数値リストのリストaから各平均値のリストを返す\n",
    "  - どちらもリストはタプルでもよい"
   ]
  },
  {
   "cell_type": "code",
   "execution_count": 14,
   "id": "0b70ab21",
   "metadata": {},
   "outputs": [
    {
     "name": "stdout",
     "output_type": "stream",
     "text": [
      "87.2 [87.2, 87.0, 2.0]\n"
     ]
    }
   ],
   "source": [
    "def avg(a):\n",
    "    return sum(a) / len(a)\n",
    "\n",
    "def avglist(a):\n",
    "    x = []\n",
    "    for e in a:\n",
    "        x.append(avg(e))\n",
    "    return x\n",
    "\n",
    "x = [78,95,87,84,92]\n",
    "y = (77,96,88)\n",
    "print(avg(x), avglist([x, y, (1,2,3)]))"
   ]
  },
  {
   "cell_type": "markdown",
   "id": "12306e3c",
   "metadata": {},
   "source": [
    "## 演習2"
   ]
  },
  {
   "cell_type": "markdown",
   "id": "b517cabf",
   "metadata": {},
   "source": [
    "空欄を埋めて二つの関数を完成させよ。\n",
    "- `ampl(a,x)`:数値リストaの各要素をX倍したリストを返す\n",
    "- `prod(a)`:数値リストの要素の積を計算する"
   ]
  },
  {
   "cell_type": "code",
   "execution_count": 26,
   "id": "60e0fa23",
   "metadata": {},
   "outputs": [
    {
     "name": "stdout",
     "output_type": "stream",
     "text": [
      "[2, 4, 6, 8, 10]\n",
      "120 3840\n"
     ]
    }
   ],
   "source": [
    "def ampl(a, x):\n",
    "    return [e*x for e in a]\n",
    "\n",
    "b = [1,2,3,4,5]\n",
    "\n",
    "print(ampl(b, 2))   #まずはここまで作る\n",
    "\n",
    "def prod(a):\n",
    "    x = 1\n",
    "    for e in a:\n",
    "        x *= e\n",
    "    return x\n",
    "print(prod(b),prod(ampl(b,2)))  # 提出する\n"
   ]
  },
  {
   "cell_type": "markdown",
   "id": "b275c730",
   "metadata": {
    "vscode": {
     "languageId": "plaintext"
    }
   },
   "source": [
    "## 演習3"
   ]
  },
  {
   "cell_type": "markdown",
   "id": "d145d0fc",
   "metadata": {},
   "source": [
    "二つの関数を作成せよ。\n",
    "- `fact(n)`:前演習の`prod()`を使って$n!$を計算する\n",
    "- `combi(n,k)`:n個からk個取り出す組み合わせ${}_n C_k$を計算する\n",
    "  - ${}_n C_k = \\frac{n!}{k!(n-k)!}$ の計算を用いる\n",
    "  - 結果が必ず整数になることに注意する"
   ]
  },
  {
   "cell_type": "code",
   "execution_count": 74,
   "id": "d8d6d1c4",
   "metadata": {},
   "outputs": [
    {
     "name": "stdout",
     "output_type": "stream",
     "text": [
      "[1, 1, 2, 6, 24]\n",
      "[1, 4, 6, 4, 1]\n"
     ]
    }
   ],
   "source": [
    "# fact関数とcombi関数をそれぞれ定義する\n",
    "def fact(n):\n",
    "    return prod([1+n for n in range(n)])\n",
    "\n",
    "def combi(n, k):\n",
    "    return fact(n) // (fact(k) * fact(n - k))\n",
    "\n",
    "print([fact(x) for x in range(0,5)])\n",
    "print([combi(4, x) for x in range(0,5)])"
   ]
  }
 ],
 "metadata": {
  "kernelspec": {
   "display_name": "base",
   "language": "python",
   "name": "python3"
  },
  "language_info": {
   "codemirror_mode": {
    "name": "ipython",
    "version": 3
   },
   "file_extension": ".py",
   "mimetype": "text/x-python",
   "name": "python",
   "nbconvert_exporter": "python",
   "pygments_lexer": "ipython3",
   "version": "3.12.7"
  }
 },
 "nbformat": 4,
 "nbformat_minor": 5
}
