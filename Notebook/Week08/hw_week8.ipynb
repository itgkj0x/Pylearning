{
 "cells": [
  {
   "cell_type": "markdown",
   "id": "e49e8154",
   "metadata": {},
   "source": [
    "# **プログラミング基礎第8回**\n",
    "**行列の扱い(Numpy)**\n",
    "\n",
    "---"
   ]
  },
  {
   "cell_type": "markdown",
   "id": "31600ae3",
   "metadata": {},
   "source": [
    "## **Numpyの基本**"
   ]
  },
  {
   "cell_type": "markdown",
   "id": "7a70fcc9",
   "metadata": {},
   "source": [
    "### 複数の数をまとめて扱う\n",
    "\n",
    "- リストを使うと複数の値をまとめて扱える\n",
    "- しかし、リストはベクトルや行列の計算には向いていない\n",
    "- リストの目的は複数の値をまとめることであって、計算が目的ではないためである\n",
    "\n",
    "加算ではなく連結になってしまう例:"
   ]
  },
  {
   "cell_type": "code",
   "execution_count": 1,
   "id": "89b6ff06",
   "metadata": {},
   "outputs": [
    {
     "name": "stdout",
     "output_type": "stream",
     "text": [
      "[1, 2, 3, 4, 5, 6, 7, 8]\n"
     ]
    }
   ],
   "source": [
    "a = [1,2,3,4]\n",
    "b = [5,6,7,8]\n",
    "print( a + b ) # 対応要素を加算したい"
   ]
  },
  {
   "cell_type": "markdown",
   "id": "aebbacf4",
   "metadata": {},
   "source": [
    "### 数値ライブラリNumPy\n",
    "\n",
    "Numpyは数値計算を簡単かつ高速に行うライブラリである<br>\n",
    "[トップページ](https://numpy.org/)の日本語訳\n",
    "\n",
    "> NumpyはPythonによる科学技術計算の基本パッケージです。<br>\n",
    "> 特に以下を含みます。\n",
    "> - 強力なN次元配列オブジェクト\n",
    "> - 洗練された関数\n",
    "> - C/C++とFortranコードと統合するためのツール\n",
    "> - 有用な線形代数,フーリエ変換,乱数機能"
   ]
  },
  {
   "cell_type": "code",
   "execution_count": 2,
   "id": "81b37a91",
   "metadata": {},
   "outputs": [],
   "source": [
    "import numpy # 使用できるかどうかの確認方法"
   ]
  },
  {
   "cell_type": "markdown",
   "id": "7ea439db",
   "metadata": {},
   "source": [
    "### 用語の確認\n",
    "\n",
    "**数値計算**\n",
    "\n",
    "方程式から得た解の数式に実際の値をあてはめたり、代数や解析の手法では解けない問題を実際に近似を使って解く計算のこと。\n",
    "\n",
    "**ライブラリ**\n",
    "\n",
    "libraryとは図書館。プログラミングではよく使われるプログラムの部品を集めたもの。通常は関数の形で使用できる。\n",
    "\n",
    "**モジュール**\n",
    "\n",
    "moduleとは各要素。Pythonでは、関係する関数の定義などのコードをまとめて扱う単位。\n",
    "\n",
    "**パッケージ**\n",
    "\n",
    "packageとは一括/梱包。pythonモジュールでは副モジュールで階層構造を構成でき、そのまとまりをパッケージと呼ぶ。\n",
    "\n",
    "**import**\n",
    "\n",
    "輸入/持ち込むの意味。pythonの予約語。モジュールを取り込んで使用できる状態にすることを意味する\n",
    "\n",
    "\n",
    "> 用語の使い方:<br>\n",
    "> パッケージAのモジュールをすべて取り込むには`import A`とする<br>\n",
    "> パッケージAのモジュールBを取り込むには`import B`とする"
   ]
  },
  {
   "cell_type": "markdown",
   "id": "6c1cd05f",
   "metadata": {},
   "source": [
    "### NumPyの基本"
   ]
  },
  {
   "cell_type": "code",
   "execution_count": 2,
   "id": "ad8653b5",
   "metadata": {},
   "outputs": [],
   "source": [
    "import numpy as np  #取り込んで名前をnpにする"
   ]
  },
  {
   "cell_type": "code",
   "execution_count": 3,
   "id": "bd5d7bbe",
   "metadata": {},
   "outputs": [
    {
     "name": "stdout",
     "output_type": "stream",
     "text": [
      "[ 7  9 11 13 15]\n"
     ]
    }
   ],
   "source": [
    "a = np.array([1,2,3,4,5])  # オブジェクトの作成\n",
    "b = np.array([6,7,8,9,10])\n",
    "print(a+b)  # 要素ごとの加算"
   ]
  },
  {
   "cell_type": "markdown",
   "id": "0228a583",
   "metadata": {},
   "source": [
    "- `import...as`はプログラム(一つのノート)の中で一度だけ行う\n",
    "- 上記は`numpy`全体を取り込んで、`np`という名前使う指定\n",
    "- 予約語`as`を指定しない場合には、上記の`np`を`numpy`と指定する\n",
    "- `np.array()`は、`numpy`独自の形式の値を返す関数\n",
    "  - 返された値は一般的にオブジェクトと呼ぶ形式\n",
    "- ここでは[1,2,3,4,5]などのリストを初期値と指定している"
   ]
  },
  {
   "cell_type": "markdown",
   "id": "1677dbed",
   "metadata": {},
   "source": [
    "### オブジェクトの確認"
   ]
  },
  {
   "cell_type": "code",
   "execution_count": 5,
   "id": "11f7d11e",
   "metadata": {},
   "outputs": [
    {
     "data": {
      "text/plain": [
       "[2, 3, 4, 5]"
      ]
     },
     "execution_count": 5,
     "metadata": {},
     "output_type": "execute_result"
    }
   ],
   "source": [
    "[2,3,4,5]   # リストの場合"
   ]
  },
  {
   "cell_type": "code",
   "execution_count": null,
   "id": "a10f7c77",
   "metadata": {},
   "outputs": [
    {
     "data": {
      "text/plain": [
       "array([2, 3, 4, 5])"
      ]
     },
     "execution_count": 5,
     "metadata": {},
     "output_type": "execute_result"
    }
   ],
   "source": [
    "np.array([2,3,4,5])     # オブジェクトの場合"
   ]
  },
  {
   "cell_type": "code",
   "execution_count": 7,
   "id": "38152c96",
   "metadata": {},
   "outputs": [
    {
     "data": {
      "text/plain": [
       "numpy.ndarray"
      ]
     },
     "execution_count": 7,
     "metadata": {},
     "output_type": "execute_result"
    }
   ],
   "source": [
    "type(np.array([2,3,4,5]))   # 型の確認   "
   ]
  },
  {
   "cell_type": "code",
   "execution_count": 8,
   "id": "36208869",
   "metadata": {},
   "outputs": [
    {
     "data": {
      "text/plain": [
       "numpy.ndarray"
      ]
     },
     "execution_count": 8,
     "metadata": {},
     "output_type": "execute_result"
    }
   ],
   "source": [
    "type(a) # 変数の型の確認"
   ]
  },
  {
   "cell_type": "code",
   "execution_count": 9,
   "id": "42073625",
   "metadata": {},
   "outputs": [
    {
     "data": {
      "text/plain": [
       "numpy.ndarray"
      ]
     },
     "execution_count": 9,
     "metadata": {},
     "output_type": "execute_result"
    }
   ],
   "source": [
    "type(a+b)   # 計算結果の型の確認"
   ]
  },
  {
   "cell_type": "markdown",
   "id": "b312bbbc",
   "metadata": {},
   "source": [
    "ndarrayはn次元配列(n-dimentional array)の省略語"
   ]
  },
  {
   "cell_type": "markdown",
   "id": "35cba9ab",
   "metadata": {},
   "source": [
    "### 表示結果に注意\n",
    "- printを使う場合と使わない場合とで結果表示が変わる"
   ]
  },
  {
   "cell_type": "code",
   "execution_count": 10,
   "id": "e790cde2",
   "metadata": {},
   "outputs": [
    {
     "data": {
      "text/plain": [
       "array([1, 2, 3, 4, 5])"
      ]
     },
     "execution_count": 10,
     "metadata": {},
     "output_type": "execute_result"
    }
   ],
   "source": [
    "np.array([1,2,3,4,5])"
   ]
  },
  {
   "cell_type": "code",
   "execution_count": 10,
   "id": "22a59ff8",
   "metadata": {},
   "outputs": [
    {
     "name": "stdout",
     "output_type": "stream",
     "text": [
      "[1 2 3 4 5]\n"
     ]
    }
   ],
   "source": [
    "print(np.array([1,2,3,4,5]))"
   ]
  },
  {
   "cell_type": "code",
   "execution_count": 12,
   "id": "7a648d80",
   "metadata": {},
   "outputs": [
    {
     "data": {
      "text/plain": [
       "array([1, 2, 3, 4, 5])"
      ]
     },
     "execution_count": 12,
     "metadata": {},
     "output_type": "execute_result"
    }
   ],
   "source": [
    "a   # 変数をそのまま評価"
   ]
  },
  {
   "cell_type": "code",
   "execution_count": 13,
   "id": "600770e3",
   "metadata": {},
   "outputs": [
    {
     "name": "stdout",
     "output_type": "stream",
     "text": [
      "[1 2 3 4 5]\n"
     ]
    }
   ],
   "source": [
    "print(a)    # printで変数aの中身を表示"
   ]
  },
  {
   "cell_type": "code",
   "execution_count": 14,
   "id": "1e268823",
   "metadata": {},
   "outputs": [
    {
     "name": "stdout",
     "output_type": "stream",
     "text": [
      "<class 'numpy.ndarray'>\n"
     ]
    }
   ],
   "source": [
    "print(type(a))  # printで変数aの型を表示"
   ]
  },
  {
   "cell_type": "markdown",
   "id": "1a421f23",
   "metadata": {},
   "source": [
    "### 整数と実数に注意\n",
    "- 要素に実数が混じると`print`の結果がわずかに変わる\n",
    "- 内部では整数と実数を区別して処理しているためである"
   ]
  },
  {
   "cell_type": "code",
   "execution_count": 15,
   "id": "56c6cab5",
   "metadata": {},
   "outputs": [
    {
     "name": "stdout",
     "output_type": "stream",
     "text": [
      "[1 2 3]\n",
      "[1. 2. 3.]\n"
     ]
    }
   ],
   "source": [
    "print(np.array([1,2,3]))\n",
    "print(np.array([1,2,3.0]))  # 実数を混ぜる"
   ]
  },
  {
   "cell_type": "markdown",
   "id": "749a4bf1",
   "metadata": {},
   "source": [
    "- 内部のデータ型は`dtype`属性で調べられる"
   ]
  },
  {
   "cell_type": "code",
   "execution_count": 16,
   "id": "cfa5ee85",
   "metadata": {},
   "outputs": [
    {
     "name": "stdout",
     "output_type": "stream",
     "text": [
      "float64 int32\n"
     ]
    }
   ],
   "source": [
    "a = np.array([1,2,3])\n",
    "a = np.array([1,2,3.0])     # 実数を混ぜる\n",
    "print(a.dtype , b.dtype)"
   ]
  },
  {
   "cell_type": "markdown",
   "id": "946b01db",
   "metadata": {},
   "source": [
    "### 配列要素の取り出しと配列の長さ\n",
    "- `numpy`配列の各要素は、リストと同様に、添字で指定できる\n",
    "- 先頭要素の添字は0である点に注意"
   ]
  },
  {
   "cell_type": "code",
   "execution_count": 17,
   "id": "cf3d7703",
   "metadata": {},
   "outputs": [
    {
     "name": "stdout",
     "output_type": "stream",
     "text": [
      "1 3\n",
      "[1 9 3 4]\n"
     ]
    }
   ],
   "source": [
    "a = np.array([1,2,3,4])\n",
    "print(a[0],a[2])\n",
    "a[1] = 9 #変更してもよい\n",
    "print(a)"
   ]
  },
  {
   "cell_type": "markdown",
   "id": "1045fea6",
   "metadata": {},
   "source": [
    "- 要素数もリスト同様に`len()`関数で分かる"
   ]
  },
  {
   "cell_type": "code",
   "execution_count": 18,
   "id": "3418978a",
   "metadata": {},
   "outputs": [
    {
     "data": {
      "text/plain": [
       "4"
      ]
     },
     "execution_count": 18,
     "metadata": {},
     "output_type": "execute_result"
    }
   ],
   "source": [
    "len(a)"
   ]
  },
  {
   "cell_type": "markdown",
   "id": "66518966",
   "metadata": {},
   "source": [
    "## **NumPyを使った計算**"
   ]
  },
  {
   "cell_type": "markdown",
   "id": "be4a6c05",
   "metadata": {},
   "source": [
    "### 単一の値と計算\n",
    "- `numpy`配列と単一の値との演算は、配列のすべての要素に対して同じ操作を行うことになる"
   ]
  },
  {
   "cell_type": "code",
   "execution_count": 27,
   "id": "a6f882f9",
   "metadata": {},
   "outputs": [
    {
     "name": "stdout",
     "output_type": "stream",
     "text": [
      "[2 4 6]\n"
     ]
    }
   ],
   "source": [
    "a = np.array([1,2,3])\n",
    "print(2*a)     # すべての要素を2倍"
   ]
  },
  {
   "cell_type": "code",
   "execution_count": 28,
   "id": "28d48e66",
   "metadata": {},
   "outputs": [
    {
     "name": "stdout",
     "output_type": "stream",
     "text": [
      "[ 4  7 10]\n"
     ]
    }
   ],
   "source": [
    "print(3*a+1)  # すべての要素を計算"
   ]
  },
  {
   "cell_type": "markdown",
   "id": "9ff5cd95",
   "metadata": {},
   "source": [
    ">数学では$n$個の数$x_1,x_2,....,x_n$の並びを$n$次元ベクトルと呼ぶ。\n",
    ">numpyを使うとベクトルやスカラー(単一の値)の積やベクトル同士の演算が「*」や「+」などの演算子でできる"
   ]
  },
  {
   "cell_type": "markdown",
   "id": "e783a2d1",
   "metadata": {},
   "source": [
    "### 内積\n",
    "\n",
    ">$n$次元ベクトル$x$,$y$に対して,$x \\circ y$を$x$と$y$の内積といい、\n",
    ">$$ x\\circ y = x_1y_1+x_2y_2+\\dots+x_ny_n = \\sum_{i=1}^{n}x_iy_i$$\n",
    ">と定義される\n",
    "\n",
    "- 二つの`numpy`配列に*を適用すると各要素の積が得られる\n",
    "- 内積を計算するには`np.dot()`関数または`@`演算子を使う"
   ]
  },
  {
   "cell_type": "code",
   "execution_count": 32,
   "id": "be2366cb",
   "metadata": {},
   "outputs": [
    {
     "name": "stdout",
     "output_type": "stream",
     "text": [
      "70\n",
      "70\n"
     ]
    }
   ],
   "source": [
    "a = np.array([1,2,3,4])\n",
    "b = np.array([5,6,7,8])\n",
    "print(np.dot(a,b)) # 関数を使った内積\n",
    "print(a@b) # 演算子の場合"
   ]
  },
  {
   "cell_type": "markdown",
   "id": "bba88694",
   "metadata": {},
   "source": [
    "#### 内積をmarkdownで書くには"
   ]
  },
  {
   "cell_type": "markdown",
   "id": "20fe78af",
   "metadata": {},
   "source": [
    "```Markdown\n",
    "$$ \n",
    "x\\circ y \n",
    "= x_1y_1+x_2y_2+\\dots+x_ny_n \n",
    "= \\sum_{i=1}^{n}x_iy_i\n",
    "$$\n",
    "```"
   ]
  },
  {
   "cell_type": "markdown",
   "id": "94179af5",
   "metadata": {},
   "source": [
    "## **複数次元の配列**"
   ]
  },
  {
   "cell_type": "markdown",
   "id": "58e0c339",
   "metadata": {},
   "source": [
    "### 2次元配列\n",
    "- リストを要素とするリストから2次元のリストができる\n",
    "- 同様に、numpyも1次元の配列(線形配列)を要素とする2次元配列が作れる\n",
    "- 以下の2次元配列は2行4列の行列($2\\times4$型の行列)とみなせる"
   ]
  },
  {
   "cell_type": "code",
   "execution_count": 20,
   "id": "a9229f7d",
   "metadata": {},
   "outputs": [
    {
     "name": "stdout",
     "output_type": "stream",
     "text": [
      "[[0 1 2 3]\n",
      " [4 5 6 7]]\n"
     ]
    }
   ],
   "source": [
    "c1 = np.array([[0,1,2,3],[4,5,6,7]])\n",
    "print(c1)"
   ]
  },
  {
   "cell_type": "code",
   "execution_count": 21,
   "id": "11bfa790",
   "metadata": {},
   "outputs": [
    {
     "name": "stdout",
     "output_type": "stream",
     "text": [
      "[[1 2 3 4]\n",
      " [6 7 8 9]]\n"
     ]
    }
   ],
   "source": [
    "c2 = np.array([[1,1,1,1],[2,2,2,2]])\n",
    "print(c1+c2)"
   ]
  },
  {
   "cell_type": "markdown",
   "id": "8fe51fca",
   "metadata": {},
   "source": [
    "### 2次元配列の要素の取り出しと配列の形\n",
    "- 2次元配列の要素も添字を使って指定できる"
   ]
  },
  {
   "cell_type": "code",
   "execution_count": 37,
   "id": "35997b00",
   "metadata": {},
   "outputs": [
    {
     "name": "stdout",
     "output_type": "stream",
     "text": [
      "[5 6 7 8] 7\n",
      "[[1 2 3 4]\n",
      " [5 6 7 9]]\n"
     ]
    }
   ],
   "source": [
    "a = np.array([[1,2,3,4],[5,6,7,8]])\n",
    "print(a[1],a[1][2])\n",
    "a[1][3] = 9\n",
    "print(a)"
   ]
  },
  {
   "cell_type": "markdown",
   "id": "e8e64cc9",
   "metadata": {},
   "source": [
    "- `len()`関数では行数がわかるだけでなく、配列の次元を得るには`shape`属性を使う。結果はタプルとして得られる"
   ]
  },
  {
   "cell_type": "code",
   "execution_count": 38,
   "id": "32063405",
   "metadata": {},
   "outputs": [
    {
     "name": "stdout",
     "output_type": "stream",
     "text": [
      "2\n",
      "(2, 4)\n"
     ]
    }
   ],
   "source": [
    "print(len(a))\n",
    "print(a.shape)"
   ]
  },
  {
   "cell_type": "markdown",
   "id": "dfed76d0",
   "metadata": {},
   "source": [
    "## **便利な関数**"
   ]
  },
  {
   "cell_type": "markdown",
   "id": "c368199c",
   "metadata": {},
   "source": [
    "### zeros,ones\n",
    "- 0や1の並びを作るには以下の関数を使う "
   ]
  },
  {
   "cell_type": "code",
   "execution_count": 40,
   "id": "808043a4",
   "metadata": {},
   "outputs": [
    {
     "name": "stdout",
     "output_type": "stream",
     "text": [
      "[0. 0. 0. 0. 0.]\n",
      "[0 0 0 0 0]\n"
     ]
    }
   ],
   "source": [
    "print(np.zeros(5))  # 実数0が5個\n",
    "print(np.zeros(5, dtype = int)) # 整数0が5個"
   ]
  },
  {
   "cell_type": "code",
   "execution_count": 41,
   "id": "4ee3365f",
   "metadata": {},
   "outputs": [
    {
     "name": "stdout",
     "output_type": "stream",
     "text": [
      "[1. 1. 1. 1. 1.]\n",
      "[1 1 1 1 1]\n"
     ]
    }
   ],
   "source": [
    "a = np.ones(5)  # 実数1が5個\n",
    "print(a)\n",
    "b = np.ones(5,dtype=int)    # 整数1が5個\n",
    "print(b)"
   ]
  },
  {
   "cell_type": "markdown",
   "id": "9134793b",
   "metadata": {},
   "source": [
    "### n次元配列での0や1の並び\n",
    "- `np.zeros()`関数と`np.ones`関数で2次元以上配列を作りたいという場合にはタプルで次元ごとの数を指定する"
   ]
  },
  {
   "cell_type": "code",
   "execution_count": 42,
   "id": "5f9ca58f",
   "metadata": {},
   "outputs": [
    {
     "name": "stdout",
     "output_type": "stream",
     "text": [
      "[[0. 0. 0.]\n",
      " [0. 0. 0.]]\n"
     ]
    }
   ],
   "source": [
    "a = np.zeros((2,3)) # 2行3列の2次元配列\n",
    "print(a)"
   ]
  },
  {
   "cell_type": "code",
   "execution_count": 43,
   "id": "eb947f97",
   "metadata": {},
   "outputs": [
    {
     "name": "stdout",
     "output_type": "stream",
     "text": [
      "[[[1. 1. 1. 1. 1.]\n",
      "  [1. 1. 1. 1. 1.]\n",
      "  [1. 1. 1. 1. 1.]\n",
      "  [1. 1. 1. 1. 1.]]\n",
      "\n",
      " [[1. 1. 1. 1. 1.]\n",
      "  [1. 1. 1. 1. 1.]\n",
      "  [1. 1. 1. 1. 1.]\n",
      "  [1. 1. 1. 1. 1.]]\n",
      "\n",
      " [[1. 1. 1. 1. 1.]\n",
      "  [1. 1. 1. 1. 1.]\n",
      "  [1. 1. 1. 1. 1.]\n",
      "  [1. 1. 1. 1. 1.]]]\n"
     ]
    }
   ],
   "source": [
    "b = np.ones((3,4,5))\n",
    "print(b)"
   ]
  },
  {
   "cell_type": "markdown",
   "id": "f8a3e4f4",
   "metadata": {},
   "source": [
    "### 順に並べたデータ\n",
    "- `np.arange()`関数は値を順にならべたデータを作り出す(array range)"
   ]
  },
  {
   "cell_type": "code",
   "execution_count": 44,
   "id": "c1ad46c3",
   "metadata": {},
   "outputs": [
    {
     "name": "stdout",
     "output_type": "stream",
     "text": [
      "[0 1 2 3 4]\n",
      "[0. 1. 2. 3. 4.]\n"
     ]
    }
   ],
   "source": [
    "print(np.arange(5)) # 5の前までの並び\n",
    "print(np.arange(5.0)) # 5の前までの並び"
   ]
  },
  {
   "cell_type": "code",
   "execution_count": 45,
   "id": "69a79449",
   "metadata": {},
   "outputs": [
    {
     "name": "stdout",
     "output_type": "stream",
     "text": [
      "[1 2 3 4]\n"
     ]
    }
   ],
   "source": [
    "print(np.arange(1,5))   # 開始の値を変更する場合"
   ]
  },
  {
   "cell_type": "code",
   "execution_count": 46,
   "id": "51f81339",
   "metadata": {},
   "outputs": [
    {
     "name": "stdout",
     "output_type": "stream",
     "text": [
      "[1 3 5 7 9]\n"
     ]
    }
   ],
   "source": [
    "print(np.arange(1,10,2))    # 増分の変更"
   ]
  },
  {
   "cell_type": "markdown",
   "id": "6d9e72f7",
   "metadata": {},
   "source": [
    ">使い方まとめ\n",
    ">```python\n",
    ">np.arange(開始,終了,増分,型)\n",
    ">```\n",
    ">- 括弧の[開始],[増分],[型]は省略できる\n",
    ">- [型]は`dtype=float`の形式指定(省略時には推測される)"
   ]
  },
  {
   "cell_type": "markdown",
   "id": "fbc1631e",
   "metadata": {},
   "source": [
    "### n次元で並べたデータ\n",
    "- np.arange()は1次元の配列を作り出すだけ\n",
    "- n次元に変換するにはnp.reshape()を適用する"
   ]
  },
  {
   "cell_type": "code",
   "execution_count": 47,
   "id": "234bf5bc",
   "metadata": {},
   "outputs": [
    {
     "name": "stdout",
     "output_type": "stream",
     "text": [
      "[0 1 2 3 4 5]\n",
      "[[0 1 2]\n",
      " [3 4 5]]\n"
     ]
    }
   ],
   "source": [
    "a = np.arange(6)\n",
    "b = np.reshape(a,(2,3)) # 2行3列の2次元配列\n",
    "print(a)\n",
    "print(b)"
   ]
  },
  {
   "cell_type": "markdown",
   "id": "2d816787",
   "metadata": {},
   "source": [
    "- `reshape()`を変数(または値)から指定する方法"
   ]
  },
  {
   "cell_type": "code",
   "execution_count": 48,
   "id": "f524366c",
   "metadata": {},
   "outputs": [
    {
     "name": "stdout",
     "output_type": "stream",
     "text": [
      "[[0 1]\n",
      " [2 3]\n",
      " [4 5]]\n"
     ]
    }
   ],
   "source": [
    "c = a.reshape((3,2))  # aの属性を使う\n",
    "print(c)"
   ]
  },
  {
   "cell_type": "markdown",
   "id": "ca17a8ad",
   "metadata": {},
   "source": [
    ">**`reshape()`の使い方**\n",
    ">- 変数のメソッド\n",
    ">```Python\n",
    ">変数.reshape((行,列))\n",
    ">```\n",
    ">- numpyの関数\n",
    ">```Python\n",
    ">np.reshape(変数,(行,列))\n",
    ">```"
   ]
  },
  {
   "cell_type": "markdown",
   "id": "6c9cc7fa",
   "metadata": {},
   "source": [
    "### 配列の形状確認\n",
    "- 配列の形状を調べるには`np.shape()`や`np.ndim()`を使う\n",
    "- 配列の総数を調べるには`np.size()`を使う\n",
    "- `numpy`変数の属性や組み込み関数の`len()`も使用可"
   ]
  },
  {
   "cell_type": "code",
   "execution_count": 49,
   "id": "4b5c7a55",
   "metadata": {},
   "outputs": [
    {
     "name": "stdout",
     "output_type": "stream",
     "text": [
      "(2, 3, 4) (2, 3, 4)\n",
      "3 3\n",
      "24 24\n"
     ]
    }
   ],
   "source": [
    "d = np.zeros((2,3,4))\n",
    "print(np.shape(d),d.shape)\n",
    "print(np.ndim(d),d.ndim)\n",
    "print(np.size(d),d.size)"
   ]
  },
  {
   "cell_type": "code",
   "execution_count": 50,
   "id": "6338fdbf",
   "metadata": {},
   "outputs": [
    {
     "name": "stdout",
     "output_type": "stream",
     "text": [
      "2 3 4\n"
     ]
    }
   ],
   "source": [
    "print(len(d),len(d[0]),len(d[0][0]))"
   ]
  },
  {
   "cell_type": "markdown",
   "id": "be9276c2",
   "metadata": {},
   "source": [
    "### 計算用の関数\n",
    "- 合計,平均,最小,最大を計算する関数がある"
   ]
  },
  {
   "cell_type": "code",
   "execution_count": 51,
   "id": "12688841",
   "metadata": {},
   "outputs": [
    {
     "name": "stdout",
     "output_type": "stream",
     "text": [
      "10 0 4\n",
      "10 0 4\n",
      "10 0 4\n",
      "2.0\n"
     ]
    }
   ],
   "source": [
    "a = np.arange(5)\n",
    "print(np.sum(a),np.min(a),np.max(a))\n",
    "print(a.sum(),a.min(),a.max())  # 上と同じ\n",
    "print(sum(a),min(a),max(a)) # 組み込み関数\n",
    "print(np.average(a))"
   ]
  },
  {
   "cell_type": "code",
   "execution_count": 52,
   "id": "a0c7db50",
   "metadata": {},
   "outputs": [
    {
     "ename": "AttributeError",
     "evalue": "'numpy.ndarray' object has no attribute 'average'",
     "output_type": "error",
     "traceback": [
      "\u001b[1;31m---------------------------------------------------------------------------\u001b[0m",
      "\u001b[1;31mAttributeError\u001b[0m                            Traceback (most recent call last)",
      "Cell \u001b[1;32mIn[52], line 1\u001b[0m\n\u001b[1;32m----> 1\u001b[0m \u001b[38;5;28mprint\u001b[39m(a\u001b[38;5;241m.\u001b[39maverage())\n",
      "\u001b[1;31mAttributeError\u001b[0m: 'numpy.ndarray' object has no attribute 'average'"
     ]
    }
   ],
   "source": [
    "print(a.average())  # なぜかこれはできない"
   ]
  },
  {
   "cell_type": "markdown",
   "id": "541b65aa",
   "metadata": {},
   "source": [
    "### 自作関数への適用\n",
    "- `numpy`配列は整数や実数と同じく関数で処理できる"
   ]
  },
  {
   "cell_type": "code",
   "execution_count": 53,
   "id": "d4ed1738",
   "metadata": {},
   "outputs": [],
   "source": [
    "def myfunc(x):  # 2倍して1足す関数\n",
    "    y = x*2 + 1\n",
    "    return y"
   ]
  },
  {
   "cell_type": "code",
   "execution_count": 54,
   "id": "21efc32b",
   "metadata": {},
   "outputs": [
    {
     "name": "stdout",
     "output_type": "stream",
     "text": [
      "[0 1 2 3 4] -> [1 3 5 7 9]\n"
     ]
    }
   ],
   "source": [
    "a = np.arange(5)\n",
    "b = myfunc(a)\n",
    "print(a,'->',b)"
   ]
  },
  {
   "cell_type": "code",
   "execution_count": 55,
   "id": "601cb66c",
   "metadata": {},
   "outputs": [
    {
     "name": "stdout",
     "output_type": "stream",
     "text": [
      "7\n"
     ]
    }
   ],
   "source": [
    "print(myfunc(3))    # 整数を関数に適用"
   ]
  },
  {
   "cell_type": "markdown",
   "id": "cf470bef",
   "metadata": {},
   "source": [
    "## **行列とベクトル**"
   ]
  },
  {
   "cell_type": "markdown",
   "id": "6c9314bf",
   "metadata": {},
   "source": [
    "### 行列とベクトルの積\n",
    "\n",
    "行列Aと縦ベクトルXの積は、行列Aの各行の行ベクトルとベクトルXとの内積を縦に並べたベクトルである。例えば、以下の計算となる\n",
    "\n",
    ">$$ \\left(\\begin{matrix} a & b \\\\ c & d \\end{matrix} \\right)\\left(\\begin{matrix} x \\\\ y \\end{matrix} \\right) = \\left(\\begin{matrix} ax + by \\\\ cx + dy \\end{matrix} \\right) $$\n"
   ]
  },
  {
   "cell_type": "markdown",
   "id": "7b070d7f",
   "metadata": {},
   "source": [
    "#### 行列をMarkdownで書くには\n",
    "$$ A = \\left(\\begin{matrix} a & b \\\\ c & d \\end{matrix} \\right)$$\n",
    "をMarkdownで書くには以下のように指定する\n",
    "\n",
    "```Markdown\n",
    "$$\n",
    "A = \\left(\n",
    "    \\begin{matrix}\n",
    "     a & b \\\\\n",
    "     c & d \n",
    "    \\end{matrix} \n",
    "    \\right)\n",
    "$$\n",
    "```"
   ]
  },
  {
   "cell_type": "markdown",
   "id": "c33a6c45",
   "metadata": {},
   "source": [
    "### 関数や演算子で積を計算\n",
    "- ${n}\\times{m}$の2次元配列とサイズ$m$の1次元配列を考える\n",
    "- `np.dot()`関数や`@`演算子を適用すると、行列とベクトルの積に対応する計算をする"
   ]
  },
  {
   "cell_type": "code",
   "execution_count": 56,
   "id": "a5e95cc0",
   "metadata": {},
   "outputs": [
    {
     "name": "stdout",
     "output_type": "stream",
     "text": [
      "[22 19]\n",
      "[22 19]\n"
     ]
    }
   ],
   "source": [
    "a = np.array([[1,2,3],[2,-1,4]])    # 2x3\n",
    "x = np.array([1,3,5])\n",
    "print(np.dot(a,x))\n",
    "print(a@x)"
   ]
  },
  {
   "cell_type": "markdown",
   "id": "d40b5861",
   "metadata": {},
   "source": [
    "### 行列式と逆行列の計算\n",
    "- `numpy`配列を行列と見立てて、行列式や逆行列も計算できる\n",
    "- ただし、計算誤差があるので注意する"
   ]
  },
  {
   "cell_type": "code",
   "execution_count": 57,
   "id": "64bd581e",
   "metadata": {},
   "outputs": [
    {
     "name": "stdout",
     "output_type": "stream",
     "text": [
      "-14.000000000000004\n",
      "-360.00000000000006\n"
     ]
    }
   ],
   "source": [
    "a = np.array([[2,6],[4,5]])\n",
    "print(np.linalg.det(a))     # 行列式\n",
    "b = np.array([[2,9,4],[7,5,3],[6,1,8]])\n",
    "print(np.linalg.det(b))"
   ]
  },
  {
   "cell_type": "code",
   "execution_count": 58,
   "id": "4735dc03",
   "metadata": {},
   "outputs": [
    {
     "name": "stdout",
     "output_type": "stream",
     "text": [
      "[[ 2.5  -3.25 -0.25]\n",
      " [ 0.5  -0.25 -0.25]\n",
      " [-2.    2.5   0.5 ]]\n"
     ]
    }
   ],
   "source": [
    "c = np.array([[2,4,3],[1,3,2],[3,1,4]])\n",
    "print(np.linalg.inv(c))     # 逆行列"
   ]
  },
  {
   "cell_type": "markdown",
   "id": "5ba1eec3",
   "metadata": {},
   "source": [
    "### 略語の確認\n",
    "- 線形代数\n",
    "  - `linear algebra` $\\longrightarrow$ `linalg`\n",
    "- 行列\n",
    "  - `determinant` $\\longrightarrow$ `det`\n",
    "- 逆行列\n",
    "  - `inverse matrix` $\\longrightarrow$ `inv`\n",
    "  - `np.linalg.inv(c)`"
   ]
  },
  {
   "cell_type": "markdown",
   "id": "a1e4e399",
   "metadata": {},
   "source": [
    "### 連立方程式と逆行列\n",
    "\n",
    "以下のような連立方程式を考える。\n",
    "$$ 2x + 3y = 350 $$\n",
    "$$ 5x + 6y = 800 $$\n",
    "\n",
    "$\n",
    "A = \\left(\n",
    "    \\begin{matrix}\n",
    "     a & b \\\\\n",
    "     c & d \n",
    "    \\end{matrix} \n",
    "    \\right),\n",
    "a = \\left(\n",
    "    \\begin{matrix}\n",
    "     x \\\\\n",
    "     y \n",
    "    \\end{matrix} \n",
    "    \\right),\n",
    "b = \\left(\n",
    "    \\begin{matrix}\n",
    "     350 \\\\\n",
    "     800 \n",
    "    \\end{matrix} \n",
    "    \\right)\n",
    "$\n",
    "とおくと、以下のように表せる。\n",
    "$$A_a=b$$\n",
    "逆行列$A^{-1}$が存在するならば$a$つまり\n",
    "$\\left(\n",
    "    \\begin{matrix}\n",
    "     x \\\\\n",
    "     y \n",
    "    \\end{matrix} \n",
    "\\right)$\n",
    "が求まる。\n",
    "$$A^{-1}A_a = A^{-1}b$$\n",
    "$$a = A^{-1}b$$"
   ]
  },
  {
   "cell_type": "markdown",
   "id": "19c7d086",
   "metadata": {},
   "source": [
    "### 行列の積\n",
    "- 二つの`numpy`配列に[]を適用すると各要素の積になる\n",
    "- 行列と考えて積を計算するには[]または[]を使う"
   ]
  },
  {
   "cell_type": "code",
   "execution_count": 59,
   "id": "456bd18d",
   "metadata": {},
   "outputs": [
    {
     "name": "stdout",
     "output_type": "stream",
     "text": [
      "[[ -2   2]\n",
      " [ 12 -12]]\n"
     ]
    }
   ],
   "source": [
    "a = np.array([[-1,2],[2,-4]])\n",
    "b = np.array([[2,1],[6,3]])\n",
    "print(a*b)      # 対応要素の積"
   ]
  },
  {
   "cell_type": "code",
   "execution_count": 60,
   "id": "1f2f5752",
   "metadata": {},
   "outputs": [
    {
     "name": "stdout",
     "output_type": "stream",
     "text": [
      "[[ 10   5]\n",
      " [-20 -10]]\n"
     ]
    }
   ],
   "source": [
    "print(a@b)  # 行列の積"
   ]
  },
  {
   "cell_type": "markdown",
   "id": "e23cee12",
   "metadata": {},
   "source": [
    "### 転置行列\n",
    "- 転置行列とは$m$行$n$列の行列$A$に対して$A$の$(i,j)$要素と$(j,i)$要素を入れ替えてできる$n$行$m$列の行列のことである\n",
    "- 数学では、$A$の転置行列を、$^tA$や$A^T$などと表す\n",
    "- `numpy`で転置行列を作るには関数だけではなく、`T`属性を使う"
   ]
  },
  {
   "cell_type": "code",
   "execution_count": 61,
   "id": "ad5f4927",
   "metadata": {},
   "outputs": [
    {
     "name": "stdout",
     "output_type": "stream",
     "text": [
      "[[ 0  1  2  3]\n",
      " [ 4  5  6  7]\n",
      " [ 8  9 10 11]]\n",
      "[[ 0  4  8]\n",
      " [ 1  5  9]\n",
      " [ 2  6 10]\n",
      " [ 3  7 11]]\n"
     ]
    }
   ],
   "source": [
    "a = np.arange(12).reshape((3,4))\n",
    "print(a)\n",
    "print(a.T)"
   ]
  },
  {
   "cell_type": "markdown",
   "id": "418f8b8d",
   "metadata": {},
   "source": [
    "## **まとめ**"
   ]
  },
  {
   "cell_type": "markdown",
   "id": "816dfd4f",
   "metadata": {},
   "source": [
    "- NumPyの基本\n",
    "  - `import numpy as np`\n",
    "  - `np.array`(リストで初期値指定)\n",
    "- NumPyを使った計算\n",
    "  - 単一値との四則演算\n",
    "  - 内積:`dot()`,`@`演算子\n",
    "- 複数次元の配列\n",
    "  - リストと同じ考え方\n",
    "- 便利な関数\n",
    "  - `zeros()`,`ones()`,`arange()`,`resharp()`\n",
    "  - `shape`,`ndim`,`size`,`sum`,`min`,`max`\n",
    "  - 自作関数への適用\n",
    "- 行列とベクトル\n",
    "  - `dot()`,`@`演算子\n",
    "  - 行列式,逆行列、行列の積、転置行列"
   ]
  }
 ],
 "metadata": {
  "kernelspec": {
   "display_name": "base",
   "language": "python",
   "name": "python3"
  },
  "language_info": {
   "codemirror_mode": {
    "name": "ipython",
    "version": 3
   },
   "file_extension": ".py",
   "mimetype": "text/x-python",
   "name": "python",
   "nbconvert_exporter": "python",
   "pygments_lexer": "ipython3",
   "version": "3.12.7"
  }
 },
 "nbformat": 4,
 "nbformat_minor": 5
}
