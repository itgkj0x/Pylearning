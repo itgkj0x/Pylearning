{
 "cells": [
  {
   "cell_type": "markdown",
   "id": "bade79b1",
   "metadata": {},
   "source": [
    "# プログラミング基礎第8回\n",
    "\n",
    "---"
   ]
  },
  {
   "cell_type": "code",
   "execution_count": 3,
   "id": "727ec358",
   "metadata": {},
   "outputs": [],
   "source": [
    "import numpy as np"
   ]
  },
  {
   "cell_type": "markdown",
   "id": "0dfddf6a",
   "metadata": {},
   "source": [
    "# 演習1\n",
    "- NumPyの`@`演算子を利用して以下の計算を行いなさい\n",
    "- 縦ベクトルの表示はすべて横向きでよい\n",
    "$$(1) A = \\left(\n",
    "    \\begin{matrix}\n",
    "     1 & 2 \\\\\n",
    "     3 & 4 \n",
    "    \\end{matrix} \n",
    "    \\right)\n",
    "    \\left(\n",
    "    \\begin{matrix}\n",
    "     5 \\\\\n",
    "     6 \n",
    "    \\end{matrix} \n",
    "    \\right)\n",
    "$$\n",
    "$$(2) A = \\left(\n",
    "    \\begin{matrix}\n",
    "     1 & 3 & 5 \\\\\n",
    "     7 & 9 & 11\n",
    "    \\end{matrix} \n",
    "    \\right)\n",
    "    \\left(\n",
    "    \\begin{matrix}\n",
    "     2 \\\\\n",
    "     4 \\\\\n",
    "     6\n",
    "    \\end{matrix} \n",
    "    \\right)\n",
    "$$"
   ]
  },
  {
   "cell_type": "code",
   "execution_count": 6,
   "id": "a0583f3f",
   "metadata": {},
   "outputs": [
    {
     "name": "stdout",
     "output_type": "stream",
     "text": [
      "[[1 2]\n",
      " [3 4]] [[5]\n",
      " [6]] = [[17]\n",
      " [39]]\n",
      "[[ 1  3  5]\n",
      " [ 7  9 11]] [[2]\n",
      " [4]\n",
      " [6]] = [[ 44]\n",
      " [116]]\n"
     ]
    }
   ],
   "source": [
    "A = np.array([[1,2],[3,4]])\n",
    "x = np.array([[5],[6]])\n",
    "b = A@x\n",
    "print(A,x,'=',b)\n",
    "\n",
    "A = np.array([[1,3,5],[7,9,11]])\n",
    "x = np.array([[2],[4],[6]])\n",
    "b = A@x\n",
    "print(A,x,'=',b)"
   ]
  },
  {
   "cell_type": "markdown",
   "id": "52f145c1",
   "metadata": {},
   "source": [
    "## 演習2\n",
    "- 次の連立方程式を逆行列を使ってプログラムを解きなさい\n",
    "- 逆行列の存在は確かめなくてもよい\n",
    "$$2x+3y+4z=450$$\n",
    "$$5x+6y+7z=975$$\n",
    "$$8x+9y=1250$$"
   ]
  },
  {
   "cell_type": "code",
   "execution_count": 4,
   "id": "17f5e1f7",
   "metadata": {},
   "outputs": [
    {
     "name": "stdout",
     "output_type": "stream",
     "text": [
      "[100.  50.  25.]\n",
      "[ 450.  975. 1250.] [ 450.  975. 1250.]\n"
     ]
    }
   ],
   "source": [
    "A = np.array([[2,3,4],[5,6,7],[8,9,0]])\n",
    "b = np.array([450., 975., 1250.]) \n",
    "x = np.linalg.inv(A) @ b\n",
    "print(x)\n",
    "print(np.dot(A, x), b)"
   ]
  },
  {
   "cell_type": "markdown",
   "id": "d5733940",
   "metadata": {},
   "source": [
    "## 演習3\n",
    "- $(AB)^T=B^TA^T$が成り立つか確認せよ"
   ]
  },
  {
   "cell_type": "code",
   "execution_count": 14,
   "id": "20f1ed8d",
   "metadata": {},
   "outputs": [
    {
     "name": "stdout",
     "output_type": "stream",
     "text": [
      "[[  9  39  69]\n",
      " [ 12  51  90]\n",
      " [ 15  63 111]]\n",
      "[[  9  39  69]\n",
      " [ 12  51  90]\n",
      " [ 15  63 111]]\n"
     ]
    }
   ],
   "source": [
    "A = np.arange(9).reshape((3,3))\n",
    "B = np.array([[2,3,4],[7,8,9],[1,2,3]])\n",
    "print((A@B).T)\n",
    "print((B.T)@(A.T))"
   ]
  }
 ],
 "metadata": {
  "kernelspec": {
   "display_name": "base",
   "language": "python",
   "name": "python3"
  },
  "language_info": {
   "codemirror_mode": {
    "name": "ipython",
    "version": 3
   },
   "file_extension": ".py",
   "mimetype": "text/x-python",
   "name": "python",
   "nbconvert_exporter": "python",
   "pygments_lexer": "ipython3",
   "version": "3.12.7"
  }
 },
 "nbformat": 4,
 "nbformat_minor": 5
}
