{
 "cells": [
  {
   "cell_type": "markdown",
   "id": "6a835de2",
   "metadata": {},
   "source": [
    "# **プログラミング基礎第10回**\n",
    "\n",
    "---"
   ]
  },
  {
   "cell_type": "markdown",
   "id": "a5c26ac2",
   "metadata": {},
   "source": []
  }
 ],
 "metadata": {
  "language_info": {
   "name": "python"
  }
 },
 "nbformat": 4,
 "nbformat_minor": 5
}
