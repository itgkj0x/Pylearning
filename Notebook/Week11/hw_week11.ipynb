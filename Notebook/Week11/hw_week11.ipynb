{
  "cells": [
    {
      "cell_type": "markdown",
      "metadata": {},
      "source": [
        "# **プログラミング基礎第11回**\n",
        "\n",
        "---"
      ]
    },
    {
      "cell_type": "markdown",
      "metadata": {},
      "source": [
        "## 今回の内容\n",
        "\n",
        "- **統計学の用語**\n",
        "  - 母集団と標本 \n",
        "- **データのばらつき**: ばらつき具合は? 平均値に意味があるか? \n",
        "- **データの代表値**: データのいろいろな性質を表すもの \n",
        "  - 代表値\n",
        "    - 平均値 \n",
        "    - 中央値 \n",
        "    - 最頻値 \n",
        "- **度数分布表の作成** "
      ]
    },
    {
      "cell_type": "markdown",
      "metadata": {},
      "source": [
        "## 今回の設定\n",
        "今回も前回と同じ設定をしておく "
      ]
    },
    {
      "cell_type": "code",
      "execution_count": null,
      "metadata": {},
      "outputs": [],
      "source": [
        "# Jupyter で matplotlib を使うためのおまじない\n",
        "%matplotlib inline\n",
        "# Matplotlib の pyplot を取り込んで plt の名前で使う\n",
        "import matplotlib.pyplot as plt\n",
        "# NumPy を取り込んで np の名前で使う\n",
        "import numpy as np"
      ]
    },
    {
      "cell_type": "markdown",
      "metadata": {},
      "source": [
        "## 母集団と標本 "
      ]
    },
    {
      "cell_type": "markdown",
      "metadata": {},
      "source": [
        "### すべては測定できない\n",
        "\n",
        "**20代日本人の平均身長を求めるには?**\n",
        "\n",
        "- 20代日本人人口はおよそ1262万人です 。\n",
        "- 全員の身長を調べれば正確な値を計算できますが、その方法は現実的ではありません 。\n",
        "\n",
        "現実的には、一部の20代の身長から平均値を計算し、その値を「20代日本人の平均身長」として使用します 。"
      ]
    },
    {
      "cell_type": "markdown",
      "metadata": {},
      "source": [
        "### 母集団と標本\n",
        "\n",
        "集団が大きすぎて全体を調べることができない場合には、集団から無作為に(ランダムに)選んで、全体を推測します 。\n",
        "\n",
        "- **母集団**: 本当に調べたい全体の集団 \n",
        "- **標本**: 無作為に選んだ一部の集団 \n",
        "\n",
        " \n",
        ">**例：**\n",
        ">\n",
        ">母集団: 20代日本人  \n",
        ">↓ (無作為に抽出)  \n",
        ">標本 \n",
        ">↓ (20代日本人の平均を推測する)\n"
      ]
    },
    {
      "cell_type": "markdown",
      "metadata": {},
      "source": [
        "## ばらつきと代表値 "
      ]
    },
    {
      "cell_type": "markdown",
      "metadata": {},
      "source": [
        "### 度数分布\n",
        "\n",
        "- **度数分布表**: 標本を区間に分けて各区間ごとの個数を並べた表 \n",
        "- **度数分布図**: 度数分布を視覚的に見るためのグラフ(ヒストグラム) \n",
        "\n",
        "下記は2023年4月時点での日本人の人口を10歳間隔で表したものです（単位は万人）。\n",
        "\n",
        "| 区間 | 度数 | | 区間 | 度数 |\n",
        "|:---:|:----:|---|:---:|:------:|\n",
        "| 0-9 | 908 | | 50-59 | 1768 |\n",
        "| 10-19 | 1078 | | 60-69 | 1487 |\n",
        "| 20-29 | 1262 | | 70-79 | 1632 |\n",
        "| 30-39 | 1352 | | 80-89 | 975 |\n",
        "| 40-49 | 1714 | | 90- | 272 |\n",
        "度数分布図の分布とは、「ばらつきぐあい」という意味です 。"
      ]
    },
    {
      "cell_type": "markdown",
      "metadata": {},
      "source": [
        "### データのばらつき\n",
        "\n",
        "様々なパターンの度数分布図に対して平均値はつねに意味を持つか？ \n",
        "\n",
        "1.  **左右対称 (正規分布)**: 年齢別の身長、桜の開花日、コンビニおにぎりの重さなど \n",
        "2.  **一定 (一様分布)**: サイコロを何度も振ったときの目の出方など \n",
        "3.  **山が二つ** \n",
        "4.  **偏り** \n",
        "5.  **山の途切れ** \n",
        "\n",
        "標本の特徴を分析する際には度数分布の形が重要です 。\n",
        "\n",
        "- 1や2に近い場合は、平均値に意味があります 。\n",
        "- 3,4,5に近い場合は、平均値が全体を表しているかが怪しくなります 。"
      ]
    },
    {
      "cell_type": "markdown",
      "metadata": {},
      "source": [
        "### 代表値\n",
        "\n",
        "代表値とは標本の傾向を見る時に使う値です 。\n",
        "\n",
        "- **平均値 (mean, average)**: すべてのデータ値を合計し、データ数で割った値 \n",
        "- **中央値 (median, 中間値, 中位数)**: データを小さい順に並べたときに順番が真ん中の値。偏りがある場合に役に立ちます 。\n",
        "- **最頻値 (mode)**: データ値で最も度数の多い値。非対称の分布で役に立つことがあります 。\n",
        "\n",
        "度数分布図の形によって、これら3つの値は、近い値の場合やまったく異なる値の場合があります 。"
      ]
    },
    {
      "cell_type": "markdown",
      "metadata": {},
      "source": [
        "## 平均値 "
      ]
    },
    {
      "cell_type": "markdown",
      "metadata": {},
      "source": [
        "### 平均値の定義\n",
        "\n",
        "$n$個のデータ $x_1, x_2, ..., x_n$ に対して、その合計を個数で割った値です 。\n",
        "\n",
        "$$ \\overline{x} = \\frac{x_1 + x_2 + \\cdots + x_n}{n} = \\frac{1}{n}\\sum_{i=1}^{n}x_i $$ \n",
        "\n",
        "一部のデータが極端に異なると、平均値はそれらの値に引きずられます 。"
      ]
    },
    {
      "cell_type": "code",
      "execution_count": null,
      "metadata": {},
      "outputs": [
        {
          "name": "stdout",
          "output_type": "stream",
          "text": [
            "8.571428571428571\n"
          ]
        }
      ],
      "source": [
        "# 1人だけ「からい」判定\n",
        "x = [2, 9, 10, 10, 9, 10, 10] \n",
        "print(sum(x)/len(x))"
      ]
    },
    {
      "cell_type": "markdown",
      "metadata": {},
      "source": [
        "### 同一の平均値\n",
        "平均値だけでは判断を誤りそうな例 "
      ]
    },
    {
      "cell_type": "code",
      "execution_count": null,
      "metadata": {},
      "outputs": [
        {
          "name": "stdout",
          "output_type": "stream",
          "text": [
            "mean(x)= 5.5,mean(y)= 5.5,mean(z)= 5.5\n"
          ]
        }
      ],
      "source": [
        "x = [1, 2, 3, 4, 5, 6, 7, 8, 9, 10]\n",
        "y = [1, 1, 1, 2, 2, 9, 9, 10, 10, 10]\n",
        "z = [2, 2, 4, 5, 6, 6, 6, 6, 9, 9]\n",
        "\n",
        "print(\"mean(x)=\", sum(x)/len(x), end=',')\n",
        "print(\"mean(y)=\", sum(y)/len(y), end=',')\n",
        "print(\"mean(z)=\", sum(z)/len(z))"
      ]
    },
    {
      "cell_type": "markdown",
      "metadata": {},
      "source": [
        "上記3つのリストは平均値がすべて5.5ですが、ヒストグラムを作成すると分布が大きく異なることがわかります 。\n",
        "\n",
        "**xの分布 (一様分布)**\n",
        "\n",
        "**yの分布 (両端にピークがある分布)**\n",
        "\n",
        "**zの分布 (中央にピークがある分布)**"
      ]
    },
    {
      "cell_type": "markdown",
      "metadata": {},
      "source": [
        "## 中央値 "
      ]
    },
    {
      "cell_type": "markdown",
      "metadata": {},
      "source": [
        "### 中央値とは？\n",
        "\n",
        "データを小さい順に並べたときに順番が真ん中の値です 。\n",
        "\n",
        "- データ数が奇数と偶数で扱いが異なります 。\n",
        "    - **奇数 ($n$)**: $\\frac{n+1}{2}$ 番目の値 \n",
        "    - **偶数 ($n$)**: $\\frac{n}{2}$ 番目と $\\frac{n}{2}+1$ 番目の値の平均値 \n",
        "\n",
        "**例 (奇数, n=5)**\n",
        "`1 3 6 7 9`  \n",
        "中央値: 6 \n",
        "\n",
        "**例 (偶数, n=6)**\n",
        "`1 3 4 6 7 9`  \n",
        "中央値: $\\frac{4+6}{2} = 5$ "
      ]
    },
    {
      "cell_type": "markdown",
      "metadata": {},
      "source": [
        "### 整列\n",
        "\n",
        "中央値の計算では、データを昇順または降順に並べておく必要があります 。元々の順序を保持したい場合は、リストをコピーしてからソートします 。"
      ]
    },
    {
      "cell_type": "code",
      "execution_count": null,
      "metadata": {},
      "outputs": [
        {
          "name": "stdout",
          "output_type": "stream",
          "text": [
            "[1, 3, 5, 6, 8]\n"
          ]
        }
      ],
      "source": [
        "x = [8, 1, 6, 3, 5]\n",
        "# リストの機能, sort() メソッド\n",
        "x.sort()\n",
        "print(x)"
      ]
    },
    {
      "cell_type": "code",
      "execution_count": null,
      "metadata": {},
      "outputs": [
        {
          "name": "stdout",
          "output_type": "stream",
          "text": [
            "[8, 1, 6, 3, 5] -- sort --> [1, 3, 5, 6, 8]\n"
          ]
        }
      ],
      "source": [
        "x = [8, 1, 6, 3, 5]\n",
        "# リストデータのコピー\n",
        "x1 = x.copy()\n",
        "x1.sort()\n",
        "print(x, '-- sort -->', x1)"
      ]
    },
    {
      "cell_type": "markdown",
      "metadata": {},
      "source": [
        "### 除算と添字\n",
        "\n",
        "リストの添字（インデックス）に浮動小数点数（float）は使えません 。通常の割り算 `/` は結果がfloatになるため `TypeError` が発生します 。添字の計算には整数除算 `//` を使う必要があります 。また、リストの添字は0から始まる点にも注意が必要です 。"
      ]
    },
    {
      "cell_type": "code",
      "execution_count": null,
      "metadata": {},
      "outputs": [
        {
          "name": "stdout",
          "output_type": "stream",
          "text": [
            "x[ 2 ]= 3\n"
          ]
        }
      ],
      "source": [
        "# 通常の割り算 '/' の結果はfloatになり、リストの添字に使えないためエラーになります。\n",
        "# x = [1, 2, 3, 4]\n",
        "# n = 4\n",
        "# index = n / 2 # 結果は2.0 (float)\n",
        "# print(x[index]) # TypeError\n",
        "\n",
        "# 整数除算 '//' を使って修正します。\n",
        "x = [1, 2, 3, 4]\n",
        "n = 4\n",
        "index = n // 2\n",
        "print('x[', index, ']=', x[index])"
      ]
    },
    {
      "cell_type": "markdown",
      "metadata": {},
      "source": [
        "### 中央値の計算\n",
        "\n",
        "データ数が奇数か偶数かで場合分けが必要です 。結果は `float` 型に統一します 。"
      ]
    },
    {
      "cell_type": "code",
      "execution_count": null,
      "metadata": {},
      "outputs": [
        {
          "name": "stdout",
          "output_type": "stream",
          "text": [
            "中央値: 6.0 ,添字: 2\n"
          ]
        }
      ],
      "source": [
        "x = [1, 3, 6, 7, 9]\n",
        "n = len(x)\n",
        "# nは奇数\n",
        "index = (n + 1) // 2 # 結果は int \n",
        "index -= 1       # リストは0から始まる \n",
        "median = float(x[index]) # 中央値, float に変換 \n",
        "print('中央値:', median, ',添字:', index)"
      ]
    },
    {
      "cell_type": "code",
      "execution_count": null,
      "metadata": {},
      "outputs": [
        {
          "name": "stdout",
          "output_type": "stream",
          "text": [
            "中央値: 5.0,添字: 2 , 3\n"
          ]
        }
      ],
      "source": [
        "y = [1, 3, 4, 6, 7, 9]\n",
        "n = len(y)\n",
        "# nは偶数\n",
        "index = n // 2 # 結果は int \n",
        "index -= 1   # リストは0から始まる \n",
        "median = (y[index] + y[index+1]) / 2 # 結果は float \n",
        "print('中央値:', median, end=',')\n",
        "print('添字:', index, ',', index+1)"
      ]
    },
    {
      "cell_type": "markdown",
      "metadata": {},
      "source": [
        "## 最頻値 "
      ]
    },
    {
      "cell_type": "markdown",
      "metadata": {},
      "source": [
        "### 最頻値とは\n",
        "\n",
        "データ値で最も度数（出現回数）の多い値です 。\n",
        "\n",
        "**例**: サイコロを10回投げたときの出目 `6,3, 2, 1,5,2,2,4,6,1` の場合、最も多く出現する「2」が最頻値です 。\n",
        "\n",
        "最頻値の計算には数式はなく、出現回数を数えて最も多いものを見つけます 。Pythonでは `collections` モジュールの `Counter` クラスが便利です 。"
      ]
    },
    {
      "cell_type": "markdown",
      "metadata": {},
      "source": [
        "### 出現回数の一番多い要素を調べる\n",
        "\n",
        "`Counter` クラスの `most_common()` メソッドは、出現回数の多い順に「(要素, 出現回数)」というタプルのリストを返します 。"
      ]
    },
    {
      "cell_type": "code",
      "execution_count": null,
      "metadata": {},
      "outputs": [
        {
          "name": "stdout",
          "output_type": "stream",
          "text": [
            "[(2, 3), (6, 2), (1, 2), (3, 1), (5, 1), (4, 1)]\n",
            "[(2, 3), (6, 2)]\n"
          ]
        }
      ],
      "source": [
        "from collections import Counter\n",
        "\n",
        "dlist = [6, 3, 2, 1, 5, 2, 2, 4, 6, 1]\n",
        "c = Counter(dlist)\n",
        "\n",
        "print(c.most_common())\n",
        "print(c.most_common(2)) # 先頭の二つの情報 "
      ]
    },
    {
      "cell_type": "markdown",
      "metadata": {},
      "source": [
        "タプルのリストから先頭タプルの先頭の値を取得することで最頻値が得られます。"
      ]
    },
    {
      "cell_type": "code",
      "execution_count": null,
      "metadata": {},
      "outputs": [
        {
          "name": "stdout",
          "output_type": "stream",
          "text": [
            "[(2, 3)] ,  (2, 3) ,  2\n"
          ]
        }
      ],
      "source": [
        "mc = c.most_common(1)\n",
        "print(mc, ', ', mc[0], ', ', mc[0][0])"
      ]
    },
    {
      "cell_type": "markdown",
      "metadata": {},
      "source": [
        "### 関数にまとめる\n",
        "サイコロを10回投げたときの出目の分布の最頻値を求める関数を作成します 。"
      ]
    },
    {
      "cell_type": "code",
      "execution_count": null,
      "metadata": {},
      "outputs": [
        {
          "name": "stdout",
          "output_type": "stream",
          "text": [
            "サイコロの出目の最頻値は 2\n"
          ]
        }
      ],
      "source": [
        "from collections import Counter\n",
        "\n",
        "# 最頻値を求める関数\n",
        "def calc_mode(lst):\n",
        "    c = Counter(lst)\n",
        "    mc = c.most_common(1)\n",
        "    return mc[0][0]\n",
        "\n",
        "# main の処理\n",
        "dlist = [6, 3, 2, 1, 5, 2, 2, 4, 6, 1]\n",
        "mode = calc_mode(dlist)\n",
        "print('サイコロの出目の最頻値は', mode)"
      ]
    },
    {
      "cell_type": "markdown",
      "metadata": {},
      "source": [
        "### 修正版: 複数の最頻値に対応\n",
        "`most_common()` で得られたリスト全体から、最大の出現回数を持つ要素をすべてリストアップするように関数を修正します 。"
      ]
    },
    {
      "cell_type": "code",
      "execution_count": null,
      "metadata": {},
      "outputs": [
        {
          "name": "stdout",
          "output_type": "stream",
          "text": [
            "サイコロの出目の最頻値は: 6 2 \n"
          ]
        }
      ],
      "source": [
        "from collections import Counter\n",
        "\n",
        "# 最頻値を求める関数 (複数対応)\n",
        "def calc_modes(lst):\n",
        "    c = Counter(lst)\n",
        "    mclist = c.most_common()     # 出現回数の情報全体 \n",
        "    if not mclist:\n",
        "        return []\n",
        "    maxcnt = mclist[0][1]        # 最大の出現回数 \n",
        "    modes = []\n",
        "    for e, c in mclist:\n",
        "        if c == maxcnt:          # 最大出現回数と同じ \n",
        "            modes.append(e)      # リストに加える \n",
        "        else:\n",
        "            break\n",
        "    return modes\n",
        "\n",
        "# main の処理\n",
        "dlist = [6, 3, 2, 1, 6, 2, 2, 4, 6, 1]\n",
        "modes = calc_modes(dlist)\n",
        "print('サイコロの出目の最頻値は:', end=' ')\n",
        "for mode in modes:\n",
        "    print(mode, end=' ')\n",
        "print()"
      ]
    },
    {
      "cell_type": "markdown",
      "metadata": {},
      "source": [
        "## 度数分布表の作成 "
      ]
    },
    {
      "cell_type": "markdown",
      "metadata": {},
      "source": [
        "`most_common()` メソッドを引数なしで使うと、すべての要素の頻度が得られます 。"
      ]
    },
    {
      "cell_type": "markdown",
      "metadata": {},
      "source": [
        "### 度数分布表の出力\n",
        "\n",
        "`most_common()` の結果は頻度の降順で出力されます 。"
      ]
    },
    {
      "cell_type": "code",
      "execution_count": null,
      "metadata": {},
      "outputs": [
        {
          "name": "stdout",
          "output_type": "stream",
          "text": [
            "Dice\tFrequency\n",
            "6 \t 3\n",
            "2 \t 3\n",
            "1 \t 2\n",
            "3 \t 1\n",
            "4 \t 1\n"
          ]
        }
      ],
      "source": [
        "from collections import Counter\n",
        "\n",
        "def freq_table(lst):\n",
        "    table = Counter(lst)\n",
        "    print(\"Dice\\tFrequency\")\n",
        "    for e, c in table.most_common():\n",
        "        print(e, '\\t', c)\n",
        "\n",
        "# main の処理\n",
        "dlist = [6, 3, 2, 1, 6, 2, 2, 4, 6, 1]\n",
        "freq_table(dlist)"
      ]
    },
    {
      "cell_type": "markdown",
      "metadata": {},
      "source": [
        "### 修正版: 度数分表の出力（昇順）\n",
        "\n",
        "タプルのリストは、`sort()` メソッドでソートできます 。タプルは先頭の要素から順に比較されるため 、一度リストとして取り出した後にソートすることで、出目の昇順に並べ替えることができます 。"
      ]
    },
    {
      "cell_type": "code",
      "execution_count": null,
      "metadata": {},
      "outputs": [
        {
          "name": "stdout",
          "output_type": "stream",
          "text": [
            "Dice\tFrequency\n",
            "1 \t 2\n",
            "2 \t 3\n",
            "3 \t 1\n",
            "4 \t 1\n",
            "6 \t 3\n"
          ]
        }
      ],
      "source": [
        "from collections import Counter\n",
        "\n",
        "def freq_table_sorted(lst):\n",
        "    table = Counter(lst)\n",
        "    mclist = table.most_common() # リストを一度取り出す \n",
        "    mclist.sort()                # 昇順に並べ替え \n",
        "    print(\"Dice\\tFrequency\")\n",
        "    for e, c in mclist:\n",
        "        print(e, '\\t', c)\n",
        "\n",
        "# main の処理\n",
        "dlist = [6, 3, 2, 1, 6, 2, 2, 4, 6, 1]\n",
        "freq_table_sorted(dlist)"
      ]
    },
    {
      "cell_type": "markdown",
      "metadata": {},
      "source": [
        "## ライブラリ関数の使用 "
      ]
    },
    {
      "cell_type": "markdown",
      "metadata": {},
      "source": [
        "### NumPy\n",
        "\n",
        "NumPyには平均値 (`mean`)、中央値 (`median`) を計算する関数があります 。最頻値の関数はありませんが、`np.unique` や `np.bincount` を使うことで計算できます 。"
      ]
    },
    {
      "cell_type": "code",
      "execution_count": null,
      "metadata": {},
      "outputs": [
        {
          "name": "stdout",
          "output_type": "stream",
          "text": [
            "平均値: 3.2 中央値: 2.5\n",
            "elem = [1 2 3 4 5 6]\n",
            "freq =  [2 3 1 1 1 2]\n",
            "mode:  2\n",
            "bins = [0 2 3 1 1 1 2]\n",
            "mode:  2\n"
          ]
        }
      ],
      "source": [
        "import numpy as np\n",
        "\n",
        "x = np.array([6, 3, 2, 1, 5, 2, 2, 4, 6, 1])\n",
        "print('平均値:', np.mean(x), '中央値:', np.median(x))\n",
        "\n",
        "# 最頻値の計算 (np.unique)\n",
        "e, c = np.unique(x, return_counts=True) # 要素と頻度を取得 \n",
        "print('elem =', e) \n",
        "print('freq = ', c)  \n",
        "index = np.argmax(c) # 頻度が最大の添字を取得 \n",
        "print('mode: ', e[index]) # 最頻値 \n",
        "\n",
        "# 最頻値の計算 (np.bincount)\n",
        "bins = np.bincount(x) # 0から最大値までの頻度のリスト \n",
        "print('bins =', bins)\n",
        "mode = np.argmax(bins) # 最大値の添字が最頻値 \n",
        "print('mode: ', mode) "
      ]
    },
    {
      "cell_type": "markdown",
      "metadata": {},
      "source": [
        "### 文字列の最頻値\n",
        "\n",
        "`Counter` と `NumPy` はどちらも文字列のリストを扱うことができます 。"
      ]
    },
    {
      "cell_type": "code",
      "execution_count": null,
      "metadata": {},
      "outputs": [
        {
          "name": "stdout",
          "output_type": "stream",
          "text": [
            "[('B', 3), ('ab', 2), ('CAT', 1), ('E', 1), ('D', 1)]\n"
          ]
        }
      ],
      "source": [
        "from collections import Counter\n",
        "\n",
        "alist = ['CAT', 'B', 'ab', 'E', 'B', 'B', 'D', 'ab']\n",
        "c = Counter(alist)\n",
        "print(c.most_common())"
      ]
    },
    {
      "cell_type": "code",
      "execution_count": null,
      "metadata": {},
      "outputs": [
        {
          "name": "stdout",
          "output_type": "stream",
          "text": [
            "elem = ['B' 'CAT' 'D' 'E' 'ab']\n",
            "freq = [3 1 1 1 2]\n",
            "mode:  B\n"
          ]
        }
      ],
      "source": [
        "import numpy as np\n",
        "\n",
        "x = np.array(['CAT', 'B', 'ab', 'E', 'B', 'B', 'D', 'ab'])\n",
        "e, c = np.unique(x, return_counts=True) # 重複を取り除く \n",
        "print('elem =', e)\n",
        "print('freq =', c)\n",
        "index = np.argmax(c) # 最大値の添字 \n",
        "print('mode: ', e[index]) # 最頻値 "
      ]
    },
    {
      "cell_type": "markdown",
      "metadata": {},
      "source": [
        "## まとめ\n",
        "\n",
        "- **母集団と標本**: 全体を調査できない場合、一部分（標本）をランダムに選び、全体（母集団）の性質を推測します 。\n",
        "- **平均値**: データの合計をデータの個数で割った値で、外れ値に影響されやすいです 。\n",
        "- **中央値**: データを大きさ順に並べたときの中央の値で、分布に偏りがある場合に有効です 。\n",
        "- **最頻値**: データの中で最も出現回数が多い値で、質的データにも使えます 。\n",
        "- **度数分布表の作成**: データがどの値にいくつ存在するかを集計した表で、分布の把握に用います 。\n",
        "- **ライブラリ関数の使用**: NumPyなどを使うと、平均値や中央値などの統計計算を効率的に行えます 。"
      ]
    }
  ],
  "metadata": {
    "kernelspec": {
      "display_name": "Python 3",
      "language": "python",
      "name": "python3"
    },
    "language_info": {
      "codemirror_mode": {
        "name": "ipython",
        "version": 3
      },
      "file_extension": ".py",
      "mimetype": "text/x-python",
      "name": "python",
      "nbconvert_exporter": "python",
      "pygments_lexer": "ipython3",
      "version": "3.10.6"
    }
  },
  "nbformat": 4,
  "nbformat_minor": 5
}
