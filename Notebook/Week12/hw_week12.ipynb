{
  "cells": [
    {
      "cell_type": "markdown",
      "metadata": {},
      "source": [
        "## **プログラミング基礎第12回**\n",
        "統計量の計算2\n",
        "\n",
        "---"
      ]
    },
    {
      "cell_type": "markdown",
      "metadata": {},
      "source": [
        "### 今回の内容\n",
        "* Python の f文字列\n",
        "    * 文字列の中に値を埋め込む方法\n",
        "* 分散と標準偏差\n",
        "* 偏差\n",
        "* 相関係数\n",
        "    * 計算\n",
        "* プログラムを細かく見直す"
      ]
    },
    {
      "cell_type": "markdown",
      "metadata": {},
      "source": [
        "### 今回の設定\n",
        "今回も前回と同じ設定をしておく"
      ]
    },
    {
      "cell_type": "code",
      "execution_count": 1,
      "metadata": {},
      "outputs": [],
      "source": [
        "# Jupyterでmatplotlib を使うためのおまじない\n",
        "%matplotlib inline\n",
        "# Matplotlib の pyplot を取り込んで plt の名前で使う\n",
        "import matplotlib.pyplot as plt\n",
        "# NumPy を取り込んで np の名前で使う\n",
        "import numpy as np"
      ]
    },
    {
      "cell_type": "markdown",
      "metadata": {},
      "source": [
        "## f文字列"
      ]
    },
    {
      "cell_type": "markdown",
      "metadata": {},
      "source": [
        "### 文字列と数値の扱い\n",
        "文字列と print() 関数の基本機能:\n",
        "* `str()` 関数は整数 (int) や実数 (float)を文字列(str)に変換する\n",
        "* 文字列どうしは `+`演算子で連結可能\n",
        "* `print()`関数ではカンマ区切りで数値と文字列の混在が可能\n",
        "\n",
        "問題点と希望:\n",
        "* `str()`の指定は長くなる\n",
        "* `print()`はカンマ指定でスペース文字が入る\n",
        "* 小数点以下の桁数を制御できない\n",
        "* 右寄せや左寄せで複数行を揃えたい(表を綺麗に作りたい)"
      ]
    },
    {
      "cell_type": "code",
      "execution_count": 2,
      "metadata": {},
      "outputs": [
        {
          "name": "stdout",
          "output_type": "stream",
          "text": [
            "a=10, x=3.3333333333333335\n",
            "a= 10 , x= 3.3333333333333335\n"
          ]
        }
      ],
      "source": [
        "a = 10\n",
        "x = 10 / 3\n",
        "txt = 'a=' + str(a) + ', x=' + str(x)\n",
        "print(txt)\n",
        "print('a=', a, ', x=', x)"
      ]
    },
    {
      "cell_type": "markdown",
      "metadata": {},
      "source": [
        "### 文字列に式の値を埋め込む (Python 3.6)\n",
        "* f文字列は書式機能を持った文字列\n",
        "    * format(書式,形式、体裁)の意味\n",
        "* `f'...'` の文字列の中に`{式}`の形で値・変数・式を埋め込める\n",
        "* `{式:設定}`で細かな書式を指定できる\n",
        "    * 左寄せ(`<`)、右寄せ (`>`)、中央寄せ(`^`) と表示幅\n",
        "    * 実数値は小数点以下の桁数(`.数字f`) を指定できる"
      ]
    },
    {
      "cell_type": "code",
      "execution_count": 3,
      "metadata": {},
      "outputs": [
        {
          "data": {
            "text/plain": [
              "'a=10, 2a=20'"
            ]
          },
          "execution_count": 3,
          "metadata": {},
          "output_type": "execute_result"
        }
      ],
      "source": [
        "a = 10\n",
        "f'a={a}, 2a={2*a}' # 変数や式を埋め込む"
      ]
    },
    {
      "cell_type": "code",
      "execution_count": 4,
      "metadata": {},
      "outputs": [
        {
          "data": {
            "text/plain": [
              "'---a=   10, 2a=20      ---'"
            ]
          },
          "execution_count": 4,
          "metadata": {},
          "output_type": "execute_result"
        }
      ],
      "source": [
        "a=10\n",
        "f'---a={a:5}, 2a={2*a:<8}---' #桁数指定,<が左寄せ"
      ]
    },
    {
      "cell_type": "code",
      "execution_count": 5,
      "metadata": {},
      "outputs": [
        {
          "data": {
            "text/plain": [
              "'+++x=  3.333   , 2x=3.33'"
            ]
          },
          "execution_count": 5,
          "metadata": {},
          "output_type": "execute_result"
        }
      ],
      "source": [
        "x = 10/3\n",
        "f'+++x={x:^10.3f}, 2x={x:.2f}' #数字fが小数点以下"
      ]
    },
    {
      "cell_type": "markdown",
      "metadata": {},
      "source": [
        "### 例:表の出力\n",
        "$\\sqrt{n}$ と $2^n$ の表をテキスト出力で作成"
      ]
    },
    {
      "cell_type": "code",
      "execution_count": 6,
      "metadata": {},
      "outputs": [
        {
          "name": "stdout",
          "output_type": "stream",
          "text": [
            "   n |   sqrt(n)   |    2^n\n",
            "---------------------------\n",
            "   1 |  1.00000000 |      2\n",
            "   2 |  1.41421356 |      4\n",
            "   3 |  1.73205081 |      8\n",
            "   4 |  2.00000000 |     16\n",
            "   5 |  2.23606798 |     32\n",
            "   6 |  2.44948974 |     64\n",
            "   7 |  2.64575131 |    128\n",
            "   8 |  2.82842712 |    256\n",
            "   9 |  3.00000000 |    512\n",
            "  10 |  3.16227766 |   1024\n"
          ]
        }
      ],
      "source": [
        "import math\n",
        "\n",
        "N = [ i for i in range(1,11)]\n",
        "print(f'{\"n\":>4} | {\"sqrt(n)\":^12}| {\"2^n\":>6}')\n",
        "print('---------------------------') # 桁数指定可能だが...\n",
        "\n",
        "for n in N:\n",
        "    print(f'{n:>4} | {math.sqrt(n):^12.8f}', end='')\n",
        "    print(f'| {2**n:>6}')"
      ]
    },
    {
      "cell_type": "markdown",
      "metadata": {},
      "source": [
        "## ばらつき具合"
      ]
    },
    {
      "cell_type": "markdown",
      "metadata": {},
      "source": [
        "### 範囲\n",
        "統計で扱う範囲とは\n",
        "* 最大値と最小値の差\n",
        "* 平均の特徴を知るための一つの指標\n",
        "* ばらつき具合によって範囲は変わる\n",
        "* 範囲の広さで平均値、中央値、最頻値の見方も変わる"
      ]
    },
    {
      "cell_type": "code",
      "execution_count": 7,
      "metadata": {},
      "outputs": [
        {
          "name": "stdout",
          "output_type": "stream",
          "text": [
            "平均:49.8, 最小:12.6, 最大:88.0, 範囲:75.4\n"
          ]
        }
      ],
      "source": [
        "def find_range(n): # 範囲を計算\n",
        "    h = max(n) #最大\n",
        "    l = min(n) # 最小\n",
        "    r = h - l  # 範囲\n",
        "    return l,h,r # タプルで返す\n",
        "\n",
        "np.random.seed(0)\n",
        "mu = 50 #平均\n",
        "sigma = 10 # ばらつき具合(標準偏差)\n",
        "x = np.random.normal(mu, sigma, 10000) # 正規分布乱数\n",
        "\n",
        "lo, hi, rg = find_range(x)\n",
        "\n",
        "print(f'平均:{np.mean(x):.1f}, ', end=\"\")\n",
        "print(f'最小:{lo:.1f}, 最大:{hi:.1f}, 範囲:{rg:.1f}')"
      ]
    },
    {
      "cell_type": "markdown",
      "metadata": {},
      "source": [
        "### 分散と標準偏差\n",
        "ばらつき具合を測る尺度\n",
        "\n",
        "**分散**\n",
        "* 平均からどの程度だけ離れているか?\n",
        "* 平均より大の場合と小の場合をまとめて扱う\n",
        "* 計算が楽(美しいという人も)\n",
        "\n",
        "**標準偏差**\n",
        "* 分散の平方根\n",
        "* 平均と単位同じで直接比較できる\n",
        "\n",
        "**正規分布について**\n",
        "* 正規分布は平均の周りに集まる分布\n",
        "* 確率論や統計学で用いられる\n",
        "* `np.random.normal()`は正規分布に従う乱数"
      ]
    },
    {
      "cell_type": "markdown",
      "metadata": {},
      "source": [
        "### 分布の変化\n",
        "平均が同じでも、標準偏差によって分布は変わる"
      ]
    },
    {
      "cell_type": "code",
      "execution_count": 8,
      "metadata": {},
      "outputs": [
        {
          "data": {
            "image/png": "[encoded data removed]",
            "text/plain": [
              "<Figure size 640x480 with 1 Axes>"
            ]
          },
          "metadata": {},
          "output_type": "display_data"
        }
      ],
      "source": [
        "np.random.seed(0)\n",
        "mu = 50 # 平均を固定\n",
        "\n",
        "for sigma in [5, 10, 15]: # ばらつき具合を変更\n",
        "    x = np.random.normal(mu, sigma, 100000)\n",
        "    # 0未満を0, 100以上を100に丸める\n",
        "    y = [0 if n < 0 else 100 if n >= 100 else int(n) for n in x]\n",
        "    bins = np.bincount(y)\n",
        "    plt.plot(bins, label=f'sigma = {sigma}')\n",
        "\n",
        "plt.legend()\n",
        "plt.show()"
      ]
    },
    {
      "cell_type": "markdown",
      "metadata": {},
      "source": [
        "### 身長の例\n",
        "クラスAとクラスBの生徒の身長を考える"
      ]
    },
    {
      "cell_type": "code",
      "execution_count": 9,
      "metadata": {},
      "outputs": [
        {
          "name": "stdout",
          "output_type": "stream",
          "text": [
            "A の平均は 170.6 です\n",
            "B の平均は 170.6 です\n"
          ]
        }
      ],
      "source": [
        "def calc_mean(x):\n",
        "    return sum(x)/len(x)\n",
        "\n",
        "a = [165,168,171,177,171,162,163,166,168,187,172,177]\n",
        "b = [188,161,174,155,184,187,160,158,178,175,160,167]\n",
        "\n",
        "print(f'A の平均は {calc_mean(a):.1f} です')\n",
        "print(f'B の平均は {calc_mean(b):.1f} です')"
      ]
    },
    {
      "cell_type": "markdown",
      "metadata": {},
      "source": [
        "### 身長の分布\n",
        "平均は同じでも分布の傾向が異なる\n"
      ]
    },
    {
      "cell_type": "code",
      "execution_count": 10,
      "metadata": {},
      "outputs": [
        {
          "data": {
            "image/png": "[encoded data removed]",
            "text/plain": [
              "<Figure size 640x480 with 1 Axes>"
            ]
          },
          "metadata": {},
          "output_type": "display_data"
        }
      ],
      "source": [
        "# ページ13のヒストグラムを生成するコード\n",
        "# スライドの注記: plt.hist(..., alpha=0.7, bins=20) とした。alpha 指定は透明度\n",
        "plt.hist([a, b], bins=20, alpha=0.7, label=['Class A', 'Class B'])\n",
        "plt.title('Distribution of Body Height')\n",
        "plt.xlabel('height(cm)')\n",
        "plt.ylabel('frequency')\n",
        "plt.legend()\n",
        "plt.show()"
      ]
    },
    {
      "cell_type": "markdown",
      "id": "fac1943b",
      "metadata": {},
      "source": [
        "- `plt.hist(...,alpha=0.7,bins=20)`とした。`alpha`指定は透明度"
      ]
    },
    {
      "cell_type": "markdown",
      "metadata": {},
      "source": [
        "### 分散の計算式\n",
        "* **偏差**: 個々のデータの平均との差 $(x_{i}-\\overline{x})$\n",
        "* **分散**: 偏差の二乗和の平均(二乗平均)\n",
        "    * 正負の値を同じずれとして扱うため\n",
        "\n",
        ">$$ \\sigma^{2}=\\frac{(x_{1}-\\overline{x})^{2}+(x_{2}-\\overline{x})^{2}+\\cdot\\cdot\\cdot+(x_{n}-\\overline{x})^{2}}{n}\n",
        ">$$\n",
        ">$$\n",
        "=\\frac{1}{n}\\sum_{i=1}^{n}(x_{i}-\\overline{x})^{2} \n",
        ">$$\n",
        ">- $\\overline{x}:$算術平均\n",
        ">\n",
        ">- $(x_i-\\overline{x}):$偏差\n",
        "\n",
        "- 分散が大きいとは、平均から大きく離れていることを意味する。\n",
        "- プログラムで計算するにはいくつかのステップを必要とする"
      ]
    },
    {
      "cell_type": "markdown",
      "metadata": {},
      "source": [
        "### 偏差の並びを計算\n",
        "平均値との差を作る $(x_{i}-\\overline{x})$"
      ]
    },
    {
      "cell_type": "code",
      "execution_count": 11,
      "metadata": {},
      "outputs": [
        {
          "name": "stdout",
          "output_type": "stream",
          "text": [
            "mean: 169.0\n",
            "  -4.0  -1.0   2.0   8.0   2.0  -7.0\n"
          ]
        }
      ],
      "source": [
        "def find_diff(x):\n",
        "    m = calc_mean(x) #平均値\n",
        "    diff = []\n",
        "    for n in x:\n",
        "        diff.append(n-m)\n",
        "    return diff\n",
        "\n",
        "def print_list(lst):\n",
        "    for d in lst:\n",
        "        print(f'{d:6.1f}', end='')\n",
        "    print()\n",
        "\n",
        "# 一部のデータで試す\n",
        "a_sample = [165,168,171,177,171,162]\n",
        "\n",
        "print(f'mean: {calc_mean(a_sample)}')\n",
        "d = find_diff(a_sample)\n",
        "print_list(d)"
      ]
    },
    {
      "cell_type": "markdown",
      "metadata": {},
      "source": [
        "### リスト内包表記の活用\n",
        "空リストへの追加はリスト内包表記でシンプルに書けます。"
      ]
    },
    {
      "cell_type": "code",
      "execution_count": 12,
      "metadata": {},
      "outputs": [],
      "source": [
        "def find_diff_comprehension(x):\n",
        "    m = calc_mean(x) #平均値\n",
        "    return [ n-m for n in x ]"
      ]
    },
    {
      "cell_type": "markdown",
      "metadata": {},
      "source": [
        "**注意**: 省略しすぎに注意。動作するが、ループの各ステップで平均値を再計算するため非効率"
      ]
    },
    {
      "cell_type": "code",
      "execution_count": 13,
      "metadata": {},
      "outputs": [],
      "source": [
        "def find_diff_inefficient(x):\n",
        "    # 悪い例: ループ内でcalc_meanが何度も呼ばれる\n",
        "    return [ n-calc_mean(x) for n in x]"
      ]
    },
    {
      "cell_type": "markdown",
      "metadata": {},
      "source": [
        "### 偏差の二乗の並び\n",
        "偏差の二乗の並びを作る $(x_{i}-\\overline{x})^{2}$"
      ]
    },
    {
      "cell_type": "code",
      "execution_count": 14,
      "metadata": {},
      "outputs": [
        {
          "name": "stdout",
          "output_type": "stream",
          "text": [
            "  16.0   1.0   4.0  64.0   4.0  49.0\n"
          ]
        }
      ],
      "source": [
        "def squared_diff(x):\n",
        "    m = calc_mean(x) #平均値\n",
        "    return [ (n-m)**2 for n in x]\n",
        "\n",
        "a_sample = [165,168,171,177,171,162]\n",
        "print_list(squared_diff(a_sample))"
      ]
    },
    {
      "cell_type": "markdown",
      "metadata": {},
      "source": [
        "### 分散を計算する\n",
        "偏差の二乗の並びの平均値を計算します。"
      ]
    },
    {
      "cell_type": "code",
      "execution_count": 15,
      "metadata": {},
      "outputs": [
        {
          "name": "stdout",
          "output_type": "stream",
          "text": [
            "[165, 168, 171, 177, 171, 162]\n",
            "平均:169.0, 分散: 23.0\n"
          ]
        }
      ],
      "source": [
        "def calc_var(x):\n",
        "    # 分散: variance\n",
        "    m = calc_mean(x) #平均値\n",
        "    # 修正: 元資料の ( ... ] という構文エラーを修正\n",
        "    return calc_mean([ (n-m)**2 for n in x ])\n",
        "\n",
        "a_sample = [165,168,171,177,171,162]\n",
        "print(a_sample)\n",
        "print(f'平均:{calc_mean(a_sample):.1f}, 分散: {calc_var(a_sample):.1f}')"
      ]
    },
    {
      "cell_type": "markdown",
      "metadata": {},
      "source": [
        "### 標準偏差の式と計算\n",
        "分散の平方根。元のデータと同じ単位で比較できる。\n",
        "$$ \\sigma = \\sqrt{\\sigma^2} $$"
      ]
    },
    {
      "cell_type": "code",
      "execution_count": 16,
      "metadata": {},
      "outputs": [
        {
          "name": "stdout",
          "output_type": "stream",
          "text": [
            "class |  mean | variance|std.dev|\n",
            "-----------------------------------\n",
            "  A   |  170.6 |   45.9 |   6.8 |\n",
            "  B   |  170.6 |  130.7 |  11.4 |\n"
          ]
        }
      ],
      "source": [
        "import math\n",
        "\n",
        "def print_stats(name, x):\n",
        "    m = calc_mean(x) #平均\n",
        "    v = calc_var(x)  # 分散\n",
        "    s = math.sqrt(v) # 標準偏差: standard deviation\n",
        "    print(f'{name:^6}|{m:7.1f} |{v:7.1f} |{s:6.1f} |')\n",
        "\n",
        "# このセルを実行する前に、前のセルで定義した a, b を再度定義します\n",
        "a = [165,168,171,177,171,162,163,166,168,187,172,177]\n",
        "b = [188,161,174,155,184,187,160,158,178,175,160,167]\n",
        "\n",
        "print('class |  mean | variance|std.dev|')\n",
        "print('-----------------------------------')\n",
        "print_stats('A', a)\n",
        "print_stats('B', b)"
      ]
    },
    {
      "cell_type": "markdown",
      "metadata": {},
      "source": [
        "## 互いの関係性"
      ]
    },
    {
      "cell_type": "markdown",
      "metadata": {},
      "source": [
        "### 相関係数\n",
        "* 二種類のデータの関係性を測りたい\n",
        "    * よくある例: 気温とアイスクリームの売り上げ、国語と算数の成績\n",
        "* **相関係数**\n",
        "    * 二種類のデータを定量的に比較するために使われる指標の一つ\n",
        "    * $-1 \\sim +1$ の値で、相関の強さを表す\n",
        "$$ r_{xy}=\\frac{\\frac{1}{n}\\sum_{i=1}^{n}(x_{i}-\\overline{x})(y_{i}-\\overline{y})}{\\sigma_{x}\\sigma_{y}} $$\n",
        "* 分母の $\\sigma_{x}$ と $\\sigma_{y}$ はそれぞれの標準偏差\n",
        "* 分子の $\\frac{1}{n}\\sum_{i=1}^{n}(x_{i}-\\overline{x})(y_{i}-\\overline{y})$ を**共分散**と呼ぶ\n",
        "    * 偏差の積の平均値"
      ]
    },
    {
      "cell_type": "markdown",
      "metadata": {},
      "source": [
        "### グラフとの関係\n",
        "* $r>0$ を正の相関、 $r<0$ を 負の相関、 $r \\approx 0$ の場合を 無相関であるという\n",
        "* 散布図を書いた際にデータの分布に方向性が見える\n",
        "\n",
        "\n",
        ">**注意**: 強い相関があっても、それが因果関係を意味するとは限らない"
      ]
    },
    {
      "cell_type": "markdown",
      "metadata": {},
      "source": [
        "### 例：国語と算数の関係\n",
        "国語と算数の点数に関係があるか？"
      ]
    },
    {
      "cell_type": "code",
      "execution_count": 17,
      "metadata": {},
      "outputs": [
        {
          "data": {
            "image/png": "[encoded data removed]",
            "text/plain": [
              "<Figure size 640x480 with 1 Axes>"
            ]
          },
          "metadata": {},
          "output_type": "display_data"
        }
      ],
      "source": [
        "j = [11, 82, 25, 61, 66, 27, 42, 88, 71, 84] # 国語\n",
        "a_math = [5, 73, 29, 63, 68, 28, 45, 78, 70, 93]  # 算数\n",
        "\n",
        "plt.scatter(j, a_math)\n",
        "plt.title('Relation between Japanese and Arithmetic')\n",
        "plt.xlabel('Japanese')\n",
        "plt.ylabel('Arithmetic')\n",
        "plt.grid(True)\n",
        "plt.show()"
      ]
    },
    {
      "cell_type": "markdown",
      "metadata": {},
      "source": [
        "### 相関係数の計算\n",
        "これまでのやり方と同じ"
      ]
    },
    {
      "cell_type": "code",
      "execution_count": 18,
      "metadata": {},
      "outputs": [],
      "source": [
        "def calc_corr(x, y):\n",
        "    if len(x) != len(y):\n",
        "        print('length error')\n",
        "        return 0\n",
        "    \n",
        "    xm = calc_mean(x)\n",
        "    ym = calc_mean(y)\n",
        "    \n",
        "    # 共分散の計算 (yx = ...)\n",
        "    yx = [ (x[i]-xm) * (y[i]-ym) for i in range(len(x)) ]\n",
        "    \n",
        "    xs = math.sqrt(calc_var(x))\n",
        "    ys = math.sqrt(calc_var(y))\n",
        "    \n",
        "    # 分母が0になるケースを防ぐ\n",
        "    if xs * ys == 0:\n",
        "        return 0\n",
        "        \n",
        "    return calc_mean(yx) / (xs * ys)"
      ]
    },
    {
      "cell_type": "code",
      "execution_count": 19,
      "metadata": {},
      "outputs": [
        {
          "name": "stdout",
          "output_type": "stream",
          "text": [
            "国語と算数の相関係数は0.98\n"
          ]
        }
      ],
      "source": [
        "j = [11, 82, 25, 61, 66, 27, 42, 88, 71, 84] # 国語\n",
        "a_math = [5, 73, 29, 63, 68, 28, 45, 78, 70, 93]  # 算数\n",
        "\n",
        "print(f'国語と算数の相関係数は{calc_corr(j, a_math):.2f}')"
      ]
    },
    {
      "cell_type": "markdown",
      "id": "9d0c3a40",
      "metadata": {},
      "source": [
        "- このデータには正の強い相関がある"
      ]
    },
    {
      "cell_type": "markdown",
      "metadata": {},
      "source": [
        "## プログラミングに関する考察"
      ]
    },
    {
      "cell_type": "markdown",
      "metadata": {},
      "source": [
        "### 名前の付け方\n",
        "変数名と関数名の付け方に注意しよう\n",
        "* 使用範囲の狭い名前は短く、広い名前は長く\n",
        "    * 例: `xm`, `ym` と `calc_mean()`\n",
        "* 他人が読むことを想定して名前をつける\n",
        "  - 英単語が望ましい。長すぎる単語には省略語も良い (例: `calc_corr`)\n",
        "* 学び方は作文と同じ。\n",
        "  * 他者のものたくさん読んで、自分でたくさん書く\n",
        "  * 1度書いたら少し間を空けて読み返す"
      ]
    },
    {
      "cell_type": "markdown",
      "metadata": {},
      "source": [
        "### zip:二つのリストの組み合わせ\n",
        "`zip()`: 同じ長さの二つのリストで、対応する要素を組み合わせる"
      ]
    },
    {
      "cell_type": "code",
      "execution_count": 20,
      "metadata": {},
      "outputs": [
        {
          "name": "stdout",
          "output_type": "stream",
          "text": [
            "<class 'zip'>\n",
            "a 3\n",
            "b 2\n",
            "c 1\n",
            "d 4\n",
            "e 5\n"
          ]
        }
      ],
      "source": [
        "a_char = ['a','b','c','d','e']\n",
        "b_num = [3,2,1,4,5]\n",
        "z = zip(a_char, b_num) # リストの対応する部分を組み合わせる\n",
        "\n",
        "print(type(z))\n",
        "\n",
        "for i, j in z:\n",
        "    print(i, j)"
      ]
    },
    {
      "cell_type": "markdown",
      "metadata": {},
      "source": [
        "### `calc_corr()` 関数の改良\n",
        "`zip` を使うと多少シンプルに見える"
      ]
    },
    {
      "cell_type": "code",
      "execution_count": 25,
      "metadata": {},
      "outputs": [],
      "source": [
        "def calc_corr_zip(x, y):\n",
        "    if len(x) != len(y):\n",
        "        print('length error')\n",
        "        return 0\n",
        "    \n",
        "    xm = calc_mean(x)\n",
        "    ym = calc_mean(y)\n",
        "    \n",
        "    yx = [ (xi - xm) * (yi - ym) for xi, yi in zip(x, y) ]\n",
        "    \n",
        "    xs = math.sqrt(calc_var(x))\n",
        "    ys = math.sqrt(calc_var(y))\n",
        "    \n",
        "    if xs * ys == 0:\n",
        "        return 0\n",
        "        \n",
        "    return calc_mean(yx)/(xs*ys)"
      ]
    },
    {
      "cell_type": "markdown",
      "metadata": {},
      "source": [
        "### 平均の重複計算\n",
        "- 二つの関数で同じ平均値を計算している\n",
        "  - `calc_corr()`でx,yに対して`calc_mean()`を計算し\n",
        "  - `calc_var()`でそれぞれ同じ計算をしている\n",
        "- `calc_var`の引数を変更すると計算の繰り返しを減らせる\n",
        "  - `calc_corr()`で計算した平均値を`calc_var()`に渡す\n",
        "  - デフォルト引数と`None`の組み合わせ"
      ]
    },
    {
      "cell_type": "code",
      "execution_count": 28,
      "metadata": {},
      "outputs": [],
      "source": [
        "def calc_var(x, m=None):\n",
        "    if m is None:\n",
        "        m = calc_mean(x) # 指定がない場合のみ計算\n",
        "    return calc_mean([ (n-m)**2 for n in x ])\n",
        "\n",
        "def calc_corr(x, y):\n",
        "    if len(x) != len(y):\n",
        "        print('length error')\n",
        "        return 0\n",
        "        \n",
        "    xm = calc_mean(x)\n",
        "    ym = calc_mean(y)\n",
        "    \n",
        "    yx = [ (xi - xm)*(yi - ym) for xi, yi in zip(x, y) ]\n",
        "    \n",
        "    # 平均を指定\n",
        "    xs = math.sqrt(calc_var(x, xm))\n",
        "    ys = math.sqrt(calc_var(y, ym))\n",
        "    \n",
        "    if xs * ys == 0:\n",
        "        return 0\n",
        "        \n",
        "    return calc_mean(yx)/(xs*ys)"
      ]
    },
    {
      "cell_type": "markdown",
      "metadata": {},
      "source": [
        "### 時間のかかる計算の削減\n",
        "平方根の計算は手間がかかるので、指数法則 $(a^n b^n = (ab)^n)$ を使えば2回の計算を1回に減らせる。\n",
        "$$ \\sigma_{x}\\sigma_{y}=\\sqrt{\\sigma_{x}^{2}}\\sqrt{\\sigma_{y}^{2}}=\\sqrt{\\sigma_{x}^{2}\\sigma_{y}^{2}} $$"
      ]
    },
    {
      "cell_type": "code",
      "execution_count": 27,
      "metadata": {},
      "outputs": [],
      "source": [
        "def calc_corr(x, y):\n",
        "    if len(x) != len(y):\n",
        "        print('length error')\n",
        "        return 0\n",
        "        \n",
        "    xm = calc_mean(x)\n",
        "    ym = calc_mean(y)\n",
        "    \n",
        "    yx = [ (xi-xm)*(yi-ym) for xi, yi in zip(x,y) ]\n",
        "    \n",
        "    # 平均を指定して、分散を計算\n",
        "    xv = calc_var(x, xm)\n",
        "    yv = calc_var(y, ym)\n",
        "    \n",
        "    # 平方根の計算を1回にまとめる\n",
        "    if xv*yv == 0:\n",
        "        return 0\n",
        "        \n",
        "    return calc_mean(yx)/math.sqrt(xv*yv)"
      ]
    },
    {
      "cell_type": "markdown",
      "metadata": {},
      "source": [
        "### numpy の利用\n",
        "ここまでの処理は、NumPyを使えば遥かに簡単かつ高速に実行できる\n",
        "`np.corrcoef(a,b)`は相関行列 ($2\\times2$ のリスト)を返す。\n",
        "結果が`c`の場合、`c[0][1]` または `c[1][0]` がaとbの相関係数。"
      ]
    },
    {
      "cell_type": "code",
      "execution_count": 24,
      "metadata": {},
      "outputs": [
        {
          "name": "stdout",
          "output_type": "stream",
          "text": [
            "  subjects   |  mean | variance|std.dev|\n",
            "-----------------------------------------\n",
            "  Japanese   |   55.7 |  685.6 |  26.2 |\n",
            " Arithmetic  |   55.2 |  676.0 |  26.0 |\n",
            "-----------------------------------------\n",
            "correlation coefficient: 0.98\n"
          ]
        }
      ],
      "source": [
        "import numpy as np\n",
        "\n",
        "def print_stats_numpy(name, x):\n",
        "    m = np.mean(x)       # 平均: mean\n",
        "    v = np.var(x)        # 分散: variance\n",
        "    s = np.std(x)        # 標準偏差: standard deviation (np.sqrt(v)と同じ)\n",
        "    print(f'{name:^12} |{m:7.1f} |{v:7.1f} |{s:6.1f} |')\n",
        "\n",
        "j = [11, 82, 25, 61, 66, 27, 42, 88, 71, 84] # 国語\n",
        "a_math = [5, 73, 29, 63, 68, 28, 45, 78, 70, 93]  # 算数\n",
        "\n",
        "print('  subjects   |  mean | variance|std.dev|')\n",
        "print('-----------------------------------------')\n",
        "print_stats_numpy('Japanese', j)\n",
        "print_stats_numpy('Arithmetic', a_math)\n",
        "print('-----------------------------------------')\n",
        "\n",
        "c = np.corrcoef(j, a_math) # 相関係数行列\n",
        "print(f'correlation coefficient: {c[0][1]:.2f}')"
      ]
    },
    {
      "cell_type": "markdown",
      "metadata": {},
      "source": [
        "## まとめ\n",
        "* **f文字列**\n",
        "  * \"\"でくくって文字列に値や変数、式などを組み込める\n",
        "* **範囲**\n",
        "  * 最大値と最小値の差、範囲によって統計的な見方が変わる\n",
        "* **分散と標準偏差**\n",
        "  * 分散はばらつきを測る指標\n",
        "  * 平均と同じ単位で比較できるようになったのが標準偏差\n",
        "* **分散の計算プログラム**\n",
        "  * 平均の差を二乗に並べそれぞれたしていく\n",
        "* **相関係数**\n",
        "  * 二種類のデータの相関関係を示す指標\n",
        "* **相関係数の計算プログラム**\n",
        "  * それぞれの標準偏差を利用して求める(関数として定義して求める)"
      ]
    }
  ],
  "metadata": {
    "kernelspec": {
      "display_name": "base",
      "language": "python",
      "name": "python3"
    },
    "language_info": {
      "codemirror_mode": {
        "name": "ipython",
        "version": 3
      },
      "file_extension": ".py",
      "mimetype": "text/x-python",
      "name": "python",
      "nbconvert_exporter": "python",
      "pygments_lexer": "ipython3",
      "version": "3.12.7"
    }
  },
  "nbformat": 4,
  "nbformat_minor": 5
}
