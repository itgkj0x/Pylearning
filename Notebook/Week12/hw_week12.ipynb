{
 "cells": [
  {
   "cell_type": "markdown",
   "id": "de0ccec0",
   "metadata": {},
   "source": [
    "# **プログラミング基礎第12回**\n",
    "\n",
    "---"
   ]
  },
  {
   "cell_type": "markdown",
   "id": "5e31488d",
   "metadata": {},
   "source": []
  }
 ],
 "metadata": {
  "language_info": {
   "name": "python"
  }
 },
 "nbformat": 4,
 "nbformat_minor": 5
}
