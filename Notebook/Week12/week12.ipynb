{
 "cells": [
  {
   "cell_type": "markdown",
   "id": "b7b466c1",
   "metadata": {},
   "source": [
    "# **プログラミング基礎第12回**\n",
    "\n",
    "---"
   ]
  },
  {
   "cell_type": "markdown",
   "id": "0dac1ad7",
   "metadata": {},
   "source": []
  }
 ],
 "metadata": {
  "language_info": {
   "name": "python"
  }
 },
 "nbformat": 4,
 "nbformat_minor": 5
}
