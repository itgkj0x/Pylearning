{
 "cells": [
  {
   "cell_type": "markdown",
   "metadata": {},
   "source": [
    "<h1><strong>プログラミング基礎第13回</strong></h1><p>ファイルからのデータ読み込み</p>\n",
    "<hr>"
   ]
  },
  {
   "cell_type": "markdown",
   "metadata": {},
   "source": [
    "### これまでの講義で皆さんはすでに\n",
    "<ul>\n",
    "<li>条件分岐や繰り返し処理ができる</li>\n",
    "<li>行列計算や物理演算ができる</li>\n",
    "<li>データ(計算結果)を図示できる</li>\n",
    "<li>簡単な統計量の計算ができる</li>\n",
    "</ul>\n",
    "\n",
    "### 今日の目標\n",
    "<ul>\n",
    "<li>ファイルからデータを読み込めるようになる</li>\n",
    "<li>読み込んだデータに対して処理できるようになる</li>\n",
    "</ul>"
   ]
  },
  {
   "cell_type": "markdown",
   "metadata": {},
   "source": [
    "## ファイルの読み込み"
   ]
  },
  {
   "cell_type": "markdown",
   "metadata": {},
   "source": [
    "### 使用するファイル\n",
    "<ul>\n",
    "<li>ファイル名は <code>mydata01.txt</code></li>\n",
    "<li>ファイルの内容</li>\n",
    "</ul>\n",
    "\n",
    "```\n",
    "2\n",
    "3\n",
    "5\n",
    "7\n",
    "11\n",
    "```"
   ]
  },
  {
   "cell_type": "markdown",
   "metadata": {},
   "source": [
    "### はじめてのファイル操作\n",
    "<ul>\n",
    "<li>組み込み関数 <code>open()</code> を使いファイルを開く</li>\n",
    "<li><code>readlines()</code> メソッドでファイルを読み込みリストを作成する\n",
    "    <ul>\n",
    "    <li>リストの要素はファイルの各行に対応する</li>\n",
    "    </ul>\n",
    "</li>\n",
    "<li>ファイルは開いたら <code>close()</code> で閉じる必要がある</li>\n",
    "</ul>"
   ]
  },
  {
   "cell_type": "code",
   "execution_count": null,
   "metadata": {},
   "outputs": [
    {
     "ename": "",
     "evalue": "",
     "output_type": "error",
     "traceback": [
      "\u001b[1;31m'Pylearning-_cxNxL1X (Python 3.13.5)' でセルを実行するには、 ipykernel パッケージが必要です。\n",
      "\u001b[1;31m<a href='command:jupyter.createPythonEnvAndSelectController'>Python 環境の作成</a> および必要なパッケージ。\n",
      "\u001b[1;31mまたは、次のコマンドを使用して 'ipykernel' をインストールします: 'c:/Users/itgkj/.virtualenvs/Pylearning-_cxNxL1X/Scripts/python.exe -m pip install ipykernel -U --force-reinstall'"
     ]
    }
   ],
   "source": [
    "file = open('mydata01.txt')\n",
    "lines = file.readlines() # 1度にすべて読み込む\n",
    "file.close() # ファイルを閉じる\n",
    "print(lines)"
   ]
  },
  {
   "cell_type": "markdown",
   "metadata": {},
   "source": [
    "<ul>\n",
    "<li>リスト中に'\\n'だけの要素があると後でエラーが起きる</li>\n",
    "<li>mydata01.txtを編集して空行をなくすこと</li>\n",
    "<li>最後が'11\\n'でなく'11'でも問題はない</li>\n",
    "</ul>"
   ]
  },
  {
   "cell_type": "markdown",
   "metadata": {},
   "source": [
    "### 1行ごとに読み込む\n",
    "<ul>\n",
    "<li><code>readline()</code> メソッドを利用して1行だけ読み込む</li>\n",
    "</ul>"
   ]
  },
  {
   "cell_type": "code",
   "execution_count": null,
   "metadata": {},
   "outputs": [],
   "source": [
    "file = open('mydata01.txt')\n",
    "line1 = file.readline() # 単数形で指定(sがない)\n",
    "line2 = file.readline()\n",
    "file.close()\n",
    "print(line1, end='') # 読み込んだ文字に改行文字があるため\n",
    "print(line2, end='')"
   ]
  },
  {
   "cell_type": "markdown",
   "metadata": {},
   "source": [
    "<ul>\n",
    "<li>組み込み関数 <code>next()</code> を利用する方法</li>\n",
    "</ul>"
   ]
  },
  {
   "cell_type": "code",
   "execution_count": null,
   "metadata": {},
   "outputs": [],
   "source": [
    "# 組み込み関数の next() を利用する方法\n",
    "file = open('mydata01.txt')\n",
    "line1 = next(file) # 少し短い指定\n",
    "line2 = next(file)\n",
    "file.close()\n",
    "print(line1, end='')\n",
    "print(line2, end='')"
   ]
  },
  {
   "cell_type": "markdown",
   "metadata": {},
   "source": [
    "どちらの出力もprint()ごとに改行されていることに注意"
   ]
  },
  {
   "cell_type": "markdown",
   "metadata": {},
   "source": [
    "### for文との組み合わせ"
   ]
  },
  {
   "cell_type": "markdown",
   "metadata": {},
   "source": [
    "`readline()`メソッドの結果を変数に入れてから`for`文で利用"
   ]
  },
  {
   "cell_type": "code",
   "execution_count": null,
   "metadata": {},
   "outputs": [],
   "source": [
    "file = open('mydata01.txt')\n",
    "lines = file.readlines()\n",
    "file.close()\n",
    "for line in lines:\n",
    "    print(line,end='')"
   ]
  },
  {
   "cell_type": "markdown",
   "metadata": {},
   "source": [
    "`readline()`メソッドをそのままfor文で利用"
   ]
  },
  {
   "cell_type": "code",
   "execution_count": null,
   "metadata": {},
   "outputs": [],
   "source": [
    "file = open('mydata01.txt')\n",
    "\n",
    "for line in file.readlines():\n",
    "    print(line, end='')\n",
    "\n",
    "file.close()"
   ]
  },
  {
   "cell_type": "markdown",
   "metadata": {},
   "source": [
    "`open()`の結果はリストのように扱える"
   ]
  },
  {
   "cell_type": "code",
   "execution_count": null,
   "metadata": {},
   "outputs": [],
   "source": [
    "file = open('mydata01.txt')\n",
    "for line in file: \n",
    "    print(line, end='')\n",
    "file.close()"
   ]
  },
  {
   "cell_type": "markdown",
   "metadata": {},
   "source": [
    "ただし、リストではない。\n",
    "(添え字は指定できない)"
   ]
  },
  {
   "cell_type": "code",
   "execution_count": null,
   "metadata": {},
   "outputs": [],
   "source": [
    "file = open('mydata01.txt')\n",
    "print(file[0], end='') \n",
    "file.close()"
   ]
  },
  {
   "cell_type": "markdown",
   "metadata": {},
   "source": [
    "### 数値として扱う\n",
    "読み込んだ内容は文字列なので、計算には`int()`などで型変換が必要"
   ]
  },
  {
   "cell_type": "code",
   "execution_count": null,
   "metadata": {},
   "outputs": [],
   "source": [
    "n = []\n",
    "file = open('mydata01.txt')\n",
    "for line in file:\n",
    "    n.append(int(line)) # int に変換してリストに追加\n",
    "file.close()\n",
    "print(\"n=\", n)\n",
    "print('sum = ', sum(n))\n",
    "print('ave = ', sum(n)/len(n))"
   ]
  },
  {
   "cell_type": "markdown",
   "metadata": {},
   "source": [
    "空のリストから`for`文で`append()`するならばリスト内記法を使う"
   ]
  },
  {
   "cell_type": "code",
   "execution_count": null,
   "metadata": {},
   "outputs": [],
   "source": [
    "file = open('mydata01.txt')\n",
    "n = [int(line) for line in file]\n",
    "file.close()\n",
    "print(\"n=\", n)\n",
    "print(\"sum=\", sum(n))\n",
    "print(\"ave=\", sum(n)/len(n))"
   ]
  },
  {
   "cell_type": "markdown",
   "metadata": {},
   "source": [
    "### リスト内記法での注意\n",
    "一つ一つ`print()`として確認することが大切\n",
    "<ul>\n",
    "<li>演習問題に取り組む習慣としよう</li>\n",
    "</ul>"
   ]
  },
  {
   "cell_type": "code",
   "execution_count": null,
   "metadata": {},
   "outputs": [],
   "source": [
    "file  = open(\"mydata01.txt\")\n",
    "print(type(file))   #リストではない\n",
    "x = list(file)      #リストに変換\n",
    "print('x = ',x)     #出力を確認\n",
    "s = [ line for line in x ]\n",
    "print('s = ',s)\n",
    "n = [ int(line) for line in x ]\n",
    "print(' n = ',n)\n",
    "file.close()"
   ]
  },
  {
   "cell_type": "markdown",
   "metadata": {},
   "source": [
    "### `with` 構文\n",
    "`open()`を`with`構文で使うと、`close()`の呼び出しが自動化される。"
   ]
  },
  {
   "cell_type": "code",
   "execution_count": null,
   "metadata": {},
   "outputs": [],
   "source": [
    "n = 0\n",
    "with open('mydata01.txt') as file:\n",
    "    for line in file:\n",
    "        n += int(line)\n",
    "# ここでfileは閉じられている\n",
    "print(n)"
   ]
  },
  {
   "cell_type": "code",
   "execution_count": null,
   "metadata": {},
   "outputs": [],
   "source": [
    "n = []\n",
    "with open('mydata01.txt') as file:\n",
    "    for line in file:\n",
    "        n.append(int(line))\n",
    "print(f'n = {n}')\n",
    "print(f'sum = {sum(n)}')\n",
    "print(f'ave = {sum(n)/len(n)}')"
   ]
  },
  {
   "cell_type": "markdown",
   "metadata": {},
   "source": [
    "### With構文とリスト内包表記"
   ]
  },
  {
   "cell_type": "code",
   "execution_count": null,
   "metadata": {},
   "outputs": [],
   "source": [
    "with open('mydata01.txt') as file:\n",
    "    n = [int(i) for i in file]\n",
    "# ここで file は閉じられている\n",
    "print(\"n=\", n)\n",
    "print(\"sum=\", sum(n))\n",
    "print(\"ave:=\", sum(n)/len(n))"
   ]
  },
  {
   "cell_type": "markdown",
   "metadata": {},
   "source": [
    "## リストの添字とスライス"
   ]
  },
  {
   "cell_type": "markdown",
   "metadata": {},
   "source": [
    "### リストの負の添字\n",
    "リストの添字（要素番号）は負でもよい\n",
    "<ul>\n",
    "<li><code>n[-1]</code> が末尾、<code>n[-2]</code> が末尾から2番目の要素を意味する</li>\n",
    "</ul>"
   ]
  },
  {
   "cell_type": "code",
   "execution_count": null,
   "metadata": {},
   "outputs": [],
   "source": [
    "n = list(range(12))\n",
    "print(\"n=\", n)\n",
    "print(\"n[-1] =\", n[-1]) # 末尾\n",
    "print(\"n[-2] =\", n[-2]) # 末尾から2番目\n",
    "print(\"n[-len(n)] =\", n[-len(n)]) # 先頭"
   ]
  },
  {
   "cell_type": "markdown",
   "metadata": {},
   "source": [
    "### リストの範囲指定\n",
    "リスト内の範囲を指定して部分リストが取り出せる（スライス）\n",
    "<ul>\n",
    "<li>指定方法: <code>n[a:b]</code> は <code>a &lt;= i &lt; b</code> となる添字 <code>i</code> の要素, <code>b-a</code> が個数</li>\n",
    "</ul>"
   ]
  },
  {
   "cell_type": "code",
   "execution_count": null,
   "metadata": {},
   "outputs": [],
   "source": [
    "n = list(range(12))\n",
    "print(\"n=\", n) # 添字と要素が一致している\n",
    "print(\"n[2:9] =\", n[2:9])\n",
    "print(\"n[:9] =\", n[:9]) # 先頭から\n",
    "print(\"n[2:] =\", n[2:]) # 末尾まで\n",
    "print(\"n[:] =\", n[:]) # 全体"
   ]
  },
  {
   "cell_type": "markdown",
   "metadata": {},
   "source": [
    "### リストの範囲指定ととび幅\n",
    "`n[a:b:c]` のようにとび幅の指定も可能"
   ]
  },
  {
   "cell_type": "code",
   "execution_count": null,
   "metadata": {},
   "outputs": [],
   "source": [
    "n = list(range(12))\n",
    "print(\"n=\", n)\n",
    "print(\"n[::2] =\", n[::2])\n",
    "print(\"n[::3] =\", n[::3])\n",
    "print(\"n[:9:2] =\", n[:9:2])\n",
    "print(\"n[2::2] =\", n[2::2])\n",
    "print(\"n[2:9:2] =\", n[2:9:2])"
   ]
  },
  {
   "cell_type": "markdown",
   "metadata": {},
   "source": [
    "### range とリスト\n",
    "<ul>\n",
    "<li><code>range()</code> の結果はリストのように振る舞うがリストではない</li>\n",
    "<li><code>list()</code> でリスト化できる</li>\n",
    "<li>リスト内包表記にも <code>range()</code> は使える</li>\n",
    "<li>範囲指定は <code>range()</code> とリストで同じ考え方（カンマとコロンが違う）</li>\n",
    "</ul>"
   ]
  },
  {
   "cell_type": "code",
   "execution_count": null,
   "metadata": {},
   "outputs": [],
   "source": [
    "x = range(12)\n",
    "print(type(x)) # 型を確認\n",
    "print(\"x =\", x)\n",
    "n1 = list(range(12)) # リスト化\n",
    "print(\"n1=\", n1)\n",
    "n2 = [i for i in range(12)] # リスト内包表記で使用\n",
    "print(\"n2=\", n2)\n",
    "print([x[i] for i in range(2,9,3)]) # 添字を指定して要素を出力\n",
    "print([n1[i] for i in range(2,9,3)]) # リストの添字部分と同じ"
   ]
  },
  {
   "cell_type": "markdown",
   "metadata": {},
   "source": [
    "## CSVファイル"
   ]
  },
  {
   "cell_type": "markdown",
   "metadata": {},
   "source": [
    "### CSVファイルとは\n",
    "<ul>\n",
    "<li>「値,値,値,...」の形式の行が複数ある</li>\n",
    "<li>それぞれの値はカンマで区切られている</li>\n",
    "</ul>"
   ]
  },
  {
   "cell_type": "markdown",
   "metadata": {},
   "source": [
    "### CSVファイルと表計算ソフト\n",
    "Excel などの表計算ソフトで読み書きができる"
   ]
  },
  {
   "cell_type": "markdown",
   "metadata": {},
   "source": [
    "### CSVファイルの解釈\n",
    "CSVファイルにおける値の名称 (RFC4180)\n",
    "<ul>\n",
    "<li><strong>レコード</strong>: ある一行の値のまとまり</li>\n",
    "<li><strong>フィールド</strong>: ある一列（項目）の値のまとまり</li>\n",
    "<li><strong>ヘッダ</strong>: 一行目のレコード（見出し）</li>\n",
    "</ul>\n",
    "<blockquote>\n",
    "<p>RFC (Request for Comments): ファイルの形式などを定める技術仕様書</p>\n",
    "</blockquote>"
   ]
  },
  {
   "cell_type": "markdown",
   "metadata": {},
   "source": [
    "### CSVファイルの読み込み確認\n",
    "CSVファイルを扱うには工夫が必要\n",
    "<ul>\n",
    "<li>1行ごとに処理する</li>\n",
    "<li>文字列と数が混在している</li>\n",
    "<li>カンマ(,)文字でそれぞれが区切られている</li>\n",
    "<li>1行目だけ形式が違う（常とは限らない）</li>\n",
    "</ul>"
   ]
  },
  {
   "cell_type": "code",
   "execution_count": null,
   "metadata": {},
   "outputs": [],
   "source": [
    "with open('mydata02.csv') as file:\n",
    "    for line in file:\n",
    "        print(line, end='') # 改行なし指定でも改行する"
   ]
  },
  {
   "cell_type": "markdown",
   "metadata": {},
   "source": [
    "### リストとして取り込んでみる\n",
    "`readlines()` で一度に読み込んでリスト化\n",
    "<ul>\n",
    "<li>行が要素に対応するリストができた</li>\n",
    "<li>各要素に改行文字が含まれる</li>\n",
    "<li>改行文字を取り除いた要素が欲しい</li>\n",
    "</ul>"
   ]
  },
  {
   "cell_type": "code",
   "execution_count": null,
   "metadata": {},
   "outputs": [],
   "source": [
    "with open('mydata02.csv') as file:\n",
    "    data = file.readlines()\n",
    "print(data)"
   ]
  },
  {
   "cell_type": "markdown",
   "metadata": {},
   "source": [
    "### 文字列の操作\n",
    "#### 文字列の置き換え操作\n",
    "`str.replace(置換前, 置換後)`"
   ]
  },
  {
   "cell_type": "code",
   "execution_count": null,
   "metadata": {},
   "outputs": [],
   "source": [
    "a = 'abc\\n'\n",
    "b = a.replace('\\n', '') # 改行文字をなしにする\n",
    "print(b)"
   ]
  },
  {
   "cell_type": "code",
   "execution_count": null,
   "metadata": {},
   "outputs": [],
   "source": [
    "print(a) # a に変化はない"
   ]
  },
  {
   "cell_type": "markdown",
   "metadata": {},
   "source": [
    "#### 以下も役に立ちそう（第5回資料より）\n",
    "`str.split(区切り文字)`"
   ]
  },
  {
   "cell_type": "code",
   "execution_count": null,
   "metadata": {},
   "outputs": [],
   "source": [
    "str1 = '2021/05/11'\n",
    "y = str1.split('/') # 文字列で区切ったリスト\n",
    "print(y)"
   ]
  },
  {
   "cell_type": "markdown",
   "metadata": {},
   "source": [
    "### 改行の除去\n",
    "まずは改行を取り除く\n",
    "<ul>\n",
    "<li><code>str.replace()</code> を使う</li>\n",
    "</ul>"
   ]
  },
  {
   "cell_type": "code",
   "execution_count": null,
   "metadata": {},
   "outputs": [],
   "source": [
    "with open('mydata02.csv') as file:\n",
    "    data = file.readlines()\n",
    "x = []\n",
    "for d in data:\n",
    "    x.append(d.replace('\\n', ''))\n",
    "print(x)"
   ]
  },
  {
   "cell_type": "markdown",
   "metadata": {},
   "source": [
    "### カンマ区切り\n",
    "文字列をカンマで分けてリストにする\n",
    "<ul>\n",
    "<li><code>str.split()</code> を使う</li>\n",
    "</ul>"
   ]
  },
  {
   "cell_type": "code",
   "execution_count": null,
   "metadata": {},
   "outputs": [],
   "source": [
    "with open('mydata02.csv') as file:\n",
    "    data = file.readlines()\n",
    "x = []\n",
    "for d in data:\n",
    "    d = d.replace('\\n', '') # 更新\n",
    "    x.append(d.split(','))\n",
    "print(x)"
   ]
  },
  {
   "cell_type": "markdown",
   "metadata": {},
   "source": [
    "### 簡潔に記述する\n",
    "<ul>\n",
    "<li><code>str.replace()</code> の結果は文字列なので、そのまま <code>str.split()</code> が使える</li>\n",
    "</ul>"
   ]
  },
  {
   "cell_type": "code",
   "execution_count": null,
   "metadata": {},
   "outputs": [],
   "source": [
    "a = 'a,b,c\\n'\n",
    "b = a.replace('\\n', '').split(',')\n",
    "print(b)"
   ]
  },
  {
   "cell_type": "markdown",
   "metadata": {},
   "source": [
    "<ul>\n",
    "<li><code>file.readlines()</code> を for に使うならば、<code>file</code> の指定でも良い</li>\n",
    "<li>空のリストから for 文で <code>append()</code> するならばリスト内包表記を使う</li>\n",
    "</ul>"
   ]
  },
  {
   "cell_type": "code",
   "execution_count": null,
   "metadata": {},
   "outputs": [],
   "source": [
    "with open('mydata02.csv') as file:\n",
    "    x = [line.replace('\\n', '').split(',') for line in file]\n",
    "print(x)"
   ]
  },
  {
   "cell_type": "markdown",
   "metadata": {},
   "source": [
    "### 関数を定義する\n",
    "ファイル名を引数にした関数を作れば汎用的に使える"
   ]
  },
  {
   "cell_type": "code",
   "execution_count": null,
   "metadata": {},
   "outputs": [],
   "source": [
    "def myreadcsv(filename):\n",
    "    with open(filename) as file:\n",
    "        csv = [line.replace('\\n','').split(',') for line in file]\n",
    "    return csv"
   ]
  },
  {
   "cell_type": "code",
   "execution_count": null,
   "metadata": {},
   "outputs": [],
   "source": [
    "csvdata = myreadcsv('mydata02.csv')\n",
    "print(csvdata)"
   ]
  },
  {
   "cell_type": "markdown",
   "metadata": {},
   "source": [
    "### レコードごとに処理を行う\n",
    "<ul>\n",
    "<li><code>enumerate()</code> は、順序数と要素のペアを返す</li>\n",
    "<li>最初の行（ヘッダ）と最初の列（レコードの第1フィールド）は別扱いが必要か？</li>\n",
    "</ul>"
   ]
  },
  {
   "cell_type": "code",
   "execution_count": null,
   "metadata": {},
   "outputs": [],
   "source": [
    "for n, row in enumerate(csvdata):\n",
    "    print(n, ':', row)"
   ]
  },
  {
   "cell_type": "markdown",
   "metadata": {},
   "source": [
    "### ヘッダと第1フィールドの除去\n",
    "<ul>\n",
    "<li><code>myreadcsv()</code> が返した <code>csvdata</code> はリストなのでスライスが使える</li>\n",
    "</ul>"
   ]
  },
  {
   "cell_type": "code",
   "execution_count": null,
   "metadata": {},
   "outputs": [],
   "source": [
    "print(csvdata[1:]) # ヘッダを削除"
   ]
  },
  {
   "cell_type": "markdown",
   "metadata": {},
   "source": [
    "<ul>\n",
    "<li>さらに取り出したレコードもスライスで第1フィールドを削れる</li>\n",
    "</ul>"
   ]
  },
  {
   "cell_type": "code",
   "execution_count": null,
   "metadata": {},
   "outputs": [],
   "source": [
    "for row in csvdata[1:]: # ヘッダを削除\n",
    "    print(row[1:]) # 第1フィールド削除"
   ]
  },
  {
   "cell_type": "markdown",
   "metadata": {},
   "source": [
    "### 計算するための変換\n",
    "計算には各フィールドを文字列から数値に変換する必要がある"
   ]
  },
  {
   "cell_type": "code",
   "execution_count": null,
   "metadata": {},
   "outputs": [],
   "source": [
    "for row in csvdata[1:]: #ヘッダを削除\n",
    "    for f in row[1:]: #第1フィールド以外\n",
    "        print(int(f), end=' ') # 数値に変換\n",
    "    print()"
   ]
  },
  {
   "cell_type": "markdown",
   "metadata": {},
   "source": [
    "<ul>\n",
    "<li><code>print</code> せずにリストの形で保持する場合</li>\n",
    "</ul>"
   ]
  },
  {
   "cell_type": "code",
   "execution_count": null,
   "metadata": {},
   "outputs": [],
   "source": [
    "p = []\n",
    "for row in csvdata[1:]: # ヘッダを削除\n",
    "    for f in row[1:]: # 第1フィールド以外\n",
    "        p.append(int(f))\n",
    "print(p)"
   ]
  },
  {
   "cell_type": "markdown",
   "metadata": {},
   "source": [
    "### リスト内包表記で簡潔にする\n",
    "リスト内包表記の方が言葉で説明しやすい"
   ]
  },
  {
   "cell_type": "code",
   "execution_count": null,
   "metadata": {},
   "outputs": [],
   "source": [
    "for row in csvdata[1:]: # ヘッダを削除\n",
    "    p = [int(f) for f in row[1:]]\n",
    "    print(p)"
   ]
  },
  {
   "cell_type": "markdown",
   "metadata": {},
   "source": [
    "### CSV モジュールの利用\n",
    "内部の動作を理解したらライブラリを使う\n",
    "<ul>\n",
    "<li>CSV モジュールは標準で <code>import</code> できる</li>\n",
    "</ul>"
   ]
  },
  {
   "cell_type": "code",
   "execution_count": null,
   "metadata": {},
   "outputs": [],
   "source": [
    "import csv # 一度だけ行う"
   ]
  },
  {
   "cell_type": "code",
   "execution_count": null,
   "metadata": {},
   "outputs": [],
   "source": [
    "with open('mydata02.csv') as file:\n",
    "    reader = csv.reader(file)\n",
    "    for row in reader: # 1行ずつ取り出す\n",
    "        print(row)"
   ]
  },
  {
   "cell_type": "markdown",
   "metadata": {},
   "source": [
    "### CSV モジュールのヘッダ除去\n",
    "ヘッダが不要な場合には <code>next()</code> で読み飛ばせる"
   ]
  },
  {
   "cell_type": "code",
   "execution_count": null,
   "metadata": {},
   "outputs": [],
   "source": [
    "with open('mydata02.csv') as file:\n",
    "    reader = csv.reader(file)\n",
    "    next(reader) #ヘッダを読み飛ばす\n",
    "    for row in reader:\n",
    "        p = [int(f) for f in row[1:]] #第1フィールドを除き数値化したリスト\n",
    "        print(p)"
   ]
  },
  {
   "cell_type": "markdown",
   "metadata": {},
   "source": [
    "## まとめ\n",
    "<ul>\n",
    "<li><strong>ファイルの読み込み</strong>: <code>with open(...)</code>構文でファイルを扱い、<code>for</code>ループやリスト内包表記で効率的にデータを読み込む。</li>\n",
    "<li><strong>リストの添字とスライス</strong>: 添字<code>[]</code>やスライス<code>:</code>を使い、リストの要素を柔軟に操作する。</li>\n",
    "<li><strong>CSVファイル</strong>: カンマ区切りのデータを扱う。データをあつかいやすい</li>\n",
    "</ul>"
   ]
  },
  {
   "cell_type": "markdown",
   "metadata": {},
   "source": []
  }
 ],
 "metadata": {
  "kernelspec": {
   "display_name": "Pylearning-_cxNxL1X",
   "language": "python",
   "name": "python3"
  },
  "language_info": {
   "codemirror_mode": {
    "name": "ipython",
    "version": 3
   },
   "file_extension": ".py",
   "mimetype": "text/x-python",
   "name": "python",
   "nbconvert_exporter": "python",
   "pygments_lexer": "ipython3",
   "version": "3.13.5"
  }
 },
 "nbformat": 4,
 "nbformat_minor": 4
}
