{
 "cells": [
  {
   "cell_type": "markdown",
   "id": "89a82045",
   "metadata": {},
   "source": [
    "# **プログラミング基礎第13回**\n",
    "\n",
    "---"
   ]
  },
  {
   "cell_type": "markdown",
   "id": "3d9eb41f",
   "metadata": {},
   "source": [
    "## 演習1\n",
    "`mydata01.txt`を読み込み、行番号とともに出力するプログラムを作成せよ。ただし、行番号は6桁分の幅とし、2文字の空白の後にファイルの各行を表示させること。"
   ]
  },
  {
   "cell_type": "code",
   "execution_count": 24,
   "id": "de8706ed",
   "metadata": {},
   "outputs": [
    {
     "name": "stdout",
     "output_type": "stream",
     "text": [
      "1   2\n",
      "\n",
      "2   3\n",
      "\n",
      "3   5\n",
      "\n",
      "4   7\n",
      "\n",
      "5   11\n"
     ]
    }
   ],
   "source": [
    "n = 1\n",
    "with open('mydata01.txt') as file:\n",
    "    files = list(file)\n",
    "    while n <= len(files):\n",
    "        print(n,\" \",files[n-1])\n",
    "        n += 1"
   ]
  },
  {
   "cell_type": "markdown",
   "id": "cdcc1d47",
   "metadata": {},
   "source": [
    "## 演習2"
   ]
  },
  {
   "cell_type": "markdown",
   "id": "2544b812",
   "metadata": {},
   "source": [
    "mydata02.csvを読み込み、IDと点数の合計を出力するプログラムを作成せよ。IDは10桁幅の中央寄せ、合計点は6桁幅右寄せとする。"
   ]
  },
  {
   "cell_type": "code",
   "execution_count": 42,
   "id": "81de75c5",
   "metadata": {},
   "outputs": [],
   "source": [
    "import csv\n",
    "   \n",
    "def myreadcsv(filename):\n",
    "       with open(filename, 'r', encoding='utf-8') as f:\n",
    "           reader = csv.reader(f)\n",
    "           next(reader)  \n",
    "           return [row for row in reader]"
   ]
  },
  {
   "cell_type": "code",
   "execution_count": 36,
   "id": "ee84bcb2",
   "metadata": {},
   "outputs": [
    {
     "name": "stdout",
     "output_type": "stream",
     "text": [
      "    ID    | total\n",
      "----------|------\n",
      " us301010 |   414\n",
      " us301012 |   367\n",
      " us301013 |   414\n",
      " us301015 |   376\n"
     ]
    }
   ],
   "source": [
    "csvdata = myreadcsv('mydata02.csv')\n",
    "print(f'{'ID':^10}|{\"total\":>6}')\n",
    "print('----------|------')\n",
    "\n",
    "for row in csvdata:\n",
    "    user_id = row[0]\n",
    "    total = sum(int(x) for x in row[1:])\n",
    "    print(f'{user_id:^10}|{total:>6}')\n"
   ]
  },
  {
   "cell_type": "markdown",
   "id": "5e5bb7c0",
   "metadata": {},
   "source": [
    "## 演習3\n",
    "mydata02.csvを読み込み、科目ごとの点数を横に並べた形式の表を出力せよ。縦の各列は10桁幅の中央寄せとする。"
   ]
  },
  {
   "cell_type": "code",
   "execution_count": 41,
   "id": "66a29408",
   "metadata": {},
   "outputs": [
    {
     "name": "stdout",
     "output_type": "stream",
     "text": [
      "    ID      us301010   us301012   us301013   us301015  \n",
      "   LANG        97         62         78         82     \n",
      "   MATH        66         85         96         80     \n",
      " SCIENCE       72         99         82         74     \n",
      " SOCIETY       80         77         87         81     \n",
      " ENGLISH       99         44         71         59     \n"
     ]
    }
   ],
   "source": [
    "import csv\n",
    "with open('mydata02.csv') as f:\n",
    "    reader = csv.reader(f)\n",
    "    csvdata = list(reader) \n",
    "\n",
    "    num_rows = len(csvdata)\n",
    "    num_cols = len(csvdata[0])\n",
    "\n",
    "for i in range(num_cols):\n",
    "    for j in range(num_rows):         \n",
    "        print(f'{csvdata[j][i]:^10}', end=' ')\n",
    "    print()"
   ]
  }
 ],
 "metadata": {
  "kernelspec": {
   "display_name": "base",
   "language": "python",
   "name": "python3"
  },
  "language_info": {
   "codemirror_mode": {
    "name": "ipython",
    "version": 3
   },
   "file_extension": ".py",
   "mimetype": "text/x-python",
   "name": "python",
   "nbconvert_exporter": "python",
   "pygments_lexer": "ipython3",
   "version": "3.12.7"
  }
 },
 "nbformat": 4,
 "nbformat_minor": 5
}
