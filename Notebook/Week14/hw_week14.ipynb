{
 "cells": [
  {
   "cell_type": "markdown",
   "id": "b311b784",
   "metadata": {},
   "source": [
    "# **プログラミング基礎第14回**\n",
    "\n",
    "---"
   ]
  },
  {
   "cell_type": "markdown",
   "id": "b6b20e94",
   "metadata": {},
   "source": []
  }
 ],
 "metadata": {
  "language_info": {
   "name": "python"
  }
 },
 "nbformat": 4,
 "nbformat_minor": 5
}
