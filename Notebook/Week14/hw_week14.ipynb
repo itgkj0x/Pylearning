{
 "cells": [
  {
   "cell_type": "markdown",
   "metadata": {},
   "source": [
    "# **プログラミング基礎第14回**\n",
    "集合と確率\n",
    "\n",
    "---"
   ]
  },
  {
   "cell_type": "markdown",
   "metadata": {},
   "source": [
    "## 集合"
   ]
  },
  {
   "cell_type": "markdown",
   "metadata": {},
   "source": [
    "### 集合(Set)とは\n",
    "- 集合とは\n",
    "    - 要素(element)の集まり\n",
    "    - メンバーや元の集まりと呼ぶこともある\n",
    "- 要素に関する特性\n",
    "    - 集合に含まれるかという質問に明確に答えられる\n",
    "    - 集合の中に重複はない\n",
    "    - 順序づけ は考えない\n",
    "- この授業では基本的に有限集合を扱う\n",
    "    - つまり、値の種類が有限個"
   ]
  },
  {
   "cell_type": "markdown",
   "metadata": {},
   "source": [
    "### FiniteSet クラス\n",
    "Python は組み込み型 `set` で集合を扱えるが、\n",
    "この授業では SymPy モジュールの `FiniteSet` クラスを使う"
   ]
  },
  {
   "cell_type": "code",
   "execution_count": 1,
   "metadata": {},
   "outputs": [],
   "source": [
    "from sympy import FiniteSet"
   ]
  },
  {
   "cell_type": "code",
   "execution_count": 2,
   "metadata": {},
   "outputs": [
    {
     "data": {
      "text/latex": [
       "$\\displaystyle \\left\\{2, 4, 6\\right\\}$"
      ],
      "text/plain": [
       "{2, 4, 6}"
      ]
     },
     "execution_count": 2,
     "metadata": {},
     "output_type": "execute_result"
    }
   ],
   "source": [
    "s = FiniteSet(2, 4, 6)\n",
    "s"
   ]
  },
  {
   "cell_type": "markdown",
   "metadata": {},
   "source": [
    "いろいろな型の値を要素に持つことができる\n",
    "- SymPy は数式処理ライブラリなので、文字列の要素には対応しない\n",
    "- 組み込み型 `set` は文字列に対応するがその他の機能が少ない"
   ]
  },
  {
   "cell_type": "code",
   "execution_count": 3,
   "metadata": {},
   "outputs": [
    {
     "data": {
      "text/latex": [
       "$\\displaystyle \\left\\{2, 4, 9.8, \\text{True}\\right\\}$"
      ],
      "text/plain": [
       "{2, 4, 9.8, True}"
      ]
     },
     "execution_count": 3,
     "metadata": {},
     "output_type": "execute_result"
    }
   ],
   "source": [
    "FiniteSet(2, 4, 9.8, True) # 整数と実数と bool 値"
   ]
  },
  {
   "cell_type": "markdown",
   "metadata": {},
   "source": [
    "### リストからの集合の作成\n",
    "- リストは要素が重複してもよく、要素の順序が意味を持つ\n",
    "- リストの要素を集合にすると重複がなくなる\n",
    "- FiniteSet は要素が昇順に並ぶがその順序を利用してはならない"
   ]
  },
  {
   "cell_type": "code",
   "execution_count": 4,
   "metadata": {},
   "outputs": [
    {
     "data": {
      "text/latex": [
       "$\\displaystyle \\left\\{1, 2, 3, 4, 5\\right\\}$"
      ],
      "text/plain": [
       "{1, 2, 3, 4, 5}"
      ]
     },
     "execution_count": 4,
     "metadata": {},
     "output_type": "execute_result"
    }
   ],
   "source": [
    "members = [1,4,2,3,3,4,5] # 重複を持つリスト\n",
    "FiniteSet( * members ) # アスタリスク指定"
   ]
  },
  {
   "cell_type": "markdown",
   "metadata": {},
   "source": [
    "`FiniteSet(*members)`は `FiniteSet(1,4,2,3,3,4,5)` を意味する"
   ]
  },
  {
   "cell_type": "markdown",
   "metadata": {},
   "source": [
    "### アスタリスク付き実引数\n",
    "引数の数が可変の関数では、リストやタプルの実引数にアスタリスク(*) をつけると要素を並べたことになる\n",
    "#### そのまま引数とした場合"
   ]
  },
  {
   "cell_type": "code",
   "execution_count": 5,
   "metadata": {},
   "outputs": [
    {
     "name": "stdout",
     "output_type": "stream",
     "text": [
      "[1, 2, 3, 4, 5]\n",
      "range(0, 5)\n"
     ]
    }
   ],
   "source": [
    "a = [1,2,3,4,5]\n",
    "print( a )\n",
    "print(range(5) )"
   ]
  },
  {
   "cell_type": "markdown",
   "metadata": {},
   "source": [
    "#### アスタリスク付きの引数の場合"
   ]
  },
  {
   "cell_type": "code",
   "execution_count": 6,
   "metadata": {},
   "outputs": [
    {
     "name": "stdout",
     "output_type": "stream",
     "text": [
      "1 2 3 4 5\n",
      "0 1 2 3 4\n"
     ]
    }
   ],
   "source": [
    "print( *a )\n",
    "print( *range(5) )"
   ]
  },
  {
   "cell_type": "markdown",
   "metadata": {},
   "source": [
    "### アスタリスク付き実引数と FiniteSet\n",
    "`FiniteSet` もアスタリスクの指定ができる"
   ]
  },
  {
   "cell_type": "code",
   "execution_count": 7,
   "metadata": {},
   "outputs": [
    {
     "data": {
      "text/latex": [
       "$\\displaystyle \\left\\{1, 2, 3, 4, 5\\right\\}$"
      ],
      "text/plain": [
       "{1, 2, 3, 4, 5}"
      ]
     },
     "execution_count": 7,
     "metadata": {},
     "output_type": "execute_result"
    }
   ],
   "source": [
    "FiniteSet( * range (1,6))"
   ]
  },
  {
   "cell_type": "code",
   "execution_count": 8,
   "metadata": {},
   "outputs": [
    {
     "data": {
      "text/latex": [
       "$\\displaystyle \\left\\{1, 4, 9, 16, 25\\right\\}$"
      ],
      "text/plain": [
       "{1, 4, 9, 16, 25}"
      ]
     },
     "execution_count": 8,
     "metadata": {},
     "output_type": "execute_result"
    }
   ],
   "source": [
    "FiniteSet( * [x**2 for x in range(1,6)])"
   ]
  },
  {
   "cell_type": "markdown",
   "metadata": {},
   "source": [
    "`print()`を使うと表示が変わる"
   ]
  },
  {
   "cell_type": "code",
   "execution_count": 9,
   "metadata": {},
   "outputs": [
    {
     "name": "stdout",
     "output_type": "stream",
     "text": [
      "{1, 2, 3, 4, 5}\n",
      "{1, 4, 9, 16, 25}\n",
      "1 2 3 4 5\n",
      "1 4 9 16 25\n"
     ]
    }
   ],
   "source": [
    "a = FiniteSet ( * range(1,6))\n",
    "b = FiniteSet( *[x**2 for x in range(1,6)])\n",
    "print(a)\n",
    "print(b)\n",
    "print( *a )\n",
    "print( *b )"
   ]
  },
  {
   "cell_type": "markdown",
   "metadata": {},
   "source": [
    "### 集合の特徴の確認\n",
    "集合の要素に順序関係はない"
   ]
  },
  {
   "cell_type": "code",
   "execution_count": 10,
   "metadata": {},
   "outputs": [
    {
     "data": {
      "text/latex": [
       "$\\displaystyle \\left\\{2, 4, 6\\right\\}$"
      ],
      "text/plain": [
       "{2, 4, 6}"
      ]
     },
     "execution_count": 10,
     "metadata": {},
     "output_type": "execute_result"
    }
   ],
   "source": [
    "FiniteSet(4, 2, 6)"
   ]
  },
  {
   "cell_type": "markdown",
   "metadata": {},
   "source": [
    "集合の要素に重複はない"
   ]
  },
  {
   "cell_type": "code",
   "execution_count": 11,
   "metadata": {},
   "outputs": [
    {
     "data": {
      "text/latex": [
       "$\\displaystyle \\left\\{2, 3, 4, 6\\right\\}$"
      ],
      "text/plain": [
       "{2, 3, 4, 6}"
      ]
     },
     "execution_count": 11,
     "metadata": {},
     "output_type": "execute_result"
    }
   ],
   "source": [
    "FiniteSet(4, 2, 6, 4, 3, 2)"
   ]
  },
  {
   "cell_type": "markdown",
   "metadata": {},
   "source": [
    "集合sの要素数をsの濃度と呼び、`|s|`と表す"
   ]
  },
  {
   "cell_type": "code",
   "execution_count": 12,
   "metadata": {},
   "outputs": [
    {
     "name": "stdout",
     "output_type": "stream",
     "text": [
      "|s| =  3\n"
     ]
    }
   ],
   "source": [
    "s = FiniteSet(1, 1.5, 3)\n",
    "print('|s| = ', len(s))"
   ]
  },
  {
   "cell_type": "markdown",
   "metadata": {},
   "source": [
    "### 要素の取得\n",
    "集合の要素を取り出す(順序は保証されない)"
   ]
  },
  {
   "cell_type": "code",
   "execution_count": 13,
   "metadata": {},
   "outputs": [
    {
     "name": "stdout",
     "output_type": "stream",
     "text": [
      "2 4 6 "
     ]
    }
   ],
   "source": [
    "s = FiniteSet(4, 2, 6)\n",
    "for elem in s:\n",
    "    print(elem, end=' ')"
   ]
  },
  {
   "cell_type": "markdown",
   "metadata": {},
   "source": [
    "リスト内包表記でリストにしても良い"
   ]
  },
  {
   "cell_type": "code",
   "execution_count": 14,
   "metadata": {},
   "outputs": [
    {
     "name": "stdout",
     "output_type": "stream",
     "text": [
      "[2, 4, 6]\n"
     ]
    }
   ],
   "source": [
    "s = FiniteSet(4, 2, 6)\n",
    "s2 = [ elem for elem in s ]\n",
    "print(s2)"
   ]
  },
  {
   "cell_type": "markdown",
   "metadata": {},
   "source": [
    "リストに変換しても良い"
   ]
  },
  {
   "cell_type": "code",
   "execution_count": 15,
   "metadata": {},
   "outputs": [
    {
     "data": {
      "text/plain": [
       "[2, 4, 6]"
      ]
     },
     "execution_count": 15,
     "metadata": {},
     "output_type": "execute_result"
    }
   ],
   "source": [
    "s = FiniteSet(4, 2, 6)\n",
    "list(s)"
   ]
  },
  {
   "cell_type": "markdown",
   "metadata": {},
   "source": [
    "### 集合の基本演算\n",
    "ある要素が集合にあるかどうか"
   ]
  },
  {
   "cell_type": "code",
   "execution_count": 16,
   "metadata": {},
   "outputs": [
    {
     "data": {
      "text/plain": [
       "True"
      ]
     },
     "execution_count": 16,
     "metadata": {},
     "output_type": "execute_result"
    }
   ],
   "source": [
    "s = FiniteSet(4,2,6)\n",
    "4 in s"
   ]
  },
  {
   "cell_type": "markdown",
   "metadata": {},
   "source": [
    "2つの集合が等しい(要素が同じ)かどうか"
   ]
  },
  {
   "cell_type": "code",
   "execution_count": 17,
   "metadata": {},
   "outputs": [
    {
     "data": {
      "text/plain": [
       "True"
      ]
     },
     "execution_count": 17,
     "metadata": {},
     "output_type": "execute_result"
    }
   ],
   "source": [
    "s1 = FiniteSet(4,2,6)\n",
    "s2 = FiniteSet(4,6,2,2)\n",
    "s1 == s2"
   ]
  },
  {
   "cell_type": "markdown",
   "metadata": {},
   "source": [
    "### さまざまな集合\n",
    "#### 空集合"
   ]
  },
  {
   "cell_type": "code",
   "execution_count": 18,
   "metadata": {},
   "outputs": [
    {
     "data": {
      "text/latex": [
       "$\\displaystyle \\emptyset$"
      ],
      "text/plain": [
       "EmptySet"
      ]
     },
     "execution_count": 18,
     "metadata": {},
     "output_type": "execute_result"
    }
   ],
   "source": [
    "s = FiniteSet()\n",
    "s"
   ]
  },
  {
   "cell_type": "markdown",
   "metadata": {},
   "source": [
    "#### 全体集合\n",
    "- 全体集合にはすべてのものを含む理論上のものと、範囲を限定したものがある\n",
    "- 計算では有限集合を全体集合とすることが多い"
   ]
  },
  {
   "cell_type": "code",
   "execution_count": 19,
   "metadata": {},
   "outputs": [
    {
     "data": {
      "text/latex": [
       "$\\displaystyle \\mathbb{U}$"
      ],
      "text/plain": [
       "UniversalSet"
      ]
     },
     "execution_count": 19,
     "metadata": {},
     "output_type": "execute_result"
    }
   ],
   "source": [
    "from sympy import UniversalSet\n",
    "u = UniversalSet\n",
    "u"
   ]
  },
  {
   "cell_type": "code",
   "execution_count": 20,
   "metadata": {},
   "outputs": [
    {
     "data": {
      "text/plain": [
       "True"
      ]
     },
     "execution_count": 20,
     "metadata": {},
     "output_type": "execute_result"
    }
   ],
   "source": [
    "s = FiniteSet(True, 3)\n",
    "s in u"
   ]
  },
  {
   "cell_type": "markdown",
   "metadata": {},
   "source": [
    "### 補集合 complement\n",
    "集合sに含まれない要素の集合をsの補集合という"
   ]
  },
  {
   "cell_type": "code",
   "execution_count": 21,
   "metadata": {},
   "outputs": [
    {
     "name": "stdout",
     "output_type": "stream",
     "text": [
      "{1, 2, 3, 4, 5, 6, 7, 8, 9}\n",
      "{2, 4, 6, 8}\n",
      "{1, 3, 5, 7, 9}\n"
     ]
    }
   ],
   "source": [
    "u = FiniteSet( * range(1, 10)) # 全体集合と仮定\n",
    "s = FiniteSet ( * range(2, 10, 2))\n",
    "print(u)\n",
    "print(s)\n",
    "print(u - s) #sの補集合"
   ]
  },
  {
   "cell_type": "code",
   "execution_count": 22,
   "metadata": {},
   "outputs": [
    {
     "name": "stdout",
     "output_type": "stream",
     "text": [
      "{1, 3, 5, 7, 9}\n"
     ]
    }
   ],
   "source": [
    "from sympy import Complement\n",
    "c = Complement(u,s)\n",
    "print(c)"
   ]
  },
  {
   "cell_type": "markdown",
   "metadata": {},
   "source": [
    "### 部分集合 subset\n",
    "集合sの全要素が集合tに含まれるとき,sはtの部分集合である\n",
    "#### 部分集合の判定"
   ]
  },
  {
   "cell_type": "code",
   "execution_count": 23,
   "metadata": {},
   "outputs": [
    {
     "name": "stdout",
     "output_type": "stream",
     "text": [
      "{1, 2, 3, 4}\n",
      "{2, 3}\n"
     ]
    }
   ],
   "source": [
    "u = FiniteSet(1, 2, 3, 4) # 全体集合と仮定\n",
    "s = FiniteSet(3, 2)\n",
    "print(u)\n",
    "print(s)"
   ]
  },
  {
   "cell_type": "code",
   "execution_count": 24,
   "metadata": {},
   "outputs": [
    {
     "data": {
      "text/plain": [
       "True"
      ]
     },
     "execution_count": 24,
     "metadata": {},
     "output_type": "execute_result"
    }
   ],
   "source": [
    "s.is_subset(u)"
   ]
  },
  {
   "cell_type": "code",
   "execution_count": 25,
   "metadata": {},
   "outputs": [
    {
     "data": {
      "text/plain": [
       "False"
      ]
     },
     "execution_count": 25,
     "metadata": {},
     "output_type": "execute_result"
    }
   ],
   "source": [
    "u.is_subset(s)"
   ]
  },
  {
   "cell_type": "markdown",
   "metadata": {},
   "source": [
    "### 空集合 empty set と部分集合\n",
    "空集合はあらゆる集合の部分集合である"
   ]
  },
  {
   "cell_type": "code",
   "execution_count": 26,
   "metadata": {},
   "outputs": [
    {
     "data": {
      "text/plain": [
       "True"
      ]
     },
     "execution_count": 26,
     "metadata": {},
     "output_type": "execute_result"
    }
   ],
   "source": [
    "u = UniversalSet # 理論上の全体集合\n",
    "a = FiniteSet(1, 2, 3, 4) # 有限個の集合\n",
    "e = FiniteSet() # 空集合\n",
    "e.is_subset(u)"
   ]
  },
  {
   "cell_type": "code",
   "execution_count": 27,
   "metadata": {},
   "outputs": [
    {
     "data": {
      "text/plain": [
       "True"
      ]
     },
     "execution_count": 27,
     "metadata": {},
     "output_type": "execute_result"
    }
   ],
   "source": [
    "e.is_subset(a)"
   ]
  },
  {
   "cell_type": "code",
   "execution_count": 28,
   "metadata": {},
   "outputs": [
    {
     "data": {
      "text/plain": [
       "True"
      ]
     },
     "execution_count": 28,
     "metadata": {},
     "output_type": "execute_result"
    }
   ],
   "source": [
    "e.is_subset(e)"
   ]
  },
  {
   "cell_type": "markdown",
   "metadata": {},
   "source": [
    "### 上位集合 superset\n",
    "集合tが 集合sの全要素を含むとき、tはsの上位集合である"
   ]
  },
  {
   "cell_type": "code",
   "execution_count": 29,
   "metadata": {},
   "outputs": [
    {
     "data": {
      "text/plain": [
       "True"
      ]
     },
     "execution_count": 29,
     "metadata": {},
     "output_type": "execute_result"
    }
   ],
   "source": [
    "u = UniversalSet\n",
    "a = FiniteSet(1,3,2,4)\n",
    "b = FiniteSet(2,3)\n",
    "e = FiniteSet() # 空集合\n",
    "u.is_superset(a)"
   ]
  },
  {
   "cell_type": "code",
   "execution_count": 30,
   "metadata": {},
   "outputs": [
    {
     "data": {
      "text/plain": [
       "True"
      ]
     },
     "execution_count": 30,
     "metadata": {},
     "output_type": "execute_result"
    }
   ],
   "source": [
    "a.is_superset(b)"
   ]
  },
  {
   "cell_type": "code",
   "execution_count": 31,
   "metadata": {},
   "outputs": [
    {
     "data": {
      "text/plain": [
       "True"
      ]
     },
     "execution_count": 31,
     "metadata": {},
     "output_type": "execute_result"
    }
   ],
   "source": [
    "b.is_superset(e)"
   ]
  },
  {
   "cell_type": "markdown",
   "metadata": {},
   "source": [
    "### 真部分集合と真上位集合\n",
    "- 集合sの全要素が集合tに含まれ、かつtがsにない要素を1つ以上持つとき、特にsはtの真部分集合であるという\n",
    "- 逆に、集合tが集合sの全要素を含み、かつtがsにない要素を1つ以上持つとき、特にtはsの真上位集合であるという"
   ]
  },
  {
   "cell_type": "code",
   "execution_count": 32,
   "metadata": {},
   "outputs": [
    {
     "data": {
      "text/plain": [
       "True"
      ]
     },
     "execution_count": 32,
     "metadata": {},
     "output_type": "execute_result"
    }
   ],
   "source": [
    "a = FiniteSet(1,2,3,4)\n",
    "b = FiniteSet(4,2,1,3)\n",
    "c = FiniteSet(2,3)\n",
    "c.is_proper_subset(a)"
   ]
  },
  {
   "cell_type": "code",
   "execution_count": 33,
   "metadata": {},
   "outputs": [
    {
     "data": {
      "text/plain": [
       "False"
      ]
     },
     "execution_count": 33,
     "metadata": {},
     "output_type": "execute_result"
    }
   ],
   "source": [
    "b.is_proper_subset(a)"
   ]
  },
  {
   "cell_type": "code",
   "execution_count": 34,
   "metadata": {},
   "outputs": [
    {
     "data": {
      "text/plain": [
       "True"
      ]
     },
     "execution_count": 34,
     "metadata": {},
     "output_type": "execute_result"
    }
   ],
   "source": [
    "a.is_proper_superset(c)"
   ]
  },
  {
   "cell_type": "markdown",
   "metadata": {},
   "source": [
    "### べき集合 power set\n",
    "集合sのすべての部分集合の集合をsのべき集合という"
   ]
  },
  {
   "cell_type": "code",
   "execution_count": 35,
   "metadata": {},
   "outputs": [
    {
     "data": {
      "text/latex": [
       "$\\displaystyle \\left\\{\\emptyset, \\left\\{1\\right\\}, \\left\\{2\\right\\}, \\left\\{1, 2\\right\\}\\right\\}$"
      ],
      "text/plain": [
       "FiniteSet(EmptySet, {1}, {2}, {1, 2})"
      ]
     },
     "execution_count": 35,
     "metadata": {},
     "output_type": "execute_result"
    }
   ],
   "source": [
    "s = FiniteSet(1,2)\n",
    "ps = s.powerset()\n",
    "ps"
   ]
  },
  {
   "cell_type": "markdown",
   "metadata": {},
   "source": [
    "集合sのべき集合の濃度は 2<sup>|s|</sup>"
   ]
  },
  {
   "cell_type": "code",
   "execution_count": 36,
   "metadata": {},
   "outputs": [
    {
     "name": "stdout",
     "output_type": "stream",
     "text": [
      "4\n",
      "8\n",
      "16\n"
     ]
    }
   ],
   "source": [
    "s = FiniteSet(1,2)\n",
    "ps = s.powerset()\n",
    "print(len(ps))\n",
    "s3 = FiniteSet(1,2,3)\n",
    "s4 = FiniteSet(1,2,3,4)\n",
    "print(len(s3.powerset()))\n",
    "print(len(s4.powerset()))"
   ]
  },
  {
   "cell_type": "markdown",
   "metadata": {},
   "source": [
    "### 和集合 (union)"
   ]
  },
  {
   "cell_type": "code",
   "execution_count": 37,
   "metadata": {},
   "outputs": [
    {
     "data": {
      "text/latex": [
       "$\\displaystyle \\left\\{1, 2, 3, 4, 6\\right\\}$"
      ],
      "text/plain": [
       "{1, 2, 3, 4, 6}"
      ]
     },
     "execution_count": 37,
     "metadata": {},
     "output_type": "execute_result"
    }
   ],
   "source": [
    "a = FiniteSet(1,3,4)\n",
    "b = FiniteSet(2,4,6)\n",
    "a.union(b)"
   ]
  },
  {
   "cell_type": "markdown",
   "metadata": {},
   "source": [
    "### 共通部分 (intersection)"
   ]
  },
  {
   "cell_type": "code",
   "execution_count": 38,
   "metadata": {},
   "outputs": [
    {
     "data": {
      "text/latex": [
       "$\\displaystyle \\left\\{4\\right\\}$"
      ],
      "text/plain": [
       "{4}"
      ]
     },
     "execution_count": 38,
     "metadata": {},
     "output_type": "execute_result"
    }
   ],
   "source": [
    "a = FiniteSet(1,3,4)\n",
    "b = FiniteSet(2,4,6)\n",
    "a.intersect(b)"
   ]
  },
  {
   "cell_type": "markdown",
   "metadata": {},
   "source": [
    "### 差集合 (difference)"
   ]
  },
  {
   "cell_type": "code",
   "execution_count": 39,
   "metadata": {},
   "outputs": [
    {
     "data": {
      "text/latex": [
       "$\\displaystyle \\left\\{1, 3\\right\\}$"
      ],
      "text/plain": [
       "{1, 3}"
      ]
     },
     "execution_count": 39,
     "metadata": {},
     "output_type": "execute_result"
    }
   ],
   "source": [
    "a = FiniteSet(1,3,4)\n",
    "b = FiniteSet(2,4,6)\n",
    "a-b"
   ]
  },
  {
   "cell_type": "markdown",
   "metadata": {},
   "source": [
    "### 直積"
   ]
  },
  {
   "cell_type": "code",
   "execution_count": 40,
   "metadata": {},
   "outputs": [
    {
     "data": {
      "text/latex": [
       "$\\displaystyle \\left\\{1, 2\\right\\} \\times \\left\\{3, 4\\right\\}$"
      ],
      "text/plain": [
       "ProductSet({1, 2}, {3, 4})"
      ]
     },
     "execution_count": 40,
     "metadata": {},
     "output_type": "execute_result"
    }
   ],
   "source": [
    "a = FiniteSet(1,2)\n",
    "b = FiniteSet(3,4)\n",
    "p = a*b\n",
    "p"
   ]
  },
  {
   "cell_type": "code",
   "execution_count": 41,
   "metadata": {},
   "outputs": [
    {
     "name": "stdout",
     "output_type": "stream",
     "text": [
      "(1, 3) (2, 3) (1, 4) (2, 4) "
     ]
    }
   ],
   "source": [
    "p = FiniteSet(1,2) * FiniteSet(3,4)\n",
    "for e in p:\n",
    "    print(e, end=' ')"
   ]
  },
  {
   "cell_type": "markdown",
   "metadata": {},
   "source": [
    "## 例"
   ]
  },
  {
   "cell_type": "markdown",
   "metadata": {},
   "source": [
    "### サイコロ2回\n",
    "サイコロを2回振ったときの出た目の合計とその集合"
   ]
  },
  {
   "cell_type": "code",
   "execution_count": 42,
   "metadata": {},
   "outputs": [
    {
     "name": "stdout",
     "output_type": "stream",
     "text": [
      "[2, 3, 3, 4, 4, 4, 5, 5, 5, 5, 6, 6, 6, 6, 6, 7, 7, 7, 7, 7, 7, 8, 8, 8, 8, 8, 9, 9, 9, 9, 10, 10, 10, 11, 11, 12]\n",
      "{2, 3, 4, 5, 6, 7, 8, 9, 10, 11, 12}\n"
     ]
    }
   ],
   "source": [
    "t1 = FiniteSet(1,2,3,4,5,6) # サイコロの目\n",
    "t2 = t1**2 # 直積で2回振った際の目の組み合わせを表現\n",
    "t2list = [ a+b for a,b in t2 ]\n",
    "print(t2list )\n",
    "t2sum = FiniteSet( *t2list )\n",
    "print(t2sum)"
   ]
  },
  {
   "cell_type": "markdown",
   "metadata": {},
   "source": [
    "### 数学の問題"
   ]
  },
  {
   "cell_type": "code",
   "execution_count": 43,
   "metadata": {},
   "outputs": [
    {
     "name": "stdout",
     "output_type": "stream",
     "text": [
      "集合A= {2, 4, 6, 8, 10}\n",
      "誤り: (3) (5)\n"
     ]
    }
   ],
   "source": [
    "a = FiniteSet( *[ 2*n for n in range(1,5+1)])\n",
    "print('集合A=', a)\n",
    "expr = [('(1)', 4 in a),\n",
    "        ('(2)', 5 not in a),\n",
    "        ('(3)', 3 in a),\n",
    "        ('(4)', 6 in a),\n",
    "        ('(5)', 8 not in a)]\n",
    "print('誤り:', *[ q for q,e in expr if not e ])"
   ]
  },
  {
   "cell_type": "markdown",
   "metadata": {},
   "source": [
    "## 確率"
   ]
  },
  {
   "cell_type": "markdown",
   "metadata": {},
   "source": [
    "### Fraction クラス\n",
    "- 有理数は実数表現よりも分数の方が良い扱いやすいことがある\n",
    "    - 分子と分母が整数の分数で表せる数\n",
    "    - 有限小数または循環小数となる\n",
    "- fractions モジュールの Fraction クラスの使用"
   ]
  },
  {
   "cell_type": "code",
   "execution_count": 44,
   "metadata": {},
   "outputs": [
    {
     "name": "stdout",
     "output_type": "stream",
     "text": [
      "<class 'fractions.Fraction'>\n",
      "1/2\n",
      "5/6, 1/6\n"
     ]
    }
   ],
   "source": [
    "from fractions import Fraction\n",
    "a = Fraction(1, 2) # 1/2\n",
    "print( type(a) )\n",
    "print( a )\n",
    "b = Fraction(1, 3) # 1/3\n",
    "c = a + b # 5/6\n",
    "print(f'{c}, {1-c}')"
   ]
  },
  {
   "cell_type": "markdown",
   "metadata": {},
   "source": [
    "### 確率の計算\n",
    "標本空間で結果がすべて等しく起こりやすい(一様分布が仮定できる)ならば、 事象Aの生起する確率 P(A) は以下で計算できる"
   ]
  },
  {
   "cell_type": "code",
   "execution_count": 45,
   "metadata": {},
   "outputs": [
    {
     "name": "stdout",
     "output_type": "stream",
     "text": [
      "1/4\n"
     ]
    }
   ],
   "source": [
    "def Prob(e, u):\n",
    "    return Fraction(len(e), len(u))\n",
    "\n",
    "u = FiniteSet( * range (1,101)) # 標本空間\n",
    "a = FiniteSet( * range(4,101,4)) # 事象\n",
    "print(Prob(a, u) )"
   ]
  },
  {
   "cell_type": "markdown",
   "metadata": {},
   "source": [
    "### 積事象の確率(同時確率)"
   ]
  },
  {
   "cell_type": "code",
   "execution_count": 46,
   "metadata": {},
   "outputs": [
    {
     "name": "stdout",
     "output_type": "stream",
     "text": [
      "2/25\n"
     ]
    }
   ],
   "source": [
    "u = FiniteSet( * range (1,101)) # 標本空間\n",
    "a = FiniteSet( * range(4,101,4)) # 事象 a\n",
    "b = FiniteSet( * range (3,101,3)) #事象 b\n",
    "print(Prob(a&b, u))"
   ]
  },
  {
   "cell_type": "markdown",
   "metadata": {},
   "source": [
    "### 和事象の確率"
   ]
  },
  {
   "cell_type": "code",
   "execution_count": 47,
   "metadata": {},
   "outputs": [
    {
     "name": "stdout",
     "output_type": "stream",
     "text": [
      "1/2, 1/2\n"
     ]
    }
   ],
   "source": [
    "u = FiniteSet( * range (1,101)) # 標本空間\n",
    "a = FiniteSet( * range(4,101,4)) #事象 a\n",
    "b = FiniteSet( *range (3,101,3)) #事象 b\n",
    "p1 = Prob(a|b, u)\n",
    "p2 = Prob(a, u) + Prob(b, u) - Prob(a&b, u)\n",
    "print(f'{p1}, {p2}') # 同じ値であることを確認"
   ]
  },
  {
   "cell_type": "markdown",
   "metadata": {},
   "source": [
    "### 余事象の確率"
   ]
  },
  {
   "cell_type": "code",
   "execution_count": 48,
   "metadata": {},
   "outputs": [
    {
     "name": "stdout",
     "output_type": "stream",
     "text": [
      "3/4, 3/4\n"
     ]
    }
   ],
   "source": [
    "u = FiniteSet( *range (1,101) ) # 標本空間\n",
    "a = FiniteSet( * range(4,101,4)) # 事象 a\n",
    "p1 = Prob(u-a, u)\n",
    "p2 = 1 - Prob(a,u)\n",
    "print(f'{p1}, {p2}') # 同値を確認"
   ]
  },
  {
   "cell_type": "markdown",
   "metadata": {},
   "source": [
    "### 準備:素数判定"
   ]
  },
  {
   "cell_type": "code",
   "execution_count": 49,
   "metadata": {},
   "outputs": [],
   "source": [
    "def is_prime(number):\n",
    "    if number == 1:\n",
    "        return False\n",
    "    for factor in range(2, number//2+1):\n",
    "        if number % factor == 0:\n",
    "            return False\n",
    "    return True"
   ]
  },
  {
   "cell_type": "code",
   "execution_count": 50,
   "metadata": {},
   "outputs": [
    {
     "name": "stdout",
     "output_type": "stream",
     "text": [
      "素数です\n"
     ]
    }
   ],
   "source": [
    "if is_prime( 20220713 ):\n",
    "    print(\"素数です\")"
   ]
  },
  {
   "cell_type": "markdown",
   "metadata": {},
   "source": [
    "### 素数のでる確率"
   ]
  },
  {
   "cell_type": "code",
   "execution_count": 51,
   "metadata": {},
   "outputs": [
    {
     "name": "stdout",
     "output_type": "stream",
     "text": [
      "標本空間:{1, 2, 3, 4, 5, 6, 7, 8, 9, 10, 11, 12, 13, 14, 15, 16, 17, 18, 19, 20}\n",
      "事象: {2, 3, 5, 7, 11, 13, 17, 19}\n",
      "確率: 2/5\n"
     ]
    }
   ],
   "source": [
    "space = FiniteSet( * range(1, 20+1))\n",
    "primes = [ num for num in space if is_prime(num) ]\n",
    "event = FiniteSet( *primes )\n",
    "p = Prob(event, space)\n",
    "print(f'標本空間:{space}')\n",
    "print(f'事象: {event}')\n",
    "print(f'確率: {p}')"
   ]
  },
  {
   "cell_type": "markdown",
   "metadata": {},
   "source": [
    "### 奇数または素数の確率"
   ]
  },
  {
   "cell_type": "code",
   "execution_count": 52,
   "metadata": {},
   "outputs": [
    {
     "name": "stdout",
     "output_type": "stream",
     "text": [
      "{1, 2, 3, 5}\n",
      "奇数または素数の確率:2/3\n"
     ]
    }
   ],
   "source": [
    "s = FiniteSet(1,2,3,4,5,6) # 6面のサイコロ\n",
    "a = FiniteSet(1,3,5) # 奇数\n",
    "b = FiniteSet(2,3,5) #素数\n",
    "e = a | b\n",
    "print(e)\n",
    "p = Prob(e, s)\n",
    "print(f'奇数または素数の確率:{p}')"
   ]
  },
  {
   "cell_type": "markdown",
   "metadata": {},
   "source": [
    "### 奇数かつ素数の確率"
   ]
  },
  {
   "cell_type": "code",
   "execution_count": 53,
   "metadata": {},
   "outputs": [
    {
     "name": "stdout",
     "output_type": "stream",
     "text": [
      "{3, 5}\n",
      "奇数かつ素数の確率:1/3\n"
     ]
    }
   ],
   "source": [
    "s = FiniteSet(1,2,3,4,5,6) # 6面のサイコロ\n",
    "a = FiniteSet(1,3,5) # 奇数\n",
    "b = FiniteSet(2,3,5) #素数\n",
    "e = a & b\n",
    "print(e)\n",
    "p = Prob(e, s)\n",
    "print(f'奇数かつ素数の確率:{p}')"
   ]
  },
  {
   "cell_type": "markdown",
   "metadata": {},
   "source": [
    "## まとめ\n",
    "学んだことを箇条書きにして簡単な説明を書いておこう\n",
    "- 集合の用語:\n",
    "  - **集合**: 要素の集まり。\n",
    "  - **要素**: 集合の中身。\n",
    "  - **有限集合**: 要素が有限個の集合。\n",
    "  - **空集合**: 要素がない集合 (∅)。\n",
    "  - **全体集合**: 考えている範囲のすべての要素からなる集合 (U)。\n",
    "  - **部分集合**: ある集合の全要素が、別の集合に含まれている状態。\n",
    "  - **上位集合**: ある集合が、別の集合の全要素を含んでいる状態。\n",
    "  - **べき集合**: ある集合の、全ての部分集合からなる集合。\n",
    "- 集合の特徴\n",
    "  - 要素(element)の集まり\n",
    "  - メンバーや元の集まりと呼ぶこともある\n",
    "- 集合の演算\n",
    "  - 集合に含まれるかという質問に明確に答えられる\n",
    "  - 集合の中に重複はない\n",
    "  - 順序づけ は考えない\n",
    "- 確率の用語:**\n",
    "  - **標本空間**: 起こりうる全結果の集合。\n",
    "  - **事象**: 標本空間の部分集合。\n",
    "  - **同様に確からしい**: 全ての結果が同じ確率で起こる状態。\n",
    "- 事象の確率:\n",
    "  - 一様分布が仮定できるなら`fraction(len(標本空間),len(事象))`\n",
    "- FiniteSet\n",
    "  - sympyモジュールにある数学的な集合を扱うためのクラス。\n",
    "  - 重複・順序なしの要素を保持する。\n",
    "  - リストから作るにはアスタリスク * が必要\n",
    "- Fraction\n",
    "  - fractionsモジュールにある分数を扱うためのクラス。\n",
    "  - 割り切れない数も正確に表現できる"
   ]
  }
 ],
 "metadata": {
  "kernelspec": {
   "display_name": "base",
   "language": "python",
   "name": "python3"
  },
  "language_info": {
   "codemirror_mode": {
    "name": "ipython",
    "version": 3
   },
   "file_extension": ".py",
   "mimetype": "text/x-python",
   "name": "python",
   "nbconvert_exporter": "python",
   "pygments_lexer": "ipython3",
   "version": "3.12.7"
  }
 },
 "nbformat": 4,
 "nbformat_minor": 4
}
