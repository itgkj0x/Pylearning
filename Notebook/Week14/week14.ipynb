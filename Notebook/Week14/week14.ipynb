{
 "cells": [
  {
   "cell_type": "markdown",
   "id": "9ad7d4a6",
   "metadata": {},
   "source": [
    "# **プログラミング基礎第14回**\n",
    "\n",
    "---"
   ]
  },
  {
   "cell_type": "markdown",
   "id": "133b7acd",
   "metadata": {},
   "source": []
  }
 ],
 "metadata": {
  "language_info": {
   "name": "python"
  }
 },
 "nbformat": 4,
 "nbformat_minor": 5
}
