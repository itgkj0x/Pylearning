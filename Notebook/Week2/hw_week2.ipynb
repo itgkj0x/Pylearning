{
 "cells": [
  {
   "cell_type": "markdown",
   "id": "d785bf23",
   "metadata": {},
   "source": [
    "# **プログラミング基礎第2回**"
   ]
  },
  {
   "cell_type": "code",
   "execution_count": 1,
   "id": "6c1e0d7b-1af1-4b9a-b993-e192aeac20fd",
   "metadata": {},
   "outputs": [
    {
     "data": {
      "text/plain": [
       "4"
      ]
     },
     "execution_count": 1,
     "metadata": {},
     "output_type": "execute_result"
    }
   ],
   "source": [
    "1+3"
   ]
  },
  {
   "cell_type": "code",
   "execution_count": 3,
   "id": "f660fb68-3b08-4d2d-8f19-39d91e51e840",
   "metadata": {},
   "outputs": [
    {
     "data": {
      "text/plain": [
       "-2"
      ]
     },
     "execution_count": 3,
     "metadata": {},
     "output_type": "execute_result"
    }
   ],
   "source": [
    "1-3"
   ]
  },
  {
   "cell_type": "code",
   "execution_count": 5,
   "id": "1cbab437-cdf5-44c0-b00e-5d7790d4ebf6",
   "metadata": {},
   "outputs": [
    {
     "data": {
      "text/plain": [
       "2.5"
      ]
     },
     "execution_count": 5,
     "metadata": {},
     "output_type": "execute_result"
    }
   ],
   "source": [
    "5/2"
   ]
  },
  {
   "cell_type": "code",
   "execution_count": 7,
   "id": "bf3b0681-57a2-4b93-803d-f16175025ccb",
   "metadata": {},
   "outputs": [
    {
     "data": {
      "text/plain": [
       "2"
      ]
     },
     "execution_count": 7,
     "metadata": {},
     "output_type": "execute_result"
    }
   ],
   "source": [
    "5//2"
   ]
  },
  {
   "cell_type": "code",
   "execution_count": 9,
   "id": "96e30a2d-0a8a-4e7b-8b51-a941ab9295d5",
   "metadata": {},
   "outputs": [
    {
     "data": {
      "text/plain": [
       "1"
      ]
     },
     "execution_count": 9,
     "metadata": {},
     "output_type": "execute_result"
    }
   ],
   "source": [
    "5%2"
   ]
  },
  {
   "cell_type": "code",
   "execution_count": 13,
   "id": "56487782-826d-41a8-89f9-a28c4c06695a",
   "metadata": {},
   "outputs": [
    {
     "data": {
      "text/plain": [
       "100"
      ]
     },
     "execution_count": 13,
     "metadata": {},
     "output_type": "execute_result"
    }
   ],
   "source": [
    "1+2+3*4*5//6+78+9"
   ]
  },
  {
   "cell_type": "code",
   "execution_count": 15,
   "id": "adc13cfe-dd3e-469c-b926-b776eb37b126",
   "metadata": {},
   "outputs": [
    {
     "data": {
      "text/plain": [
       "13"
      ]
     },
     "execution_count": 15,
     "metadata": {},
     "output_type": "execute_result"
    }
   ],
   "source": [
    "1+3*4"
   ]
  },
  {
   "cell_type": "code",
   "execution_count": 17,
   "id": "5e85db10-3cec-4e37-ab44-a1848619968e",
   "metadata": {},
   "outputs": [
    {
     "data": {
      "text/plain": [
       "-1.0"
      ]
     },
     "execution_count": 17,
     "metadata": {},
     "output_type": "execute_result"
    }
   ],
   "source": [
    "1-4/2"
   ]
  },
  {
   "cell_type": "code",
   "execution_count": 19,
   "id": "d9fed408-266d-480d-9613-fc5986b8d62e",
   "metadata": {},
   "outputs": [
    {
     "data": {
      "text/plain": [
       "16"
      ]
     },
     "execution_count": 19,
     "metadata": {},
     "output_type": "execute_result"
    }
   ],
   "source": [
    "(1+3)*4"
   ]
  },
  {
   "cell_type": "code",
   "execution_count": 21,
   "id": "4372528e-d134-43ac-b1b5-755de701f158",
   "metadata": {},
   "outputs": [
    {
     "data": {
      "text/plain": [
       "-1.5"
      ]
     },
     "execution_count": 21,
     "metadata": {},
     "output_type": "execute_result"
    }
   ],
   "source": [
    "(1-4)/2"
   ]
  },
  {
   "cell_type": "code",
   "execution_count": 25,
   "id": "1537a6d5-9859-465e-9c34-440a7c940275",
   "metadata": {},
   "outputs": [
    {
     "data": {
      "text/plain": [
       "int"
      ]
     },
     "execution_count": 25,
     "metadata": {},
     "output_type": "execute_result"
    }
   ],
   "source": [
    "type(10)"
   ]
  },
  {
   "cell_type": "code",
   "execution_count": 27,
   "id": "c47d42d9-1cd9-4dad-99cd-6cdd1b9b64bc",
   "metadata": {},
   "outputs": [
    {
     "data": {
      "text/plain": [
       "float"
      ]
     },
     "execution_count": 27,
     "metadata": {},
     "output_type": "execute_result"
    }
   ],
   "source": [
    "type(10.0)"
   ]
  },
  {
   "cell_type": "code",
   "execution_count": 29,
   "id": "c488236e-6019-4741-8f7d-ffcddd042aa8",
   "metadata": {},
   "outputs": [
    {
     "data": {
      "text/plain": [
       "float"
      ]
     },
     "execution_count": 29,
     "metadata": {},
     "output_type": "execute_result"
    }
   ],
   "source": [
    "type(10+10.5)"
   ]
  },
  {
   "cell_type": "code",
   "execution_count": 31,
   "id": "4be42acb-e38f-4344-8d47-0fea60c42888",
   "metadata": {},
   "outputs": [
    {
     "data": {
      "text/plain": [
       "10"
      ]
     },
     "execution_count": 31,
     "metadata": {},
     "output_type": "execute_result"
    }
   ],
   "source": [
    "int(10.6)"
   ]
  },
  {
   "cell_type": "code",
   "execution_count": 33,
   "id": "de34c3c7-eb12-4f5a-b2f7-5c6adb3d2703",
   "metadata": {},
   "outputs": [
    {
     "data": {
      "text/plain": [
       "11.0"
      ]
     },
     "execution_count": 33,
     "metadata": {},
     "output_type": "execute_result"
    }
   ],
   "source": [
    "float(11)"
   ]
  },
  {
   "cell_type": "code",
   "execution_count": 35,
   "id": "6334d737-f3cd-4d15-9b3a-cfc228296b13",
   "metadata": {},
   "outputs": [
    {
     "data": {
      "text/plain": [
       "8"
      ]
     },
     "execution_count": 35,
     "metadata": {},
     "output_type": "execute_result"
    }
   ],
   "source": [
    "2**3"
   ]
  },
  {
   "cell_type": "code",
   "execution_count": 37,
   "id": "60f6392e-7721-4af2-a30a-9ac96e3cbc7b",
   "metadata": {},
   "outputs": [
    {
     "data": {
      "text/plain": [
       "1024"
      ]
     },
     "execution_count": 37,
     "metadata": {},
     "output_type": "execute_result"
    }
   ],
   "source": [
    "2**10"
   ]
  },
  {
   "cell_type": "code",
   "execution_count": 39,
   "id": "2d47a4d3-23e6-430b-823f-701f49a98f9a",
   "metadata": {},
   "outputs": [
    {
     "data": {
      "text/plain": [
       "2.0"
      ]
     },
     "execution_count": 39,
     "metadata": {},
     "output_type": "execute_result"
    }
   ],
   "source": [
    "8**(1/3)"
   ]
  },
  {
   "cell_type": "code",
   "execution_count": 41,
   "id": "3c6e7519-30ed-40e0-bb1e-9f8228d1c844",
   "metadata": {},
   "outputs": [
    {
     "data": {
      "text/plain": [
       "'abc'"
      ]
     },
     "execution_count": 41,
     "metadata": {},
     "output_type": "execute_result"
    }
   ],
   "source": [
    "'abc'"
   ]
  },
  {
   "cell_type": "code",
   "execution_count": 43,
   "id": "ed585301-2dad-4b33-9838-e71549be2512",
   "metadata": {},
   "outputs": [
    {
     "data": {
      "text/plain": [
       "'ab c'"
      ]
     },
     "execution_count": 43,
     "metadata": {},
     "output_type": "execute_result"
    }
   ],
   "source": [
    "'ab c'"
   ]
  },
  {
   "cell_type": "code",
   "execution_count": 45,
   "id": "581c8946-ef96-4398-9d75-c5b7ce8db330",
   "metadata": {},
   "outputs": [
    {
     "data": {
      "text/plain": [
       "str"
      ]
     },
     "execution_count": 45,
     "metadata": {},
     "output_type": "execute_result"
    }
   ],
   "source": [
    "type('abc')"
   ]
  },
  {
   "cell_type": "code",
   "execution_count": 47,
   "id": "9f35c6ad-647a-49a2-b658-909b4a304429",
   "metadata": {},
   "outputs": [
    {
     "data": {
      "text/plain": [
       "'abcxyz'"
      ]
     },
     "execution_count": 47,
     "metadata": {},
     "output_type": "execute_result"
    }
   ],
   "source": [
    "'abc'+'xyz'"
   ]
  },
  {
   "cell_type": "code",
   "execution_count": 49,
   "id": "a486600e-041c-4236-887f-02ee8bb6f8f4",
   "metadata": {},
   "outputs": [
    {
     "data": {
      "text/plain": [
       "'abcabcabc'"
      ]
     },
     "execution_count": 49,
     "metadata": {},
     "output_type": "execute_result"
    }
   ],
   "source": [
    "3 * 'abc'"
   ]
  },
  {
   "cell_type": "code",
   "execution_count": 53,
   "id": "1b469d6b-dc0b-48ed-8b75-7e95ccca1c36",
   "metadata": {},
   "outputs": [
    {
     "data": {
      "text/plain": [
       "'ababababab'"
      ]
     },
     "execution_count": 53,
     "metadata": {},
     "output_type": "execute_result"
    }
   ],
   "source": [
    "'ab' * 5"
   ]
  },
  {
   "cell_type": "code",
   "execution_count": 55,
   "id": "7ae4833d-7500-4cf8-9706-5120ea96c5c7",
   "metadata": {},
   "outputs": [
    {
     "data": {
      "text/plain": [
       "\"It's mine.\""
      ]
     },
     "execution_count": 55,
     "metadata": {},
     "output_type": "execute_result"
    }
   ],
   "source": [
    "\"It's mine.\""
   ]
  },
  {
   "cell_type": "code",
   "execution_count": 57,
   "id": "2fe36f4b-374c-46b5-8c07-a97b7d93b95c",
   "metadata": {},
   "outputs": [
    {
     "data": {
      "text/plain": [
       "'He said \"Yahoo!\"'"
      ]
     },
     "execution_count": 57,
     "metadata": {},
     "output_type": "execute_result"
    }
   ],
   "source": [
    "'He said \"Yahoo!\"'"
   ]
  },
  {
   "cell_type": "code",
   "execution_count": 63,
   "id": "2259c5da-7577-4506-ae7b-a2c4fab367e8",
   "metadata": {},
   "outputs": [
    {
     "data": {
      "text/plain": [
       "'ここから長い文字列を書く。\\n三重引用符で囲まれた文字列は途中に改行を含んでも\\nよい。'"
      ]
     },
     "execution_count": 63,
     "metadata": {},
     "output_type": "execute_result"
    }
   ],
   "source": [
    "'''ここから長い文字列を書く。\n",
    "三重引用符で囲まれた文字列は途中に改行を含んでも\n",
    "よい。'''"
   ]
  },
  {
   "cell_type": "code",
   "execution_count": 65,
   "id": "354a040a-b6c9-4074-bfc5-322ada1ac82d",
   "metadata": {},
   "outputs": [
    {
     "data": {
      "text/plain": [
       "123"
      ]
     },
     "execution_count": 65,
     "metadata": {},
     "output_type": "execute_result"
    }
   ],
   "source": [
    "int('123')"
   ]
  },
  {
   "cell_type": "code",
   "execution_count": 67,
   "id": "c26cdc8c-ef64-41f9-98ca-5a48a550d1e3",
   "metadata": {},
   "outputs": [
    {
     "data": {
      "text/plain": [
       "123.0"
      ]
     },
     "execution_count": 67,
     "metadata": {},
     "output_type": "execute_result"
    }
   ],
   "source": [
    "float('123')"
   ]
  },
  {
   "cell_type": "code",
   "execution_count": 69,
   "id": "7f921314-98a3-4f22-9ca2-42fcc7b0b55f",
   "metadata": {},
   "outputs": [
    {
     "data": {
      "text/plain": [
       "'123'"
      ]
     },
     "execution_count": 69,
     "metadata": {},
     "output_type": "execute_result"
    }
   ],
   "source": [
    "str(123)"
   ]
  },
  {
   "cell_type": "code",
   "execution_count": 71,
   "id": "9fb310fb-a61d-4dad-8ff5-580a4daaab49",
   "metadata": {},
   "outputs": [
    {
     "data": {
      "text/plain": [
       "'123.0'"
      ]
     },
     "execution_count": 71,
     "metadata": {},
     "output_type": "execute_result"
    }
   ],
   "source": [
    "str(123.0)"
   ]
  },
  {
   "cell_type": "code",
   "execution_count": 73,
   "id": "f3949d2c-f7ab-4131-8d2c-ec2500da5359",
   "metadata": {},
   "outputs": [],
   "source": [
    "a=3 # Outが表示されないことに注意せよ"
   ]
  },
  {
   "cell_type": "code",
   "execution_count": 75,
   "id": "1ff4a06a-4e77-4dec-a1a1-e587326683c1",
   "metadata": {},
   "outputs": [],
   "source": [
    "b = 3.5 # =の前後にスペースを空けてもよい"
   ]
  },
  {
   "cell_type": "code",
   "execution_count": 77,
   "id": "72819d1f-2453-4700-bb63-06cb92a92c9e",
   "metadata": {},
   "outputs": [],
   "source": [
    "c = 4+3 # =の右側は計算式を指定してもよい"
   ]
  },
  {
   "cell_type": "code",
   "execution_count": 79,
   "id": "b6f559db-f1fe-4487-927a-21d2031a7588",
   "metadata": {},
   "outputs": [],
   "source": [
    "b = 2.5 # 覚えておく値を変えてもよい"
   ]
  },
  {
   "cell_type": "code",
   "execution_count": 81,
   "id": "e086f4bc-ea6d-4908-b6da-073cda5f6001",
   "metadata": {},
   "outputs": [],
   "source": [
    "s='ab c' # 文字列の変数も定義できる"
   ]
  },
  {
   "cell_type": "code",
   "execution_count": 83,
   "id": "215bbab5-b1bd-4ac8-bd2c-8a87d58fa2a6",
   "metadata": {},
   "outputs": [
    {
     "data": {
      "text/plain": [
       "3"
      ]
     },
     "execution_count": 83,
     "metadata": {},
     "output_type": "execute_result"
    }
   ],
   "source": [
    "a"
   ]
  },
  {
   "cell_type": "code",
   "execution_count": 85,
   "id": "0360ffd9-e962-49e3-a0bb-6c47838ee2f8",
   "metadata": {},
   "outputs": [
    {
     "data": {
      "text/plain": [
       "6"
      ]
     },
     "execution_count": 85,
     "metadata": {},
     "output_type": "execute_result"
    }
   ],
   "source": [
    "a+3"
   ]
  },
  {
   "cell_type": "code",
   "execution_count": 87,
   "id": "7f7c7f85-0ffc-4876-96e2-190558c2f34e",
   "metadata": {},
   "outputs": [
    {
     "data": {
      "text/plain": [
       "2.5"
      ]
     },
     "execution_count": 87,
     "metadata": {},
     "output_type": "execute_result"
    }
   ],
   "source": [
    "b"
   ]
  },
  {
   "cell_type": "code",
   "execution_count": 89,
   "id": "9b7d5983-2524-4b51-928d-35a32a1ac91d",
   "metadata": {},
   "outputs": [
    {
     "data": {
      "text/plain": [
       "int"
      ]
     },
     "execution_count": 89,
     "metadata": {},
     "output_type": "execute_result"
    }
   ],
   "source": [
    "type(c)"
   ]
  },
  {
   "cell_type": "code",
   "execution_count": 91,
   "id": "529816b9-bfe1-46a9-a3e9-b5ad4ad7d457",
   "metadata": {},
   "outputs": [
    {
     "data": {
      "text/plain": [
       "str"
      ]
     },
     "execution_count": 91,
     "metadata": {},
     "output_type": "execute_result"
    }
   ],
   "source": [
    "type(s)"
   ]
  },
  {
   "cell_type": "code",
   "execution_count": null,
   "id": "7acd1a35-b6fe-458a-bf71-e510a57550a8",
   "metadata": {},
   "outputs": [],
   "source": []
  },
  {
   "cell_type": "code",
   "execution_count": 95,
   "id": "ec460779-799d-4cb4-82a0-25df5335516d",
   "metadata": {},
   "outputs": [],
   "source": [
    "import keyword"
   ]
  },
  {
   "cell_type": "code",
   "execution_count": 97,
   "id": "b4896bb0-2628-4c58-8ae7-6463ad390016",
   "metadata": {},
   "outputs": [
    {
     "data": {
      "text/plain": [
       "['False',\n",
       " 'None',\n",
       " 'True',\n",
       " 'and',\n",
       " 'as',\n",
       " 'assert',\n",
       " 'async',\n",
       " 'await',\n",
       " 'break',\n",
       " 'class',\n",
       " 'continue',\n",
       " 'def',\n",
       " 'del',\n",
       " 'elif',\n",
       " 'else',\n",
       " 'except',\n",
       " 'finally',\n",
       " 'for',\n",
       " 'from',\n",
       " 'global',\n",
       " 'if',\n",
       " 'import',\n",
       " 'in',\n",
       " 'is',\n",
       " 'lambda',\n",
       " 'nonlocal',\n",
       " 'not',\n",
       " 'or',\n",
       " 'pass',\n",
       " 'raise',\n",
       " 'return',\n",
       " 'try',\n",
       " 'while',\n",
       " 'with',\n",
       " 'yield']"
      ]
     },
     "execution_count": 97,
     "metadata": {},
     "output_type": "execute_result"
    }
   ],
   "source": [
    "keyword.kwlist"
   ]
  },
  {
   "cell_type": "code",
   "execution_count": 101,
   "id": "f54891eb-767d-4a7c-8e2d-5d467cc25dcd",
   "metadata": {},
   "outputs": [
    {
     "name": "stdout",
     "output_type": "stream",
     "text": [
      " 123\n"
     ]
    },
    {
     "data": {
      "text/plain": [
       "'123'"
      ]
     },
     "execution_count": 101,
     "metadata": {},
     "output_type": "execute_result"
    }
   ],
   "source": [
    "input()"
   ]
  },
  {
   "cell_type": "code",
   "execution_count": 3,
   "id": "29e68419-e4b2-4b6c-8a4c-066ade720245",
   "metadata": {},
   "outputs": [
    {
     "name": "stdout",
     "output_type": "stream",
     "text": [
      " 123\n"
     ]
    }
   ],
   "source": [
    "a=int(input()) # 整数に変換"
   ]
  },
  {
   "cell_type": "code",
   "execution_count": 1,
   "id": "ff4454ed-18d5-4ad0-9854-343c73815fe3",
   "metadata": {},
   "outputs": [
    {
     "ename": "NameError",
     "evalue": "name 'a' is not defined",
     "output_type": "error",
     "traceback": [
      "\u001b[1;31m---------------------------------------------------------------------------\u001b[0m",
      "\u001b[1;31mNameError\u001b[0m                                 Traceback (most recent call last)",
      "Cell \u001b[1;32mIn[1], line 1\u001b[0m\n\u001b[1;32m----> 1\u001b[0m \u001b[38;5;28mtype\u001b[39m(a)\n",
      "\u001b[1;31mNameError\u001b[0m: name 'a' is not defined"
     ]
    }
   ],
   "source": [
    "type(a)"
   ]
  },
  {
   "cell_type": "code",
   "execution_count": 5,
   "id": "23e1ebdf-2358-4eed-837c-ac12b2107b6b",
   "metadata": {},
   "outputs": [
    {
     "data": {
      "text/plain": [
       "123"
      ]
     },
     "execution_count": 5,
     "metadata": {},
     "output_type": "execute_result"
    }
   ],
   "source": [
    "a"
   ]
  },
  {
   "cell_type": "code",
   "execution_count": 7,
   "id": "5e2f7de4-b2a2-4927-a745-5135b10dd9fb",
   "metadata": {},
   "outputs": [
    {
     "name": "stdout",
     "output_type": "stream",
     "text": [
      " 3/4\n"
     ]
    },
    {
     "ename": "ValueError",
     "evalue": "could not convert string to float: '3/4'",
     "output_type": "error",
     "traceback": [
      "\u001b[1;31m---------------------------------------------------------------------------\u001b[0m",
      "\u001b[1;31mValueError\u001b[0m                                Traceback (most recent call last)",
      "Cell \u001b[1;32mIn[7], line 1\u001b[0m\n\u001b[1;32m----> 1\u001b[0m a\u001b[38;5;241m=\u001b[39m\u001b[38;5;28mfloat\u001b[39m(\u001b[38;5;28minput\u001b[39m())\n",
      "\u001b[1;31mValueError\u001b[0m: could not convert string to float: '3/4'"
     ]
    }
   ],
   "source": [
    "a=float(input()) #実数に変換"
   ]
  },
  {
   "cell_type": "code",
   "execution_count": 9,
   "id": "f3facdcd-adcf-4df0-8c3f-87f7a11a39d2",
   "metadata": {},
   "outputs": [
    {
     "name": "stdout",
     "output_type": "stream",
     "text": [
      " 1.0\n"
     ]
    },
    {
     "ename": "ValueError",
     "evalue": "invalid literal for int() with base 10: '1.0'",
     "output_type": "error",
     "traceback": [
      "\u001b[1;31m---------------------------------------------------------------------------\u001b[0m",
      "\u001b[1;31mValueError\u001b[0m                                Traceback (most recent call last)",
      "Cell \u001b[1;32mIn[9], line 1\u001b[0m\n\u001b[1;32m----> 1\u001b[0m a\u001b[38;5;241m=\u001b[39m\u001b[38;5;28mint\u001b[39m(\u001b[38;5;28minput\u001b[39m())\n",
      "\u001b[1;31mValueError\u001b[0m: invalid literal for int() with base 10: '1.0'"
     ]
    }
   ],
   "source": [
    "a=int(input()) #整数に変換"
   ]
  },
  {
   "cell_type": "code",
   "execution_count": 11,
   "id": "717c555a-9538-4198-af02-c8b5a73aa90f",
   "metadata": {},
   "outputs": [
    {
     "data": {
      "text/plain": [
       "15"
      ]
     },
     "execution_count": 11,
     "metadata": {},
     "output_type": "execute_result"
    }
   ],
   "source": [
    "15"
   ]
  },
  {
   "cell_type": "code",
   "execution_count": 13,
   "id": "f992cfe9-4b8f-4610-af7d-876712ca0272",
   "metadata": {},
   "outputs": [
    {
     "name": "stdout",
     "output_type": "stream",
     "text": [
      "15\n"
     ]
    }
   ],
   "source": [
    "print(15)"
   ]
  },
  {
   "cell_type": "code",
   "execution_count": 17,
   "id": "f67a3145-5852-4f4e-9f6d-1d114f2f3890",
   "metadata": {},
   "outputs": [
    {
     "name": "stdout",
     "output_type": "stream",
     "text": [
      " 12\n",
      " 24\n"
     ]
    },
    {
     "name": "stdout",
     "output_type": "stream",
     "text": [
      "288.0\n"
     ]
    }
   ],
   "source": [
    "a=float(input()) #変数a入力\n",
    "b=float(input()) #変数b入力\n",
    "c=a*b #計算結果をcとする\n",
    "print(c)"
   ]
  },
  {
   "cell_type": "markdown",
   "id": "5c81c38d-ebae-4462-9e91-f047ec92bb4e",
   "metadata": {},
   "source": [
    "## まとめ\n",
    "- Pythonはインタプリンタ型のプログラミング言語である\n",
    "- プログラムの実行を少しずつ試すことができる\n",
    "- プログラムが扱う対象は整数・実数・文字列である\n",
    "    - 内部では異なる型として別々に処理される\n",
    "    - `type()`関数で確認できる\n",
    "    - `int()`・`float()`・`str()`で相互に変換できる\n",
    "- 値は変数で覚えておくことができる\n",
    "- プログラムの入力と出力は`input()`関数と`print()`関数を使う\n",
    "    - `input()`の結果は文字列である\n",
    "    - 入力を数値と使うには変換が必要\n",
    "-`In[]`には複数行のプログラムが指定でき、まとめて実行できる"
   ]
  }
 ],
 "metadata": {
  "kernelspec": {
   "display_name": "Python [conda env:base] *",
   "language": "python",
   "name": "conda-base-py"
  },
  "language_info": {
   "codemirror_mode": {
    "name": "ipython",
    "version": 3
   },
   "file_extension": ".py",
   "mimetype": "text/x-python",
   "name": "python",
   "nbconvert_exporter": "python",
   "pygments_lexer": "ipython3",
   "version": "3.12.7"
  }
 },
 "nbformat": 4,
 "nbformat_minor": 5
}
