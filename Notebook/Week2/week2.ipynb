{
 "cells": [
  {
   "cell_type": "markdown",
   "id": "fd8ab702-7c3b-48cf-81c5-f749235bc76e",
   "metadata": {},
   "source": [
    "# 演習１\n",
    "- ##### １つの入力欄で$\\sqrt{2}$,$\\sqrt{3}$,$\\sqrt{5}$をそれぞれ計算して出力させよ[^1]\n",
    "\n",
    "- - -\n",
    "[^1]:markdownで\\$\\sqrt{2}$を表すには\\$\\sqrt{2}$とする\n"
   ]
  },
  {
   "cell_type": "code",
   "execution_count": 49,
   "id": "acd90fe4-cacb-4aa3-8142-30873ee03ac1",
   "metadata": {},
   "outputs": [
    {
     "name": "stdout",
     "output_type": "stream",
     "text": [
      "1.4142135623730951\n",
      "1.7320508075688772\n",
      "2.23606797749979\n"
     ]
    }
   ],
   "source": [
    "print(2**(1/2))\n",
    "print(3**(1/2))\n",
    "print(5**(1/2))"
   ]
  },
  {
   "cell_type": "markdown",
   "id": "e6f78c5c-23f0-4687-ad96-75c8a49451d8",
   "metadata": {},
   "source": [
    "# 演習2\n",
    "- ##### 三平方の定理（ピタゴラスの定理）とは直角三角形の辺の長さの関係を表したものである。直角三角形の辺a,b,cにおいてcを斜辺としたときに、$a^2+b^2=c^2$である。5,12,13の長さの直角三角形で、$a^2+b^2$と$c^2$をそれぞれ計算して、これが成り立つか調べよ。[^2]\n",
    "- - -\n",
    "[^2]:markdownで\\$a^2$を表すには\\$a^2$とする"
   ]
  },
  {
   "cell_type": "code",
   "execution_count": 15,
   "id": "111dc020-8a9c-4990-9c36-f761c2833d82",
   "metadata": {},
   "outputs": [
    {
     "name": "stdout",
     "output_type": "stream",
     "text": [
      "169\n",
      "169\n"
     ]
    }
   ],
   "source": [
    "#変数 a,b,c を定義する\n",
    "a = 5\n",
    "b = 12\n",
    "c = 13\n",
    "\n",
    "# printで2つの結果を出力する（同じ値か？）\n",
    "print(a**2+b**2)\n",
    "print(c**2)"
   ]
  },
  {
   "cell_type": "markdown",
   "id": "dafe766d-5304-416d-aaed-6e6c5de14604",
   "metadata": {},
   "source": [
    "# 演習3\n",
    "- ##### 三角関数は直角三角形の各辺の比で表すことができ、斜辺をc、残りの辺をaとb、辺cとaのなす角をbとしたときに、次の関係が成り立つ。[^3]\n",
    "$$\\sin{B}=\\frac{b}{c}$$\n",
    "$$\\cos{B}=\\frac{a}{c}$$\n",
    "$$\\sin^2{B}+\\cos^2{B}=\\frac{b^2+a^2}{c^2}=1$$\n",
    "\n",
    "\n",
    "\n",
    "- - -\n",
    "[^3]: markdownは次が参考になる。$\\sin{B}$,\\$\\sin^2{B}\\$,\\$\\frac{1}{2}\\$"
   ]
  },
  {
   "cell_type": "markdown",
   "id": "717a5404-f184-4255-982b-91300a8939ff",
   "metadata": {},
   "source": [
    "- ##### 5,12,13の長さの直角三角形において、各辺の長さを変数a,b,cで定義し、$\\sin{B}$を変数sb、$\\sin{B}$を変数cbに計算する。その上で$\\sin^2{B}+\\cos^2{B}$と$\\frac{b^2+a^2}{c^2}$をそれぞれ計算して出力せよ。[^4]\n",
    "- - -\n",
    "[^4]: 計算誤差により同じにはならないことに注意する"
   ]
  },
  {
   "cell_type": "code",
   "execution_count": 67,
   "id": "27abdf93-ebe5-4dc3-aab5-50bf0cca6c88",
   "metadata": {},
   "outputs": [
    {
     "name": "stdout",
     "output_type": "stream",
     "text": [
      "1.0000000000000002\n",
      "1.0\n"
     ]
    }
   ],
   "source": [
    "# 変数 a,b,c を定義して\n",
    "a = 5\n",
    "b = 12\n",
    "c = 13\n",
    "# 変数 sb, cbを定義して\n",
    "sb = b/c\n",
    "cb = a/c\n",
    "\n",
    "# printで2つの結果を出力する\n",
    "print(sb**2+cb**2)\n",
    "print((b**2+a**2)/c**2)"
   ]
  }
 ],
 "metadata": {
  "kernelspec": {
   "display_name": "Python [conda env:base] *",
   "language": "python",
   "name": "conda-base-py"
  },
  "language_info": {
   "codemirror_mode": {
    "name": "ipython",
    "version": 3
   },
   "file_extension": ".py",
   "mimetype": "text/x-python",
   "name": "python",
   "nbconvert_exporter": "python",
   "pygments_lexer": "ipython3",
   "version": "3.12.7"
  }
 },
 "nbformat": 4,
 "nbformat_minor": 5
}
