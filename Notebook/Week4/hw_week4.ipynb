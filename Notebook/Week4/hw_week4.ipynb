{
 "cells": [
  {
   "cell_type": "markdown",
   "id": "3379a307",
   "metadata": {},
   "source": [
    "# 第4回プログラミング基礎"
   ]
  },
  {
   "cell_type": "markdown",
   "id": "988a9330",
   "metadata": {},
   "source": [
    "## **プログラムの制御構造**\n",
    "\n",
    "プログラムの流れを制御する3種類の構造\n",
    "- 順次構造\n",
    "  - 記述されている順番に処理を実行→今までの学習内容\n",
    "  - 流れが上から下へ\n",
    "- 選択構造\n",
    "  - 条件によって処理を選ぶ→今日の学習\n",
    "  - 流れが分岐する\n",
    "- 反復構造\n",
    "  - 繰り返して処理を実行\n",
    "  - 流れが元に戻る\n",
    "\n",
    "すべてのプログラムは上記3種類の制御構造を利用することで作成可能\n"
   ]
  },
  {
   "cell_type": "markdown",
   "id": "ceb8130c",
   "metadata": {},
   "source": [
    "### フローチャート\n",
    "\n",
    "作業の流れ図。プログラムの流れや制御構造を図式化して明確にするのに利用することが多い\n",
    "\n",
    "主な記号とその意味\n",
    "|名前|記号|意味|\n",
    "|---|---|----------|\n",
    "|端子||プログラムの開始や処理|\n",
    "|処理||計算や代入などの処理|\n",
    "|判断||条件の評価に従い判断|\n",
    "|入出力||データの入出力|\n",
    "|反復開始||繰り返しの開始|\n",
    "|反復終了||繰り返しの終了|\n",
    "|線(矢印)||上の部品をつなぐことで制御の流れを示す||\n",
    "\n",
    "\n",
    "\n",
    "\n",
    "\n"
   ]
  },
  {
   "cell_type": "markdown",
   "id": "bc45108f",
   "metadata": {},
   "source": [
    "### 順次構造\n",
    "\n",
    "- 記述されている順番に処理を実行\n",
    "- 制御の流れが上から下へ進む\n",
    "  -  制御の流れとは順々に処理を行っていく様子"
   ]
  },
  {
   "cell_type": "markdown",
   "id": "a32f86a8",
   "metadata": {},
   "source": [
    "### 選択構造\n",
    "- 条件によって処理を選択\n",
    "- 制御の流れが条件によって選択的に進む方向を変えること\n",
    "  - 選択構造のプログラム表現を条件分岐と呼ぶ "
   ]
  },
  {
   "cell_type": "markdown",
   "id": "0175accd",
   "metadata": {},
   "source": [
    "### 反復構造\n",
    "- 条件を満たす間は繰り返して処理を実行\n",
    "- 制御が分岐して1度通過したところを戻る\n",
    "- 右側のフローチャートは反復をひとかたまりで表現したもの"
   ]
  },
  {
   "cell_type": "markdown",
   "id": "f24936ab",
   "metadata": {},
   "source": [
    "## **条件分岐**\n",
    "\n",
    "- 条件分岐とは :\n",
    "    - 場合に応じた処理をすること\n",
    "    - 選択構造でプログラムを表す\n",
    "- プログラムと関係ない身近な例では,</br>  \n",
    "  「今日カラオケ行かない？」</br>\n",
    "  →もし予定が空いていれば行く!\n",
    "</br></br>\n",
    "    - 条件:予定が空いていたら行く\n",
    "    - 処理:行く\n",
    "</br></br>\n",
    "<span style=\"color: red; \">プログラムでも「条件」に応じた柔軟な処理を行う</span>"
   ]
  },
  {
   "cell_type": "markdown",
   "id": "b297bd08",
   "metadata": {},
   "source": [
    "### Pythonにおける条件分岐\n",
    "- 条件分岐は`if`文によって指定する\n",
    "- ifは予約語(変数に使えない単語)で`if`文の始まりを示す\n",
    "- 同じ行に条件と<span style=\"color: red; \">コロン(：)</span>を書いて改行をする\n",
    "- 条件を満たしたときの処理は字下げして指定する\n",
    "  - <span style=\"color: red; \">インデント</span>:行頭からスペース文字で場所をあけること\n",
    "  - 4文字単位のインデントが推奨される\n",
    "  - インデントが同じならば複数行の複数処理を指定できる"
   ]
  },
  {
   "cell_type": "code",
   "execution_count": 10,
   "id": "d11501fd",
   "metadata": {},
   "outputs": [
    {
     "name": "stdout",
     "output_type": "stream",
     "text": [
      "5\n"
     ]
    }
   ],
   "source": [
    "a = 5\n",
    "b = 1\n",
    "if a > b:  # if文の開始と条件\n",
    "    print(a) # 条件を満たした場合の処理"
   ]
  },
  {
   "cell_type": "markdown",
   "id": "596e768f",
   "metadata": {},
   "source": [
    "### 条件の指定方法\n",
    "- `if`文の指定とは\n",
    "  - `if`とコロン(：)で囲まれた式が評価され、その結果が真(`True`)となったときに,インデントで指定した文が実行される\n",
    "- `if`文の条件を指定するには\n",
    "  - <span style=\"color:rgb(19, 0, 232); \">関係演算子</span>を用いた計算式を指定する\n",
    "  - 変数$a$の値は$b$の値より小さいという条件を記述 → $a < b$ \n",
    "- <span style=\"color:rgb(19, 0, 232); \">関係演算子</span>とは\n",
    "  - 左右の項(変数や値)の大小関係や当値関係を比較して、`true`もしくは`false`の結果を得る演算子"
   ]
  },
  {
   "cell_type": "markdown",
   "id": "dfe6d84b",
   "metadata": {},
   "source": [
    "### bool型\n",
    "\n",
    "- `True`と`False`の2値だけのデータ型\n",
    "- 倫理演算に使用される\n",
    "  - 結果が真(`True`)であるか偽(`False`)であるかを判定する演算"
   ]
  },
  {
   "cell_type": "code",
   "execution_count": 11,
   "id": "0976cdc0",
   "metadata": {},
   "outputs": [
    {
     "data": {
      "text/plain": [
       "True"
      ]
     },
     "execution_count": 11,
     "metadata": {},
     "output_type": "execute_result"
    }
   ],
   "source": [
    "True"
   ]
  },
  {
   "cell_type": "code",
   "execution_count": 12,
   "id": "5a48b47c",
   "metadata": {},
   "outputs": [
    {
     "data": {
      "text/plain": [
       "False"
      ]
     },
     "execution_count": 12,
     "metadata": {},
     "output_type": "execute_result"
    }
   ],
   "source": [
    "False"
   ]
  },
  {
   "cell_type": "code",
   "execution_count": 13,
   "id": "488530d8",
   "metadata": {},
   "outputs": [
    {
     "data": {
      "text/plain": [
       "bool"
      ]
     },
     "execution_count": 13,
     "metadata": {},
     "output_type": "execute_result"
    }
   ],
   "source": [
    "type(True)"
   ]
  },
  {
   "cell_type": "markdown",
   "id": "cfae84a4",
   "metadata": {},
   "source": [
    "### bool型と整数型の関係\n",
    "- bool型の値は整数値で考える場合もある\n",
    "  - `True` → 0以外の値\n",
    "  - `False` → 0の値"
   ]
  },
  {
   "cell_type": "code",
   "execution_count": 14,
   "id": "3f1a36f7",
   "metadata": {},
   "outputs": [
    {
     "data": {
      "text/plain": [
       "True"
      ]
     },
     "execution_count": 14,
     "metadata": {},
     "output_type": "execute_result"
    }
   ],
   "source": [
    "bool(1)"
   ]
  },
  {
   "cell_type": "code",
   "execution_count": 15,
   "id": "5cbd8911",
   "metadata": {},
   "outputs": [
    {
     "data": {
      "text/plain": [
       "True"
      ]
     },
     "execution_count": 15,
     "metadata": {},
     "output_type": "execute_result"
    }
   ],
   "source": [
    "bool(3)"
   ]
  },
  {
   "cell_type": "code",
   "execution_count": 16,
   "id": "2ace78c7",
   "metadata": {},
   "outputs": [
    {
     "data": {
      "text/plain": [
       "False"
      ]
     },
     "execution_count": 16,
     "metadata": {},
     "output_type": "execute_result"
    }
   ],
   "source": [
    "bool(0)"
   ]
  },
  {
   "cell_type": "markdown",
   "id": "168c0924",
   "metadata": {},
   "source": [
    "### 関係演算"
   ]
  },
  {
   "cell_type": "markdown",
   "id": "32cd968c",
   "metadata": {
    "vscode": {
     "languageId": "html"
    }
   },
   "source": [
    "- 結果がbool型となる演算\n",
    "\n",
    "<table>\n",
    "  <tr>\n",
    "    <th>分類</th>\n",
    "    <th>演算子</th>\n",
    "    <th>使用例</th>\n",
    "    <th>機能(判定すること)</th>\n",
    "  </tr>\n",
    "  <tr>\n",
    "    <td rowspan=\"2\">等値比較</td>\n",
    "    <td>==</td>\n",
    "    <td>a == b</td>\n",
    "    <td>aとbの値が等しい</td>\n",
    "  </tr>\n",
    "  <tr>\n",
    "    <td>!=</td>\n",
    "    <td>a != b</td>\n",
    "    <td>aとbの値が等しい</td>\n",
    "  </tr>\n",
    "  <tr>\n",
    "    <td rowspan=\"4\">大小比較</td>\n",
    "    <td><</td>\n",
    "    <td>a < b</td>\n",
    "    <td>aがbの値より小さい</td>\n",
    "  </tr>\n",
    "  <tr>\n",
    "    <td><=</td>\n",
    "    <td>a <= b</td>\n",
    "    <td>aがbより小さいまたは等しい</td>\n",
    "  </tr>\n",
    "  <tr>\n",
    "    <td>></td>\n",
    "    <td>a > b</td>\n",
    "    <td>aがbより大きい</td>\n",
    "  </tr>\n",
    "    <tr>\n",
    "    <td>>=</td>\n",
    "    <td>a >= b</td>\n",
    "    <td>aがbより大きいまたは等しい</td>\n",
    "  </tr>\n",
    "</table>"
   ]
  },
  {
   "cell_type": "markdown",
   "id": "f5f04a9a",
   "metadata": {},
   "source": [
    "### 関係演算子の使用例"
   ]
  },
  {
   "cell_type": "code",
   "execution_count": 17,
   "id": "e86d8393",
   "metadata": {},
   "outputs": [],
   "source": [
    "a=5\n",
    "b=3 #代入文だけ"
   ]
  },
  {
   "cell_type": "code",
   "execution_count": 18,
   "id": "d5251b48",
   "metadata": {},
   "outputs": [
    {
     "data": {
      "text/plain": [
       "False"
      ]
     },
     "execution_count": 18,
     "metadata": {},
     "output_type": "execute_result"
    }
   ],
   "source": [
    "a == b #+や-と同じくスペース文字は任意"
   ]
  },
  {
   "cell_type": "code",
   "execution_count": 19,
   "id": "8f31f506",
   "metadata": {},
   "outputs": [
    {
     "data": {
      "text/plain": [
       "True"
      ]
     },
     "execution_count": 19,
     "metadata": {},
     "output_type": "execute_result"
    }
   ],
   "source": [
    "a != b"
   ]
  },
  {
   "cell_type": "code",
   "execution_count": 20,
   "id": "8a532584",
   "metadata": {},
   "outputs": [
    {
     "data": {
      "text/plain": [
       "True"
      ]
     },
     "execution_count": 20,
     "metadata": {},
     "output_type": "execute_result"
    }
   ],
   "source": [
    "a > b"
   ]
  },
  {
   "cell_type": "markdown",
   "id": "8da27713",
   "metadata": {},
   "source": [
    "### フローチャートとの対応\n",
    "\n",
    "- a > bの部分が条件\n",
    "- 条件を判定して`True`ならば処理する\n",
    "- `False`ならば何もしない"
   ]
  },
  {
   "cell_type": "code",
   "execution_count": 21,
   "id": "3794b0ff",
   "metadata": {},
   "outputs": [
    {
     "name": "stdout",
     "output_type": "stream",
     "text": [
      "6\n"
     ]
    }
   ],
   "source": [
    "a = 5\n",
    "b = 1\n",
    "if a > b:\n",
    "    a = a + 1\n",
    "    print(a)"
   ]
  },
  {
   "cell_type": "markdown",
   "id": "79f7de0c",
   "metadata": {},
   "source": [
    "### 例:入力値の正誤判定\n",
    "- 条件の後のコロンと処理したい部分のインデントに注意"
   ]
  },
  {
   "cell_type": "code",
   "execution_count": 16,
   "id": "53eaf189",
   "metadata": {},
   "outputs": [
    {
     "name": "stdout",
     "output_type": "stream",
     "text": [
      "abc:  24\n"
     ]
    },
    {
     "name": "stdout",
     "output_type": "stream",
     "text": [
      "正の数です\n"
     ]
    }
   ],
   "source": [
    "abc = int(input('abc: '))\n",
    "if abc > 0:\n",
    "   print('正の数です') "
   ]
  },
  {
   "cell_type": "code",
   "execution_count": 18,
   "id": "d8360e97",
   "metadata": {},
   "outputs": [
    {
     "name": "stdout",
     "output_type": "stream",
     "text": [
      "abc : -24\n"
     ]
    }
   ],
   "source": [
    "abc = int(input('abc :'))\n",
    "if abc > 0 :\n",
    "    print('正の数です')"
   ]
  },
  {
   "cell_type": "markdown",
   "id": "18d5c611",
   "metadata": {},
   "source": [
    "### 条件式のバリエーション\n",
    "\n",
    "- 関係演算子の左右の項それぞれに式がかける\n",
    "- <span style=\"color: red; \">左の項</span>\n",
    "  <span style=\"color: blue; \">関係演算子</span>\n",
    "  <span style=\"color: red; \">右の項</span>\n",
    "  - 変数,定数,値を返す関数呼び出し\n",
    "  - 計算式(上記を四則演算で組み合わせたもの)"
   ]
  },
  {
   "cell_type": "code",
   "execution_count": 20,
   "id": "302646f0",
   "metadata": {},
   "outputs": [
    {
     "name": "stdout",
     "output_type": "stream",
     "text": [
      "a1:  54\n",
      "a2:  60\n"
     ]
    },
    {
     "name": "stdout",
     "output_type": "stream",
     "text": [
      "100を超えました\n"
     ]
    }
   ],
   "source": [
    "a1 = int(input('a1: '))\n",
    "a2 = int(input('a2: '))\n",
    "if a1 + a2 > 100: # 計算結果の大小\n",
    "    print('100を超えました')"
   ]
  },
  {
   "cell_type": "markdown",
   "id": "0c788690",
   "metadata": {},
   "source": [
    "### if-else文"
   ]
  },
  {
   "cell_type": "markdown",
   "id": "891e8327",
   "metadata": {},
   "source": [
    "- の部分が条件\n",
    "- 条件を判定して`True`ならば<span style=\"color: red;\">成人</span>\n",
    "- `False`ならば`else`部で<span style=\"color: red;\">未成人</span>を出力"
   ]
  },
  {
   "cell_type": "code",
   "execution_count": 22,
   "id": "ccf547c8",
   "metadata": {},
   "outputs": [
    {
     "name": "stdout",
     "output_type": "stream",
     "text": [
      "年齢は : 17\n"
     ]
    },
    {
     "name": "stdout",
     "output_type": "stream",
     "text": [
      "未成年\n"
     ]
    }
   ],
   "source": [
    "age = int(input('年齢は :'))\n",
    "if age >= 18 :\n",
    "    print('成人')\n",
    "else:\n",
    "  print('未成年')  "
   ]
  },
  {
   "cell_type": "markdown",
   "id": "2cf8659e",
   "metadata": {},
   "source": [
    "### elif文\n",
    "- if文の連なりを表現できる"
   ]
  },
  {
   "cell_type": "code",
   "execution_count": 24,
   "id": "e72323f5",
   "metadata": {},
   "outputs": [
    {
     "name": "stdout",
     "output_type": "stream",
     "text": [
      "a:  37\n"
     ]
    },
    {
     "name": "stdout",
     "output_type": "stream",
     "text": [
      "正\n"
     ]
    }
   ],
   "source": [
    "a=int(input('a: '))\n",
    "if a > 0:\n",
    "    print('正')\n",
    "elif a < 0:\n",
    "    print('負')\n",
    "else:\n",
    "    print('ゼロ')\n",
    "\n"
   ]
  },
  {
   "cell_type": "markdown",
   "id": "df734748",
   "metadata": {},
   "source": [
    "- elif:`\"else if\"`の略称で、最初のif文の条件が満たされず、別の条件で試すときに使う\n",
    "- 入力した値が正か負か０か・・・3つの処理を選択できる\n",
    "- 連なりは3つ以上でもOK"
   ]
  },
  {
   "cell_type": "markdown",
   "id": "c99d993f",
   "metadata": {},
   "source": [
    "### 入れ子になったif文\n",
    "\n",
    "- if文の中にif文が入っている入れ子構造\n",
    "  - 「入れ子」とは同じ構造が内側で繰り返す形\n",
    "  - 箱の中にやや小さな箱があり、その中にさらに小さな箱が。。。"
   ]
  },
  {
   "cell_type": "code",
   "execution_count": 26,
   "id": "8107009e",
   "metadata": {},
   "outputs": [
    {
     "name": "stdout",
     "output_type": "stream",
     "text": [
      "a:  -37\n"
     ]
    },
    {
     "name": "stdout",
     "output_type": "stream",
     "text": [
      "負\n"
     ]
    }
   ],
   "source": [
    "a=int(input('a: '))\n",
    "if a > 0:\n",
    "    print('正')\n",
    "else:\n",
    "    if a<0 :\n",
    "        print('負')\n",
    "    else:\n",
    "        print('ゼロ') #　前スライドと同じ動作"
   ]
  },
  {
   "cell_type": "markdown",
   "id": "e060ed14",
   "metadata": {},
   "source": [
    "### 論理演算\n",
    "- 複数条件の組み合わせを計算する\n",
    "- <span style=\"color: blue; \">条件1</span>\n",
    "  <span style=\"color: red; \">関係演算子</span>\n",
    "  <span style=\"color: blue; \">条件2</span>\n",
    "- 2種類の基本演算\n",
    "  - `if`条件1<span style=\"color: red; \">and</span>条件2:\n",
    "    - 条件1を満たし、 <span style=\"color: red; \">かつ</span>、条件2を満たせば`True`\n",
    "    - どちらかが条件を満たさねば`False`\n",
    "  - `if`条件1<span style=\"color: red; \">or</span>条件2\n",
    "    - 条件1を満たすか、<span style=\"color: red; \">または</span>、条件2を満たせば`True`\n",
    "    - どちらも条件を満たさねば`False`"
   ]
  },
  {
   "cell_type": "markdown",
   "id": "21271854",
   "metadata": {
    "vscode": {
     "languageId": "html"
    }
   },
   "source": [
    "### 論理演算\n",
    "\n",
    "<table>\n",
    "  <tr>\n",
    "    <th>演算記号</th>\n",
    "    <th>使用例</th>\n",
    "    <th>a</th>\n",
    "    <th>b</th>\n",
    "    <th>結果</th>\n",
    "    <th>機能</th>\n",
    "  </tr>\n",
    "  <tr>\n",
    "    <td rowspan=\"4\">and</td>\n",
    "    <td rowspan=\"4\">AandB</td>\n",
    "    <td>True</td>\n",
    "    <td>True</td>\n",
    "    <td>True</td>\n",
    "    <td rowspan=\"4\">倫理積:aとbがともにTrueのとき`True`それ以外`False`</td>\n",
    "  </tr>\n",
    "  <tr>\n",
    "    <td>True</td>\n",
    "    <td>False</td>\n",
    "    <td>False</td>\n",
    "  </tr>\n",
    "  <tr>\n",
    "    <td>False</td>\n",
    "    <td>True</td>\n",
    "    <td>Flase</td>\n",
    "  </tr>\n",
    "  <tr>\n",
    "    <td>False</td>\n",
    "    <td>False</td>\n",
    "    <td>False</td>\n",
    "  </tr>\n",
    "  <tr>\n",
    "    <td rowspan=\"4\">or</td>\n",
    "    <td rowspan=\"4\">A or B</td>\n",
    "    <td>True</td>\n",
    "    <td>True</td>\n",
    "    <td>True</td>\n",
    "    <td rowspan=\"4\">倫理和:aとbどちらかがTrueのときTrueそれ以外はFalse</td>\n",
    "  </tr>\n",
    "    <tr>\n",
    "    <td>True</td>\n",
    "    <td>False</td>\n",
    "    <td>True</td>\n",
    "  </tr>\n",
    "    <td>False</td>\n",
    "    <td>True</td>\n",
    "    <td>True</td>\n",
    "  </tr>\n",
    "    <td>False</td>\n",
    "    <td>False</td>\n",
    "    <td>False</td>\n",
    "  </tr>\n",
    "  <tr>\n",
    "    <td rowspan=\"2\">not</td>\n",
    "    <td rowspan=\"2\">not A</td>\n",
    "    <td>True</td>\n",
    "    <td rowspan=\"2\"></td>\n",
    "    <td>False</td>\n",
    "    <td rowspan=\"2\">論理否定:TrueとFalseを反転</td>\n",
    "  </tr>\n",
    "  <tr>\n",
    "    <td>False</td>\n",
    "    <td>True</td>\n",
    "  </tr>\n",
    "</table>"
   ]
  },
  {
   "cell_type": "markdown",
   "id": "cab70dac",
   "metadata": {},
   "source": [
    "### 論理演算の例\n",
    "- ジェットコースターの身長制限\n",
    "- 100cm以上180cm未満のみ乗れる"
   ]
  },
  {
   "cell_type": "code",
   "execution_count": 28,
   "id": "ea3b2404",
   "metadata": {},
   "outputs": [
    {
     "name": "stdout",
     "output_type": "stream",
     "text": [
      "身長:  170\n"
     ]
    },
    {
     "name": "stdout",
     "output_type": "stream",
     "text": [
      "OK\n"
     ]
    }
   ],
   "source": [
    "h=int(input('身長: '))\n",
    "if 100<h and 180>h:\n",
    "    print('OK')\n",
    "else:\n",
    "    print('乗れません') "
   ]
  },
  {
   "cell_type": "markdown",
   "id": "ab94b468",
   "metadata": {},
   "source": [
    "### andの省略\n",
    "- 比較演算子は連鎖可能\n",
    "- 左側から`and`と同じ意味で評価する\n",
    "  - どれか`False`ならばそこで評価終了\n",
    "  - 全体が`False`となる"
   ]
  },
  {
   "cell_type": "code",
   "execution_count": 30,
   "id": "7edb9a12-d9b1-4a99-bb00-e1d08b2d9b39",
   "metadata": {},
   "outputs": [
    {
     "name": "stdout",
     "output_type": "stream",
     "text": [
      "身長:  98\n"
     ]
    },
    {
     "name": "stdout",
     "output_type": "stream",
     "text": [
      "乗れません\n"
     ]
    }
   ],
   "source": [
    "h=int(input('身長: '))\n",
    "if 100<h and 180>h:\n",
    "    print('OK')\n",
    "else:\n",
    "    print('乗れません') "
   ]
  },
  {
   "cell_type": "markdown",
   "id": "4d761649",
   "metadata": {},
   "source": [
    "### 演算子の優先順位"
   ]
  },
  {
   "cell_type": "markdown",
   "id": "d609d0bc",
   "metadata": {},
   "source": [
    "- */は+-より優先される\n",
    "- 関係演算子や倫理演算子に優先の考え方はないだろうか？\n",
    "- 以下を覚えていくとよい(表の上ほど優先度が高い)\n",
    "\n",
    "|演算子|説明|\n",
    "|-----|-----|\n",
    "|**|べき乗|\n",
    "|-x,+x|値の±|\n",
    "|*,/,//,%|乗算,除算,剰余|\n",
    "|+,-|加算,減算|\n",
    "|`in`,<,<=,>,>=,==,!=|含む関係演算子|\n",
    "|`not`|倫理演算|\n",
    "|`and`|倫理演算|\n",
    "|`or`|倫理演算|\n",
    "\n",
    "- 不安な時には丸括弧()を使う\n",
    "  - a < b `and` b >= c\n",
    "  - (a < b) `or` (b >= c)"
   ]
  },
  {
   "cell_type": "markdown",
   "id": "ed1d76fb",
   "metadata": {},
   "source": [
    "## まとめ\n",
    "- プログラムの制御構造\n",
    "  - 順次構造、選択構造、反復構造\n",
    "- 条件分岐\n",
    "  - 選択構造を表すプログラム\n",
    "  - `if`文,`if-else`文,`elif`文\n",
    "- 条件の指定\n",
    "  - `if`の条件に指定する倫理式\n",
    "  - 結果が`bool`型(`True`,`False`)の式\n",
    "  - 関係演算子(==,=!,<,<=,>,>=)\n",
    "  - 倫理演算子(`and`,`or`,`not`)\n",
    "  - 演算子の優先順位と丸括弧の利用 "
   ]
  },
  {
   "cell_type": "markdown",
   "id": "78e8e134",
   "metadata": {},
   "source": []
  }
 ],
 "metadata": {
  "kernelspec": {
   "display_name": "Python 3",
   "language": "python",
   "name": "python3"
  },
  "language_info": {
   "codemirror_mode": {
    "name": "ipython",
    "version": 3
   },
   "file_extension": ".py",
   "mimetype": "text/x-python",
   "name": "python",
   "nbconvert_exporter": "python",
   "pygments_lexer": "ipython3",
   "version": "3.13.2"
  }
 },
 "nbformat": 4,
 "nbformat_minor": 5
}
