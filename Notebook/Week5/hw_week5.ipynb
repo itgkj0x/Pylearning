{
 "cells": [
  {
   "cell_type": "markdown",
   "id": "fdb11a11",
   "metadata": {},
   "source": [
    "# **プログラミング基礎第5回**\n",
    "\n",
    "---"
   ]
  },
  {
   "cell_type": "markdown",
   "id": "3f3040d4",
   "metadata": {},
   "source": [
    "- 5個の整数を変数に入れて、それらを順番に表示したい。"
   ]
  },
  {
   "cell_type": "code",
   "execution_count": 1,
   "id": "9dc78676",
   "metadata": {},
   "outputs": [
    {
     "name": "stdout",
     "output_type": "stream",
     "text": [
      "34 45 12 24 11\n"
     ]
    }
   ],
   "source": [
    "x1 = 34\n",
    "x2 = 45\n",
    "x3 = 12\n",
    "x4 = 24\n",
    "x5 = 11\n",
    "print(x1,x2,x3,x4,x5)"
   ]
  },
  {
   "cell_type": "markdown",
   "id": "145af09a",
   "metadata": {},
   "source": [
    "- もし値が100個だったらどうするか？\n",
    "- 100個すべてに変数名をつけて`print`で並べるか？"
   ]
  },
  {
   "cell_type": "markdown",
   "id": "3556f309",
   "metadata": {},
   "source": [
    "### 今日のゴール\n",
    "\n",
    "- データを効率よく保持する方法\n",
    "  - 「リスト」というの可変のデータ構造\n",
    "  - 「タプル」というの不変のデータ構造(設定後は変更不可)\n",
    "- リストを使用することで、大量のデータを保持して処理できる。\n",
    "- タプルを使うことで、数個の組み合わせを効率よく指定できる。"
   ]
  },
  {
   "cell_type": "markdown",
   "id": "9c62e2de",
   "metadata": {},
   "source": [
    "## **リスト**"
   ]
  },
  {
   "cell_type": "markdown",
   "id": "c0873530",
   "metadata": {},
   "source": [
    "### リストとは？\n",
    "- 複数のデータをひとまとめにして扱う構造\n",
    "  - 複数の値を一つの値として扱える\n",
    "  - 一つの変数として扱える"
   ]
  },
  {
   "cell_type": "code",
   "execution_count": 2,
   "id": "5b9226b4",
   "metadata": {},
   "outputs": [
    {
     "data": {
      "text/plain": [
       "[10, 11, 25, 45, 56]"
      ]
     },
     "execution_count": 2,
     "metadata": {},
     "output_type": "execute_result"
    }
   ],
   "source": [
    "[10,11,25,45,56] # 一つの値として"
   ]
  },
  {
   "cell_type": "code",
   "execution_count": 3,
   "id": "09d1d106",
   "metadata": {},
   "outputs": [
    {
     "data": {
      "text/plain": [
       "list"
      ]
     },
     "execution_count": 3,
     "metadata": {},
     "output_type": "execute_result"
    }
   ],
   "source": [
    "type([1,2,3,4,5]) # 型の確認"
   ]
  },
  {
   "cell_type": "code",
   "execution_count": 4,
   "id": "18436a2d",
   "metadata": {},
   "outputs": [],
   "source": [
    "data = [10,11,25,45,56] # 変数を定義しても良い"
   ]
  },
  {
   "cell_type": "code",
   "execution_count": 5,
   "id": "a5066e0b",
   "metadata": {},
   "outputs": [
    {
     "name": "stdout",
     "output_type": "stream",
     "text": [
      "[10, 11, 25, 45, 56]\n"
     ]
    }
   ],
   "source": [
    "print(data) # intなどと同じ出力方法"
   ]
  },
  {
   "cell_type": "markdown",
   "id": "2d96f41e",
   "metadata": {},
   "source": [
    "### 様々なリスト"
   ]
  },
  {
   "cell_type": "code",
   "execution_count": 7,
   "id": "6a4df9b2",
   "metadata": {},
   "outputs": [
    {
     "data": {
      "text/plain": [
       "[]"
      ]
     },
     "execution_count": 7,
     "metadata": {},
     "output_type": "execute_result"
    }
   ],
   "source": [
    "[] # 空のリストも作れる"
   ]
  },
  {
   "cell_type": "code",
   "execution_count": 8,
   "id": "c0780cae",
   "metadata": {},
   "outputs": [
    {
     "data": {
      "text/plain": [
       "[1.0, 2.1, 3.2, 4.3]"
      ]
     },
     "execution_count": 8,
     "metadata": {},
     "output_type": "execute_result"
    }
   ],
   "source": [
    "[1.0,2.1,3.2,4.3] # int以外の型でも良い"
   ]
  },
  {
   "cell_type": "code",
   "execution_count": 9,
   "id": "449ec5ae",
   "metadata": {},
   "outputs": [
    {
     "data": {
      "text/plain": [
       "['a', 'bc', 'def']"
      ]
     },
     "execution_count": 9,
     "metadata": {},
     "output_type": "execute_result"
    }
   ],
   "source": [
    "['a','bc','def'] # 文字列のリスト"
   ]
  },
  {
   "cell_type": "code",
   "execution_count": 10,
   "id": "5aa216a6",
   "metadata": {},
   "outputs": [
    {
     "data": {
      "text/plain": [
       "[1, 2.1, 'abc']"
      ]
     },
     "execution_count": 10,
     "metadata": {},
     "output_type": "execute_result"
    }
   ],
   "source": [
    "[1,2.1,'abc'] # 複数の型が混在しても良い"
   ]
  },
  {
   "cell_type": "markdown",
   "id": "645ebfd3",
   "metadata": {},
   "source": [
    "- len()組み込み関数で長さ(要素数)が分かる"
   ]
  },
  {
   "cell_type": "code",
   "execution_count": 11,
   "id": "a8559865",
   "metadata": {},
   "outputs": [
    {
     "data": {
      "text/plain": [
       "3"
      ]
     },
     "execution_count": 11,
     "metadata": {},
     "output_type": "execute_result"
    }
   ],
   "source": [
    "len([1,2.1,'abc']) # リストの長さ"
   ]
  },
  {
   "cell_type": "markdown",
   "id": "e37a5781",
   "metadata": {},
   "source": [
    "### リストの要素\n",
    "- 名前が一つでも変数の並びとして、値の取り出しと変更が可能\n",
    "- 個別の要素を扱うには添え字(またはインデックス)を指定する\n",
    "- 添字:0からlen(リスト)-1まで有効な順序数"
   ]
  },
  {
   "cell_type": "code",
   "execution_count": 12,
   "id": "626d27b4",
   "metadata": {},
   "outputs": [
    {
     "name": "stdout",
     "output_type": "stream",
     "text": [
      "[10, 11, 25, 45, 56]\n",
      "10 25\n"
     ]
    }
   ],
   "source": [
    "data = [10,11,25,45,56] # 変数を定義\n",
    "print(data)\n",
    "print(data[0],data[2]) # 個別要素の出力"
   ]
  },
  {
   "cell_type": "code",
   "execution_count": 13,
   "id": "5831b6be",
   "metadata": {},
   "outputs": [
    {
     "name": "stdout",
     "output_type": "stream",
     "text": [
      "[10, 15, 25, 45, 56]\n"
     ]
    }
   ],
   "source": [
    "data[1] = 15 # 代入文で変更しても良い\n",
    "print(data)"
   ]
  },
  {
   "cell_type": "markdown",
   "id": "8ca2e1bd",
   "metadata": {},
   "source": [
    "### 添字とは？\n",
    "- もともとの意味 : 数式や化学式において、文字の斜め上、もしくは斜め下に小さい文字で表記される文字\n",
    "- プログラムでは先頭から何番目の要素かを指定する順序数\n",
    "  - 戦闘は0番目と数え、以下順に1番目,2番目,..,と数える\n",
    "  - 宣言した要素以上の整数は指定できない(エラー)\n",
    "- 自然数の特徴\n",
    "  - 自然数には、物の順序を表す機能と物の個数を示す機能とがある\n",
    "  - 順序数: 物の順序を表す数\n",
    "  - 個数: 濃度とも呼ばれる\n",
    "- 添字の特徴\n",
    "  - 自然数は1からとすることが多いが、リストの添字は0から始まる\n",
    "  - 添え字$i$、要素の個数$n$の整数とした時に$0\\leqq{i}<n$\n",
    "- 実は\n",
    "  - Pythonは添え字に負の値も指定できる(この授業では対象外)"
   ]
  },
  {
   "cell_type": "markdown",
   "id": "9e4c2d04",
   "metadata": {},
   "source": [
    "### リストの要素の最大値と最小値\n",
    "- 5個の整数を要素としたリスト[10,25,98,12,58]を生成し、その最大値と最小値を求めるプログラムを作成せよ。"
   ]
  },
  {
   "cell_type": "code",
   "execution_count": 14,
   "id": "5ce1ea0e",
   "metadata": {},
   "outputs": [
    {
     "name": "stdout",
     "output_type": "stream",
     "text": [
      "max:  98 min:  10\n"
     ]
    }
   ],
   "source": [
    "lst = [10,25,98,12,58]\n",
    "m = max(lst)\n",
    "n = min(lst)\n",
    "print('max: ',m,'min: ',n)"
   ]
  },
  {
   "cell_type": "markdown",
   "id": "714b21f2",
   "metadata": {},
   "source": [
    "### リスト要素の合計と平均\n",
    "\n",
    "- 5個の整数を要素としたリスト[10,25,98,12,58]を生成し、その合計値と平均値を求めるプログラムを作成せよ。"
   ]
  },
  {
   "cell_type": "code",
   "execution_count": 1,
   "id": "53b5d145",
   "metadata": {},
   "outputs": [
    {
     "name": "stdout",
     "output_type": "stream",
     "text": [
      "sum: 203 avg: 40.6\n"
     ]
    }
   ],
   "source": [
    "lst = [10,25,98,12,58]\n",
    "s = sum(lst)\n",
    "a = sum(lst)/len(lst)\n",
    "print('sum:',s,'avg:',a)"
   ]
  },
  {
   "cell_type": "markdown",
   "id": "6bed25fe",
   "metadata": {},
   "source": [
    "### リスト要素の変更\n",
    "- 添え字$i$、要素の個数$n$の整数とした時に$0\\leqq{i}<n$"
   ]
  },
  {
   "cell_type": "code",
   "execution_count": null,
   "id": "8b2e2892",
   "metadata": {},
   "outputs": [],
   "source": [
    "x = [10,11,15,13,14]\n",
    "x[2] = 12\n",
    "print(x)"
   ]
  },
  {
   "cell_type": "markdown",
   "id": "3fcfcfba",
   "metadata": {},
   "source": [
    "- 添字の範囲を誤るとエラー"
   ]
  },
  {
   "cell_type": "code",
   "execution_count": 2,
   "id": "40e14a46",
   "metadata": {},
   "outputs": [
    {
     "ename": "IndexError",
     "evalue": "list assignment index out of range",
     "output_type": "error",
     "traceback": [
      "\u001b[31m---------------------------------------------------------------------------\u001b[39m",
      "\u001b[31mIndexError\u001b[39m                                Traceback (most recent call last)",
      "\u001b[36mCell\u001b[39m\u001b[36m \u001b[39m\u001b[32mIn[2]\u001b[39m\u001b[32m, line 2\u001b[39m\n\u001b[32m      1\u001b[39m x = [\u001b[32m10\u001b[39m,\u001b[32m11\u001b[39m,\u001b[32m15\u001b[39m,\u001b[32m13\u001b[39m,\u001b[32m14\u001b[39m]\n\u001b[32m----> \u001b[39m\u001b[32m2\u001b[39m \u001b[43mx\u001b[49m\u001b[43m[\u001b[49m\u001b[32;43m5\u001b[39;49m\u001b[43m]\u001b[49m=\u001b[32m15\u001b[39m\n",
      "\u001b[31mIndexError\u001b[39m: list assignment index out of range"
     ]
    }
   ],
   "source": [
    "x = [10,11,15,13,14]\n",
    "x[5]=15\n"
   ]
  },
  {
   "cell_type": "markdown",
   "id": "4bb55a82",
   "metadata": {},
   "source": [
    "### リスト要素の追加\n",
    "- `append()`メソッドを使ってリストに要素を追加\n",
    "- メソッド:型に固有の関数、変数の後にドット(.)で指定する"
   ]
  },
  {
   "cell_type": "code",
   "execution_count": 3,
   "id": "a7486b92",
   "metadata": {},
   "outputs": [
    {
     "name": "stdout",
     "output_type": "stream",
     "text": [
      "5\n",
      "6 15\n"
     ]
    }
   ],
   "source": [
    "x = [10,11,15,13,14]\n",
    "print(len(x)) # 最初の長さ\n",
    "x.append(15) # 要素の追加\n",
    "print(len(x),x[5]) # 要素の確認"
   ]
  },
  {
   "cell_type": "markdown",
   "id": "34aef1b2",
   "metadata": {},
   "source": [
    "### 要素の削除\n",
    "- 要素の削除もできる\n",
    "- 削除は`del`文によって行う\n",
    "  - 関数でもメソッドでもない"
   ]
  },
  {
   "cell_type": "code",
   "execution_count": 4,
   "id": "b2b05fb6",
   "metadata": {},
   "outputs": [
    {
     "name": "stdout",
     "output_type": "stream",
     "text": [
      "5 [10, 11, 15, 13, 14]\n",
      "4 [10, 15, 13, 14]\n"
     ]
    }
   ],
   "source": [
    "x = [10,11,15,13,14]\n",
    "print(len(x),x)\n",
    "del x[1] # 要素123を削除\n",
    "print(len(x),x)"
   ]
  },
  {
   "cell_type": "markdown",
   "id": "7a0b8934",
   "metadata": {},
   "source": [
    "### 要素の内包判定\n",
    "リスト内に特定の値が含まれているかの判定\n",
    "- `in`演算子を使用する"
   ]
  },
  {
   "cell_type": "code",
   "execution_count": 2,
   "id": "c8c8d9db",
   "metadata": {},
   "outputs": [
    {
     "data": {
      "text/plain": [
       "True"
      ]
     },
     "execution_count": 2,
     "metadata": {},
     "output_type": "execute_result"
    }
   ],
   "source": [
    "45 in [14,25,34,45,56,78,81]"
   ]
  },
  {
   "cell_type": "markdown",
   "id": "7252c679",
   "metadata": {},
   "source": [
    "- x `in` y は、$x$が$y$の要素であれば`True`、そうでなければ`False`"
   ]
  },
  {
   "cell_type": "code",
   "execution_count": 5,
   "id": "476eda16",
   "metadata": {},
   "outputs": [
    {
     "name": "stdout",
     "output_type": "stream",
     "text": [
      "56 は含まれる\n"
     ]
    }
   ],
   "source": [
    "y = [14,25,34,45,56,78,81]\n",
    "x = int(input('x:'))\n",
    "print(x,'は',end='')\n",
    "if x in y:\n",
    "    print('含まれる')\n",
    "else :\n",
    "    print('含まれない')"
   ]
  },
  {
   "cell_type": "markdown",
   "id": "af527821",
   "metadata": {},
   "source": [
    "### 様々なメソッド\n",
    "- リストのメソッドでいろいろな要素の操作が可能\n",
    "\n",
    "|メソッド名|操作|\n",
    "|---------|---|\n",
    "|`count`|aと同じ要素の個数|\n",
    "|`reverse`|逆順に並び替える|\n",
    "|`sort`|昇順に並び替える|"
   ]
  },
  {
   "cell_type": "code",
   "execution_count": 5,
   "id": "662cdd39",
   "metadata": {},
   "outputs": [
    {
     "name": "stdout",
     "output_type": "stream",
     "text": [
      "3\n",
      "[6, 4, 7, 1, 4, 8, 4, 2, 9, 5, 3]\n",
      "[1, 2, 3, 4, 4, 4, 5, 6, 7, 8, 9]\n"
     ]
    }
   ],
   "source": [
    "lst = [3,5,9,2,4,8,4,1,7,4,6]\n",
    "print(lst.count(4)) # 4の個数\n",
    "lst.reverse() # 逆順に並び替え\n",
    "print(lst)\n",
    "lst.sort() # 昇順に並び替え\n",
    "print(lst)"
   ]
  },
  {
   "cell_type": "markdown",
   "id": "f420eca5",
   "metadata": {},
   "source": [
    "### リストの代入とコピー\n",
    "- 変数を他に代入すると、同一リストに名前が二つの状態となる\n",
    "  - リストの代入は間違いにつながる"
   ]
  },
  {
   "cell_type": "code",
   "execution_count": 6,
   "id": "8a02bc5f",
   "metadata": {},
   "outputs": [
    {
     "name": "stdout",
     "output_type": "stream",
     "text": [
      "[25, 2, 3, 4, 5] [25, 2, 3, 4, 5]\n"
     ]
    }
   ],
   "source": [
    "d = [1,2,3,4,5]\n",
    "g = d # gに代入 \n",
    "g[0] = 25 # gの先頭要素を変更\n",
    "print(g,d)"
   ]
  },
  {
   "cell_type": "markdown",
   "id": "e63322be",
   "metadata": {},
   "source": [
    "- 別のリストを作るには、`copy()`メソッドを使う"
   ]
  },
  {
   "cell_type": "code",
   "execution_count": 7,
   "id": "5eb8a8f1",
   "metadata": {},
   "outputs": [
    {
     "name": "stdout",
     "output_type": "stream",
     "text": [
      "[25, 2, 3, 4, 5] [1, 2, 3, 4, 5]\n"
     ]
    }
   ],
   "source": [
    "d = [1,2,3,4,5]\n",
    "g= d.copy()\n",
    "g[0] = 25 # gの先頭要素を変更\n",
    "print(g,d)"
   ]
  },
  {
   "cell_type": "markdown",
   "id": "b072c000",
   "metadata": {},
   "source": [
    "### 代入とコピーメソッドの違い\n",
    "- $g=d$ とすると、$g$と$d$は同一リストを表す変数\n",
    "- $g=d$ とすると、$g$と$d$はそれぞれのリストを指す変数"
   ]
  },
  {
   "cell_type": "markdown",
   "id": "cc1fb9cf",
   "metadata": {},
   "source": [
    "### リストのリスト\n",
    "- リストの要素は任意の値である\n",
    "- 要素がリストならば「リストのリスト」が作られる\n",
    "- 個別要素の指定は[]で添え字を繰り返す"
   ]
  },
  {
   "cell_type": "code",
   "execution_count": 9,
   "id": "fca83a3f",
   "metadata": {},
   "outputs": [
    {
     "name": "stdout",
     "output_type": "stream",
     "text": [
      "[[1, 2, 3, 4], [5, 6, 7]]\n",
      "[5, 6, 7]\n",
      "7\n"
     ]
    }
   ],
   "source": [
    "a = [1,2,3,4]\n",
    "b = [5,6,7]\n",
    "c = [a,b]\n",
    "print(c) # リストのリスト\n",
    "print(c[1]) # リスト\n",
    "print(c[1][2]) # 整数"
   ]
  },
  {
   "cell_type": "markdown",
   "id": "735edb19",
   "metadata": {},
   "source": [
    "### 文字列とリスト\n",
    "- 文字列は文字の並びなので`list()`で文字のリストに変換可能\n",
    "- リストは関係する文字列のメソッド\n",
    "  - `split()`メソッドで文字列をリストに変換可能\n",
    "  - `join()`メソッドでリストを文字列に変換可能\n",
    "  - 下記の例では`str1`,`str2`は文字列であることに注意"
   ]
  },
  {
   "cell_type": "code",
   "execution_count": 10,
   "id": "37987147",
   "metadata": {},
   "outputs": [
    {
     "name": "stdout",
     "output_type": "stream",
     "text": [
      "['2', '0', '2', '3', '/', '0', '5', '/', '1', '1']\n",
      "['2023', '05', '11']\n",
      "2023-05-11\n"
     ]
    }
   ],
   "source": [
    "str1 = '2023/05/11'\n",
    "x = list(str1) # 文字を要素とするリスト\n",
    "print(x)\n",
    "y = str1.split('/')# /で分けた文字列のリスト\n",
    "print(y)\n",
    "str2 = '-'# 区切れの文字列を決めて\n",
    "str3 = str2.join(y) # それを使って連結\n",
    "print(str3) # `str3`は文字列"
   ]
  },
  {
   "cell_type": "markdown",
   "id": "7bc05c6c",
   "metadata": {},
   "source": [
    "### リストを使う利点\n",
    "\n",
    "リストが使えると...\n",
    "- データ数が増えた場合でもプログラムの行数が増えない\n",
    "- 扱えるデータ数が大幅に増加\n",
    "- 繰り返し制御(次回に学習)と組み合わせると、逐次的かつ法則性のある処理が簡潔にプログラミング可能\n",
    "- 大量のデータを下請けに出すことができる(後の回で学習)"
   ]
  },
  {
   "cell_type": "markdown",
   "id": "514d264e",
   "metadata": {},
   "source": [
    "## **タプル**"
   ]
  },
  {
   "cell_type": "markdown",
   "id": "516aa82b",
   "metadata": {},
   "source": [
    "- 要素を順序付けて組み合わせたもので-とも呼ばれる\n",
    "- リストとは異なる(イミュータブル)なので、一度タプルを作ると要素を変更したり追加や削除ができない。\n",
    "  - `append()`がない\n",
    "  - `del`文も使えない\n",
    "  - 別の変数に代入できる(不変なので心配もない)\n",
    "- タプルの生成には<span style=\"color:red;\">丸括弧</span>`(`と`)`を使う"
   ]
  },
  {
   "cell_type": "code",
   "execution_count": 11,
   "id": "048eaf40",
   "metadata": {},
   "outputs": [
    {
     "data": {
      "text/plain": [
       "tuple"
      ]
     },
     "execution_count": 11,
     "metadata": {},
     "output_type": "execute_result"
    }
   ],
   "source": [
    "t = (2021,'Taro')\n",
    "type(t)"
   ]
  },
  {
   "cell_type": "markdown",
   "id": "50f2faa1",
   "metadata": {},
   "source": [
    "### 様々なタプル"
   ]
  },
  {
   "cell_type": "code",
   "execution_count": null,
   "id": "cacb49a9",
   "metadata": {},
   "outputs": [
    {
     "data": {
      "text/plain": [
       "()"
      ]
     },
     "execution_count": 7,
     "metadata": {},
     "output_type": "execute_result"
    }
   ],
   "source": [
    "() # 空のタプル"
   ]
  },
  {
   "cell_type": "code",
   "execution_count": 8,
   "id": "eeca43d2",
   "metadata": {},
   "outputs": [
    {
     "data": {
      "text/plain": [
       "(1.0, 2.1, 3.2, 4.3)"
      ]
     },
     "execution_count": 8,
     "metadata": {},
     "output_type": "execute_result"
    }
   ],
   "source": [
    "(1.0,2.1,3.2,4.3) # 実数のタプル"
   ]
  },
  {
   "cell_type": "code",
   "execution_count": null,
   "id": "ea9f2994",
   "metadata": {},
   "outputs": [
    {
     "data": {
      "text/plain": [
       "('a', 'bc', 'def')"
      ]
     },
     "execution_count": 9,
     "metadata": {},
     "output_type": "execute_result"
    }
   ],
   "source": [
    "('a','bc','def') # 文字列のタプル"
   ]
  },
  {
   "cell_type": "code",
   "execution_count": 10,
   "id": "ed04b7b4",
   "metadata": {},
   "outputs": [
    {
     "data": {
      "text/plain": [
       "(1, 2.1, 'abc')"
      ]
     },
     "execution_count": 10,
     "metadata": {},
     "output_type": "execute_result"
    }
   ],
   "source": [
    "(1,2.1,'abc') # 混在したタプル"
   ]
  },
  {
   "cell_type": "markdown",
   "id": "31a8f257",
   "metadata": {},
   "source": [
    "- `len()`組み込み関数で長さ(要素数)が分かる"
   ]
  },
  {
   "cell_type": "code",
   "execution_count": null,
   "id": "bf29ee67",
   "metadata": {},
   "outputs": [],
   "source": [
    "len(1,2.1,'abc')"
   ]
  },
  {
   "cell_type": "markdown",
   "id": "26469a4b",
   "metadata": {},
   "source": [
    "### タプルの要素\n",
    "- リストと同じように値が取り出せる\n",
    "  - 個別の要素を扱うには<span style=\"color:red;\">添字</span>(またはインデックス)を指定する\n",
    "  - 添え字:$0$から`len`(タプル)-1まで有効な順序数\n",
    "- 他の変数の一度に取り出せる(アンパックと呼ばれる機能)\n",
    "  - タプルに向いた処理\n",
    "  - リストでもできるが変数の数と要素数が合わないエラー"
   ]
  },
  {
   "cell_type": "code",
   "execution_count": null,
   "id": "25eb3df2",
   "metadata": {},
   "outputs": [],
   "source": [
    "data = (10,'abc',1.5)\n",
    "print(data)\n",
    "print(data[0],data[2]) # リストと同じ\n",
    "print(a,b,c)"
   ]
  },
  {
   "cell_type": "markdown",
   "id": "d928a100",
   "metadata": {},
   "source": [
    "### 変更不可\n",
    "- 要素の変更はできないのでエラーとなる"
   ]
  },
  {
   "cell_type": "markdown",
   "id": "79aad718",
   "metadata": {},
   "source": [
    "### リストと変換\n",
    "- タプルとリストは相互に変換できる"
   ]
  },
  {
   "cell_type": "code",
   "execution_count": 12,
   "id": "f70712ed",
   "metadata": {},
   "outputs": [
    {
     "name": "stdout",
     "output_type": "stream",
     "text": [
      "[1, 2, 3, 4]\n",
      "(1, 2, 3, 4)\n",
      "(1, 2, 3, 4)\n"
     ]
    }
   ],
   "source": [
    "lst = [1,2,3,4]\n",
    "print(lst)\n",
    "tpl = tuple(lst) # リストからタプルへ\n",
    "print(tpl)\n",
    "lst2 =tuple(tpl) # タプルからリストへ\n",
    "print(lst2)"
   ]
  },
  {
   "cell_type": "markdown",
   "id": "aa2d55ad",
   "metadata": {},
   "source": [
    "### タプルのリスト\n",
    "- タプルの有用な使い方\n",
    "  - リストの要素としてタプルを使う..\n",
    "  - 決まった組の要素を多く格納したリスト\n",
    "  - リストのリストとは異なり添字の範囲は不安にならない "
   ]
  },
  {
   "cell_type": "code",
   "execution_count": 2,
   "id": "09c51e34",
   "metadata": {},
   "outputs": [
    {
     "name": "stdout",
     "output_type": "stream",
     "text": [
      "('Suzuki', 21)\n",
      "Suzuki\n",
      "21\n"
     ]
    }
   ],
   "source": [
    "lst = [(\"Tanaka\",19),(\"Suzuki\",21),(\"Kobayashi\",20)]\n",
    "print(lst[1]) # タプル\n",
    "print(lst[1][0]) # タプルの先頭要素\n",
    "print(lst[1][1]) # タプルの後方要素"
   ]
  },
  {
   "cell_type": "markdown",
   "id": "60a5b796",
   "metadata": {},
   "source": [
    "### タプルの利点\n",
    "- 場所を取らない(リストよりもメモリを多く使わない)\n",
    "- 誤って中身を変更することがない\n",
    "- 他の辞書とともに使われる\n",
    "  - 辞書,関数など\n",
    "- 特定数の値を持つ塊として扱える\n",
    "  -  タプルのリストのような例"
   ]
  },
  {
   "cell_type": "markdown",
   "id": "708187b3",
   "metadata": {},
   "source": [
    "## **まとめ**\n",
    "複数のデータに一つの名前がつけられる\n",
    "- リストとタプルで共通の特徴\n",
    "  - 複数のデータに一つの名前が付けられる\n",
    "  - 0から始まる添字で各要素を個別に扱える\n",
    "  - 空リスト,空タプルでもよい、要素の型は混在しても良い\n",
    "  - `print()`,`max()`,`min()`,`sum()`,`len()`組み込み関数が使える\n",
    "  - `in`演算子で要素を含むかどうかの判定が可能\n",
    "  - `count()`メソッドで重複要素を数えられる\n",
    "  - アンパックで複数の変数に要素を取り出せる(タプル向き)\n",
    "- リスト固有の特徴\n",
    "  - 鍵括弧で指定する (`x.append(a)`)\n",
    "  - 要素数の増加(`del x[3]`)\n",
    "  - `reverse()`,`sort()`,`copy()`メソッド\n",
    "- タプルの固有の特徴\n",
    "  - 丸括弧で指定する\n",
    "  - 要素数や値は固定(変更不可)"
   ]
  },
  {
   "cell_type": "markdown",
   "id": "4eec1d40",
   "metadata": {},
   "source": []
  }
 ],
 "metadata": {
  "kernelspec": {
   "display_name": "base",
   "language": "python",
   "name": "python3"
  },
  "language_info": {
   "codemirror_mode": {
    "name": "ipython",
    "version": 3
   },
   "file_extension": ".py",
   "mimetype": "text/x-python",
   "name": "python",
   "nbconvert_exporter": "python",
   "pygments_lexer": "ipython3",
   "version": "3.12.7"
  }
 },
 "nbformat": 4,
 "nbformat_minor": 5
}
