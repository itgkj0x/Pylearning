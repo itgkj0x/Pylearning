{
 "cells": [
  {
   "cell_type": "markdown",
   "id": "818da151",
   "metadata": {},
   "source": [
    "## **演習1**\n",
    "整数を要素としたリストを生成したのち、先頭中央語尾の三顧の値を並べて出力し、次にこれらの平均値を出力するプログラムを作りたい。\n",
    "空欄を埋めて完成させよ\n",
    "- 以下の例とは異なる個数でもうまく動作するようにする\n",
    "- 偶数個の場合の中央の値は、全体を二つに分けた要素群の後半の先頭要素とする"
   ]
  },
  {
   "cell_type": "code",
   "execution_count": 13,
   "id": "1c576aca",
   "metadata": {},
   "outputs": [
    {
     "name": "stdout",
     "output_type": "stream",
     "text": [
      "先頭:  34 中央:  24 後尾 : 25\n",
      "[34, 45, 12, 24, 11, 25] : 25.166666666666668\n",
      "先頭:  3 中央:  24 後尾 : 18\n",
      "[3, 19, 24, 15, 18] : 15.8\n"
     ]
    }
   ],
   "source": [
    "ls1 = [34,45,12,24,11,25]\n",
    "print('先頭: ',ls1[0],'中央: ',ls1[len(ls1)//2],'後尾 :',ls1[len(ls1)-1] )\n",
    "avg1 = sum(ls1)/len(ls1)\n",
    "print(ls1,':',avg1)\n",
    "ls1 = [3,19,24,15,18]\n",
    "print('先頭: ',ls1[0],'中央: ',ls1[len(ls1)//2],'後尾 :',ls1[len(ls1)-1] )\n",
    "avg1 = sum(ls1)/len(ls1)\n",
    "print(ls1,':',avg1)"
   ]
  },
  {
   "cell_type": "markdown",
   "id": "320a1a1f",
   "metadata": {},
   "source": [
    "## **演習2**\n",
    "\n",
    "5つの数値をキーボードから入力し、最初の5つの合計を出力したのち、5つ目の数値が最初4つのどれかに含まれているかを判定するプログラムを作成せよ。リストを用いること。"
   ]
  },
  {
   "cell_type": "code",
   "execution_count": 3,
   "id": "8639f3cb",
   "metadata": {},
   "outputs": [
    {
     "name": "stdout",
     "output_type": "stream",
     "text": [
      "1個目の値 : 12\n",
      "2個目の値 : 24\n",
      "3個目の値 : 36\n",
      "4個目の値 : 18\n",
      "判定する値: 50\n"
     ]
    },
    {
     "name": "stdout",
     "output_type": "stream",
     "text": [
      "最初の4個の合計: 90\n",
      "[12, 24, 36, 18] は 50を含まない\n"
     ]
    }
   ],
   "source": [
    "x=[]\n",
    "x.append(int(input(\"1個目の値 :\")))\n",
    "x.append(int(input(\"2個目の値 :\")))\n",
    "x.append(int(input(\"3個目の値 :\")))\n",
    "x.append(int(input(\"4個目の値 :\")))\n",
    "y = int (input('判定する値:'))\n",
    "print('最初の4個の合計:',sum(x))\n",
    "print(x,'は',y,end='を')\n",
    "if y in x:\n",
    "    print('含む')\n",
    "else :\n",
    "    print('含まない')\n"
   ]
  },
  {
   "cell_type": "markdown",
   "id": "b1e5d231",
   "metadata": {},
   "source": [
    "## **演習3**\n",
    "4個のラベルと値の組(タプル)を要素とするリスト$x$から、最大値を求めて、対応するラベルを出力したい。最大値は複数のラベルとなる可能性を考慮して、以下の空欄を埋めよ。\n",
    "- 1行目で示したラベルや値を空欄で使わないこと。\n",
    "- 添字として、0,1,2などの序数は指定しても良い\n"
   ]
  },
  {
   "cell_type": "code",
   "execution_count": null,
   "id": "a4eb689e",
   "metadata": {},
   "outputs": [
    {
     "name": "stdout",
     "output_type": "stream",
     "text": [
      "最高点は 94 は ['B', 'C'] であった。\n"
     ]
    }
   ],
   "source": [
    "x = [('A',76),('B',94),('C',94),('D',90)]\n",
    "m = max(x[0][1],x[1][1],x[2][1],x[3][1]) #最大値を計算する\n",
    "y = []\n",
    "\n",
    "if m in x[0]:\n",
    "    y.append(x[0][0])   #必要に応じてyを更新\n",
    "if m in x[1]:\n",
    "    y.append(x[1][0])   #必要に応じてyを更新\n",
    "if m in x[2]:\n",
    "    y.append(x[2][0])   #必要に応じてyを更新\n",
    "if m in x[3]:\n",
    "    y.append(x[3][0])   #必要に応じてyを更新\n",
    "print('最高点は',m,'は',y,'であった。')\n"
   ]
  }
 ],
 "metadata": {
  "kernelspec": {
   "display_name": "base",
   "language": "python",
   "name": "python3"
  },
  "language_info": {
   "codemirror_mode": {
    "name": "ipython",
    "version": 3
   },
   "file_extension": ".py",
   "mimetype": "text/x-python",
   "name": "python",
   "nbconvert_exporter": "python",
   "pygments_lexer": "ipython3",
   "version": "3.12.7"
  }
 },
 "nbformat": 4,
 "nbformat_minor": 5
}
