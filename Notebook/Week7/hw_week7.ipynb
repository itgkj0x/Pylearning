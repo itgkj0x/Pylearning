{
 "cells": [
  {
   "cell_type": "markdown",
   "id": "b321039f",
   "metadata": {},
   "source": [
    "# プログラミング基礎第7回 \n",
    "リスト内包表記と関数の定義\n"
   ]
  },
  {
   "cell_type": "markdown",
   "id": "1b49a6a4",
   "metadata": {},
   "source": [
    "### 今回の目標\n",
    "プログラムを整理して簡潔に作成する方法の習得\n",
    "- リスト内包表記:大量のデータを効率よく指定して保持する方法\n",
    "- 関数:処理手順の記述を効率化する方法\n",
    "- より短い行数でのプログラムの作成\n",
    "  - くどくなく(冗長でない)\n",
    "  - 見やすい(理解しやすい)\n",
    "  - 変更が楽"
   ]
  },
  {
   "cell_type": "markdown",
   "id": "be39bfe1",
   "metadata": {},
   "source": [
    "## リスト内包表記\n",
    "- のリストを生成する方法\n",
    "- リストの値を並べるのではなく、を指定する\n",
    "- あるリストから要素を残したり加工して別のリストを作る\n",
    "- `for`文を使って数行で表現できる内容を1行で表す"
   ]
  },
  {
   "cell_type": "markdown",
   "id": "24a562cd",
   "metadata": {},
   "source": [
    "```Python\n",
    "[式 for ... in ...(オプションでforやif)]\n",
    "```"
   ]
  },
  {
   "cell_type": "code",
   "execution_count": 1,
   "id": "55dfdc13",
   "metadata": {},
   "outputs": [
    {
     "name": "stdout",
     "output_type": "stream",
     "text": [
      "[0, 2, 4, 6, 8]\n"
     ]
    }
   ],
   "source": [
    "a = []              # 空のリスト\n",
    "for n in range (5): # for文の場合\n",
    "    a.append(2*n)   # 2*nをaに追加\n",
    "print(a)"
   ]
  },
  {
   "cell_type": "code",
   "execution_count": 2,
   "id": "b026eaef",
   "metadata": {},
   "outputs": [
    {
     "ename": "SyntaxError",
     "evalue": "invalid syntax (2660826054.py, line 2)",
     "output_type": "error",
     "traceback": [
      "\u001b[1;36m  Cell \u001b[1;32mIn[2], line 2\u001b[1;36m\u001b[0m\n\u001b[1;33m    for n in range (5): # for文の場合\u001b[0m\n\u001b[1;37m    ^\u001b[0m\n\u001b[1;31mSyntaxError\u001b[0m\u001b[1;31m:\u001b[0m invalid syntax\n"
     ]
    }
   ],
   "source": [
    "a = [\n",
    "    for n in range (5): # for文の場合\n",
    "    a.append(2*n)\n",
    "]\n",
    "print(a)"
   ]
  },
  {
   "cell_type": "markdown",
   "id": "20a17f00",
   "metadata": {},
   "source": [
    "### 基本形\n",
    "- リストの要素に対してを適用する"
   ]
  },
  {
   "cell_type": "code",
   "execution_count": 2,
   "id": "bc9f81c9",
   "metadata": {},
   "outputs": [],
   "source": [
    "a = [3,8,2,9,6,4] # 元となるリスト"
   ]
  },
  {
   "cell_type": "code",
   "execution_count": 3,
   "id": "bf6b0f6d",
   "metadata": {},
   "outputs": [
    {
     "name": "stdout",
     "output_type": "stream",
     "text": [
      "[9, 64, 4, 81, 36, 16]\n"
     ]
    }
   ],
   "source": [
    "b = []              # 空のリストbを用意して\n",
    "for n in a:         # リストaの要素\n",
    "    b.append(n**2)  # 2乗の値を計算しbに追加\n",
    "print(b)"
   ]
  },
  {
   "cell_type": "code",
   "execution_count": 4,
   "id": "fd835d37",
   "metadata": {},
   "outputs": [
    {
     "name": "stdout",
     "output_type": "stream",
     "text": [
      "[]\n"
     ]
    }
   ],
   "source": [
    "b = []\n",
    "print(b)"
   ]
  },
  {
   "cell_type": "markdown",
   "id": "9e46fbe8",
   "metadata": {},
   "source": [
    "### range()の例\n",
    "- `range()`関数で範囲を決めたnに対して式を適用"
   ]
  },
  {
   "cell_type": "code",
   "execution_count": 5,
   "id": "48ad9248",
   "metadata": {},
   "outputs": [
    {
     "name": "stdout",
     "output_type": "stream",
     "text": [
      "[0, 1, 4, 9, 16]\n"
     ]
    }
   ],
   "source": [
    "a = []              # for文で書いた場合\n",
    "for n in range(5):  # リストの指定とほぼ同じ\n",
    "    a.append(n**2)\n",
    "print(a)"
   ]
  },
  {
   "cell_type": "code",
   "execution_count": 6,
   "id": "5c14744d",
   "metadata": {},
   "outputs": [],
   "source": [
    "a = []"
   ]
  },
  {
   "cell_type": "markdown",
   "id": "0cbe9ae7",
   "metadata": {},
   "source": [
    "### 範囲限定\n",
    "- `for`で得た範囲をする"
   ]
  },
  {
   "cell_type": "code",
   "execution_count": 7,
   "id": "2bd08ba1",
   "metadata": {},
   "outputs": [
    {
     "name": "stdout",
     "output_type": "stream",
     "text": [
      "[0, 2, 4]\n"
     ]
    }
   ],
   "source": [
    "a = []\n",
    "for n in range(5):\n",
    "    if n%2 == 0:\n",
    "        a.append(n)\n",
    "print(a)"
   ]
  },
  {
   "cell_type": "code",
   "execution_count": 9,
   "id": "45d0eaf5",
   "metadata": {},
   "outputs": [
    {
     "name": "stdout",
     "output_type": "stream",
     "text": [
      "[0, 2, 4]\n"
     ]
    }
   ],
   "source": [
    "a = [n for n in range(5) if n%2 == 0]\n",
    "print(a)"
   ]
  },
  {
   "cell_type": "markdown",
   "id": "744b67d1",
   "metadata": {},
   "source": [
    "### 判断\n",
    "- `for`で得た範囲を条件に応じて加工する"
   ]
  },
  {
   "cell_type": "code",
   "execution_count": 10,
   "id": "aa95375d",
   "metadata": {},
   "outputs": [
    {
     "name": "stdout",
     "output_type": "stream",
     "text": [
      "[0, -1, 2, -3, 4, -5, 6, -7, 8, -9]\n"
     ]
    }
   ],
   "source": [
    "a = []  # 偶数はそのまま奇数はマイナス\n",
    "for n in range(10):\n",
    "    if n%2 == 0:\n",
    "        a.append(n)\n",
    "    else:\n",
    "        a.append(-n)\n",
    "print(a)"
   ]
  },
  {
   "cell_type": "code",
   "execution_count": 11,
   "id": "9e203d3a",
   "metadata": {},
   "outputs": [
    {
     "ename": "SyntaxError",
     "evalue": "invalid syntax (1765317249.py, line 1)",
     "output_type": "error",
     "traceback": [
      "  \u001b[36mCell\u001b[39m\u001b[36m \u001b[39m\u001b[32mIn[11]\u001b[39m\u001b[32m, line 1\u001b[39m\n\u001b[31m    \u001b[39m\u001b[31ma = [for n in range(10)]\u001b[39m\n         ^\n\u001b[31mSyntaxError\u001b[39m\u001b[31m:\u001b[39m invalid syntax\n"
     ]
    }
   ],
   "source": [
    "a = [for n in range(10)]\n",
    "print(a)"
   ]
  },
  {
   "cell_type": "markdown",
   "id": "f4a84f68",
   "metadata": {},
   "source": [
    "### 条件式\n",
    "- 式1 if 条件 else 式2 の部分を条件式(参考演算子)と呼ぶ\n",
    "- まず条件を判断し、`True`ならば式1を評価して値を返す\n",
    "- `False`ならば式2を評価して値を返す\n",
    "- `for`文の例は以下のように書いても良い\n",
    "```Python\n",
    "a.append(n if n%2 == 0 else -n)\n",
    "```"
   ]
  },
  {
   "cell_type": "markdown",
   "id": "be07d217",
   "metadata": {},
   "source": [
    "```Python\n",
    "a = \n",
    "for n in range(10):\n",
    "    if n%2 == 0:\n",
    "        a.append(n)\n",
    "    else:\n",
    "        a.append(-n)\n",
    "\n",
    "[n if n%2 == 0 else -n for n in range(10)] \n",
    "```"
   ]
  },
  {
   "cell_type": "markdown",
   "id": "0ab4f74e",
   "metadata": {},
   "source": [
    "### 二重ループ\n",
    "- あるiについてjが0,1,2と変わる\n",
    "    - i=0で(0,0),(0,1),(0,2)\n",
    "    - i=1で(1,0),(1,1),(1,2)"
   ]
  },
  {
   "cell_type": "code",
   "execution_count": 2,
   "id": "62403d1f",
   "metadata": {},
   "outputs": [
    {
     "name": "stdout",
     "output_type": "stream",
     "text": [
      "[(0, 0), (0, 1), (0, 2), (1, 0), (1, 1), (1, 2)]\n"
     ]
    }
   ],
   "source": [
    "a = []\n",
    "for i in range(2):\n",
    "    for j in range(3):\n",
    "        a.append((i,j)) # タプルの追加\n",
    "print(a)"
   ]
  },
  {
   "cell_type": "code",
   "execution_count": 4,
   "id": "a4d5244a",
   "metadata": {},
   "outputs": [
    {
     "name": "stdout",
     "output_type": "stream",
     "text": [
      "[(0, 0), (0, 1), (0, 2), (1, 0), (1, 1), (1, 2)]\n"
     ]
    }
   ],
   "source": [
    "a = [(i,j) for i in range(2) for j in range(3)]\n",
    "print(a)"
   ]
  },
  {
   "cell_type": "markdown",
   "id": "5de7bd11",
   "metadata": {},
   "source": [
    "### リストのリスト\n",
    "- 内側のループでa[i]に要素を追加している "
   ]
  },
  {
   "cell_type": "code",
   "execution_count": 5,
   "id": "08561121",
   "metadata": {},
   "outputs": [
    {
     "name": "stdout",
     "output_type": "stream",
     "text": [
      "[[0, 1, 2, 3], [1, 2, 3, 4], [2, 3, 4, 5]]\n"
     ]
    }
   ],
   "source": [
    "a = []\n",
    "for i in range(3):\n",
    "    b = []\n",
    "    for j in range(i,i+4):\n",
    "        b.append(j)\n",
    "    a.append(b)\n",
    "print(a)"
   ]
  },
  {
   "cell_type": "markdown",
   "id": "27704781",
   "metadata": {},
   "source": [
    "- 内側の[]の位置に注意する\n",
    "  - リスト内包表記が入れ子になっている\n",
    "  - 式の結果がリスト([])なので、リストが並ぶことになる"
   ]
  },
  {
   "cell_type": "code",
   "execution_count": 7,
   "id": "e93c4ea2",
   "metadata": {},
   "outputs": [
    {
     "name": "stdout",
     "output_type": "stream",
     "text": [
      "[[0, 1, 2, 3], [1, 2, 3, 4], [2, 3, 4, 5]]\n"
     ]
    }
   ],
   "source": [
    "a = [[j for j in range(i,i+4)]for i in range(3)]\n",
    "print(a)"
   ]
  },
  {
   "cell_type": "markdown",
   "id": "a81dc43f",
   "metadata": {},
   "source": [
    "## 関数の定義\n",
    "### 数学の関数とは\n",
    "- 例\n",
    "  - 三角関数($\\sin$,$\\cos$,$\\tan$)...\n",
    "  - 微分方程式,などなど\n",
    "- 二つの考え方がある\n",
    "  - aaa\n",
    "    - 独立変数と従属変数\n",
    "    - 定義域と値域\n",
    "  - aaa\n",
    "    - 写像,合成,全射,単射,逆  "
   ]
  },
  {
   "cell_type": "markdown",
   "id": "74bf5880",
   "metadata": {},
   "source": [
    "### プログラムにおける関数\n",
    "こちらは三つの考え方\n",
    "- aaa\n",
    "- aaaに名前を付けたもの\n",
    "  - この講義で扱う内容\n",
    "  - 名前を指定することで一連の処理を行わせる\n",
    "  - オプションの指定で異なった内容を指示することもある\n",
    "- ラムダ計算\n",
    "  - 詳細を知らずに終わる人も多数いるが、プログラミングにおける考え方はとても大事\n",
    "用語の確認\n",
    "- **プログラム** :\n",
    "- **プログラミング** :"
   ]
  },
  {
   "cell_type": "markdown",
   "id": "5af64a09",
   "metadata": {},
   "source": []
  }
 ],
 "metadata": {
  "kernelspec": {
   "display_name": "base",
   "language": "python",
   "name": "python3"
  },
  "language_info": {
   "codemirror_mode": {
    "name": "ipython",
    "version": 3
   },
   "file_extension": ".py",
   "mimetype": "text/x-python",
   "name": "python",
   "nbconvert_exporter": "python",
   "pygments_lexer": "ipython3",
   "version": "3.12.7"
  }
 },
 "nbformat": 4,
 "nbformat_minor": 5
}
