{
 "cells": [
  {
   "cell_type": "markdown",
   "id": "a19898a5",
   "metadata": {},
   "source": [
    "# プログラミング基礎第7回\n"
   ]
  },
  {
   "cell_type": "markdown",
   "id": "085e881a",
   "metadata": {},
   "source": []
  }
 ],
 "metadata": {
  "language_info": {
   "name": "python"
  }
 },
 "nbformat": 4,
 "nbformat_minor": 5
}
