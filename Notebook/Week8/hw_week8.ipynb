{
 "cells": [
  {
   "cell_type": "markdown",
   "id": "e49e8154",
   "metadata": {},
   "source": [
    "# プログラミング基礎第8回\n",
    "**行列の扱い(Numpy)**\n",
    "\n",
    "---"
   ]
  },
  {
   "cell_type": "markdown",
   "id": "31600ae3",
   "metadata": {},
   "source": [
    "## Numpyの基本"
   ]
  },
  {
   "cell_type": "markdown",
   "id": "7a70fcc9",
   "metadata": {},
   "source": [
    "### 複数の数をまとめて扱う\n",
    "\n",
    "- リストを使うと複数の値をまとめて扱える\n",
    "- しかし、リストはベクトルや行列の計算には向いていない\n",
    "- リストの目的は複数の値をまとめることであって、計算が目的ではないためである\n",
    "\n",
    "加算ではなく連結になってしまう例:"
   ]
  },
  {
   "cell_type": "code",
   "execution_count": 1,
   "id": "89b6ff06",
   "metadata": {},
   "outputs": [
    {
     "name": "stdout",
     "output_type": "stream",
     "text": [
      "[1, 2, 3, 4, 5, 6, 7, 8]\n"
     ]
    }
   ],
   "source": [
    "a = [1,2,3,4]\n",
    "b = [5,6,7,8]\n",
    "print( a + b ) # 対応要素を加算したい"
   ]
  },
  {
   "cell_type": "markdown",
   "id": "aebbacf4",
   "metadata": {},
   "source": [
    "### 数値ライブラリNumPy\n",
    "\n",
    "Numpyは[]を簡単かつ高速に行う[]である<br>\n",
    "[トップページ](https://numpy.org/)の日本語訳\n",
    "\n",
    "> NumpyはPythonによる科学記述計算の基本パッケージです。<br>\n",
    "> 特に以下を含みます。\n",
    "> - 強力なN次元配列オブジェクト\n",
    "> - 洗練された関数\n",
    "> - C/C++とFortranコードと統合するためのツール\n",
    "> - 有用な線形代数,フーリエ変換,乱数機能"
   ]
  },
  {
   "cell_type": "code",
   "execution_count": 2,
   "id": "81b37a91",
   "metadata": {},
   "outputs": [],
   "source": [
    "import numpy # 使用できるかどうかの確認方法"
   ]
  },
  {
   "cell_type": "markdown",
   "id": "7ea439db",
   "metadata": {},
   "source": [
    "### 用語の確認\n",
    "\n",
    "**数値計算**\n",
    "\n",
    "方程式から得た解の数式に実際の値をあてはめたり、代数や解析の手法では解けない問題を実際に近似を使って解く計算のこと。\n",
    "\n",
    "**ライブラリ**\n",
    "\n",
    "libraryとは図書館。プログラミングではよく使われるプログラムの部品を集めたもの。通常は関数の形で使用できる。\n",
    "\n",
    "**モジュール**\n",
    "\n",
    "moduleとは各要素。Pythonでは、関係する関数の定義などのコードをまとめて扱う単位。\n",
    "\n",
    "**パッケージ**\n",
    "\n",
    "packageとは一括/梱包。pythonモジュールでは副モジュールで階層構造を構成でき、そのまとまりをパッケージと呼ぶ。\n",
    "\n",
    "**import**\n",
    "\n",
    "輸入/持ち込むの意味。pythonの予約語。モジュールを取り込んで使用できる状態にすることを意味する\n",
    "\n",
    "\n",
    "> 用語の使い方:<br>\n",
    "> パッケージAのモジュールをすべて取り込むには[]とする<br>\n",
    "> パッケージAのモジュールBを取り込むには[]とする"
   ]
  },
  {
   "cell_type": "markdown",
   "id": "6c1cd05f",
   "metadata": {},
   "source": [
    "### NumPyの基本"
   ]
  },
  {
   "cell_type": "code",
   "execution_count": 3,
   "id": "ad8653b5",
   "metadata": {},
   "outputs": [],
   "source": [
    "import numpy as np  #取り込んで名前をnpにする"
   ]
  },
  {
   "cell_type": "code",
   "execution_count": null,
   "id": "bd5d7bbe",
   "metadata": {},
   "outputs": [],
   "source": [
    "a = np.array()  # オブジェクトの作成\n",
    "b = np.array()\n",
    "print(a+b)  # 要素ごとの加算"
   ]
  },
  {
   "cell_type": "markdown",
   "id": "0228a583",
   "metadata": {},
   "source": [
    "- `import...as`はプログラム(一つのノート)の中で一度だけ行う\n",
    "- 上記は`numpy`全体を取り込んで、`np`という名前使う指定\n",
    "- 予約語`as`を指定しない場合には、上記の`np`を`numpy`と指定する\n",
    "- `np.array()`は、`numpy`独自の形式の値を返す関数\n",
    "  - 返された値は一般的にオブジェクトと呼ぶ形式\n",
    "- ここでは[1,2,3,4,5]などのリストを初期値と指定している"
   ]
  },
  {
   "cell_type": "markdown",
   "id": "1677dbed",
   "metadata": {},
   "source": [
    "### オブジェクトの確認"
   ]
  },
  {
   "cell_type": "code",
   "execution_count": 5,
   "id": "11f7d11e",
   "metadata": {},
   "outputs": [
    {
     "data": {
      "text/plain": [
       "[2, 3, 4, 5]"
      ]
     },
     "execution_count": 5,
     "metadata": {},
     "output_type": "execute_result"
    }
   ],
   "source": [
    "[2,3,4,5]   # リストの場合"
   ]
  },
  {
   "cell_type": "code",
   "execution_count": null,
   "id": "a10f7c77",
   "metadata": {},
   "outputs": [],
   "source": []
  },
  {
   "cell_type": "code",
   "execution_count": null,
   "id": "38152c96",
   "metadata": {},
   "outputs": [],
   "source": []
  },
  {
   "cell_type": "code",
   "execution_count": 8,
   "id": "36208869",
   "metadata": {},
   "outputs": [
    {
     "data": {
      "text/plain": [
       "list"
      ]
     },
     "execution_count": 8,
     "metadata": {},
     "output_type": "execute_result"
    }
   ],
   "source": [
    "type(a) # 変数の型の確認"
   ]
  },
  {
   "cell_type": "code",
   "execution_count": 9,
   "id": "42073625",
   "metadata": {},
   "outputs": [
    {
     "data": {
      "text/plain": [
       "list"
      ]
     },
     "execution_count": 9,
     "metadata": {},
     "output_type": "execute_result"
    }
   ],
   "source": [
    "type(a+b)   # 計算結果の型の確認"
   ]
  },
  {
   "cell_type": "markdown",
   "id": "b312bbbc",
   "metadata": {},
   "source": [
    "ndarrayはn次元配列(n-dimentional array)の省略語"
   ]
  },
  {
   "cell_type": "markdown",
   "id": "35cba9ab",
   "metadata": {},
   "source": [
    "### 表示結果に注意\n",
    "- printを使う場合と使わない場合とで結果表示が変わる"
   ]
  },
  {
   "cell_type": "code",
   "execution_count": 10,
   "id": "e790cde2",
   "metadata": {},
   "outputs": [
    {
     "data": {
      "text/plain": [
       "array([1, 2, 3, 4, 5])"
      ]
     },
     "execution_count": 10,
     "metadata": {},
     "output_type": "execute_result"
    }
   ],
   "source": [
    "np.array([1,2,3,4,5])"
   ]
  },
  {
   "cell_type": "code",
   "execution_count": null,
   "id": "22a59ff8",
   "metadata": {},
   "outputs": [],
   "source": []
  },
  {
   "cell_type": "code",
   "execution_count": null,
   "id": "7a648d80",
   "metadata": {},
   "outputs": [],
   "source": []
  },
  {
   "cell_type": "code",
   "execution_count": 12,
   "id": "600770e3",
   "metadata": {},
   "outputs": [
    {
     "name": "stdout",
     "output_type": "stream",
     "text": [
      "[1, 2, 3, 4]\n"
     ]
    }
   ],
   "source": [
    "print(a)    # printで変数aの中身を表示"
   ]
  },
  {
   "cell_type": "code",
   "execution_count": 13,
   "id": "1e268823",
   "metadata": {},
   "outputs": [
    {
     "name": "stdout",
     "output_type": "stream",
     "text": [
      "<class 'list'>\n"
     ]
    }
   ],
   "source": [
    "print(type(a))  # printで変数aの型を表示"
   ]
  },
  {
   "cell_type": "markdown",
   "id": "1a421f23",
   "metadata": {},
   "source": [
    "### 整数と実数に注意\n",
    "- 要素に実数が混じると`print`の結果がわずかに変わる\n",
    "- 内部では整数と実数を区別して処理しているためである"
   ]
  },
  {
   "cell_type": "code",
   "execution_count": 14,
   "id": "56c6cab5",
   "metadata": {},
   "outputs": [
    {
     "name": "stdout",
     "output_type": "stream",
     "text": [
      "[1 2 3]\n",
      "[1. 2. 3.]\n"
     ]
    }
   ],
   "source": [
    "print(np.array([1,2,3]))\n",
    "print(np.array([1,2,3.0]))  # 実数を混ぜる"
   ]
  },
  {
   "cell_type": "markdown",
   "id": "749a4bf1",
   "metadata": {},
   "source": [
    "- 内部のデータ型は`dtype`属性で調べられる"
   ]
  },
  {
   "cell_type": "code",
   "execution_count": null,
   "id": "cfa5ee85",
   "metadata": {},
   "outputs": [],
   "source": [
    "a = np.array([1,2,3])\n",
    "a = np.array([1,2,3.0])     # 実数を混ぜる\n",
    "print(a.dtype , b.dtype)"
   ]
  },
  {
   "cell_type": "markdown",
   "id": "946b01db",
   "metadata": {},
   "source": [
    "### 配列要素の取り出しと配列の長さ\n",
    "- `numpy`配列の各要素は、リストと同様に、添字で指定できる\n",
    "- 先頭要素の添字は0である点に注意"
   ]
  },
  {
   "cell_type": "code",
   "execution_count": null,
   "id": "cf3d7703",
   "metadata": {},
   "outputs": [],
   "source": [
    "a = np.array([1,2,3,4])\n",
    "print(a[0],a[2])\n",
    "a[1] = #変更してもよい\n",
    "print(a)"
   ]
  },
  {
   "cell_type": "markdown",
   "id": "1045fea6",
   "metadata": {},
   "source": [
    "- 要素数もリスト同様に`len()`関数で分かる"
   ]
  },
  {
   "cell_type": "code",
   "execution_count": 16,
   "id": "3418978a",
   "metadata": {},
   "outputs": [
    {
     "data": {
      "text/plain": [
       "3"
      ]
     },
     "execution_count": 16,
     "metadata": {},
     "output_type": "execute_result"
    }
   ],
   "source": [
    "len(a)"
   ]
  },
  {
   "cell_type": "markdown",
   "id": "66518966",
   "metadata": {},
   "source": [
    "## NumPyを使った計算"
   ]
  },
  {
   "cell_type": "markdown",
   "id": "be4a6c05",
   "metadata": {},
   "source": [
    "### 単一の値と計算\n",
    "- `numpy`配列と単一の値との演算は、配列のすべての要素に対して同じ操作を行うことになる"
   ]
  },
  {
   "cell_type": "code",
   "execution_count": 17,
   "id": "a6f882f9",
   "metadata": {},
   "outputs": [
    {
     "name": "stdout",
     "output_type": "stream",
     "text": [
      "[2 4 6]\n"
     ]
    }
   ],
   "source": [
    "a = np.array([1,2,3])\n",
    "print(2*a)     # すべての要素を2倍"
   ]
  },
  {
   "cell_type": "code",
   "execution_count": null,
   "id": "28d48e66",
   "metadata": {},
   "outputs": [],
   "source": []
  },
  {
   "cell_type": "markdown",
   "id": "9ff5cd95",
   "metadata": {},
   "source": [
    ">数学では$n$個の数$x_1,x_2,....,x_n$の並びを$n$次元ベクトルと呼ぶ。\n",
    ">numpyを使うとベクトルやスカラー(単一の値)の積やベクトル同士の演算が「*」や「+」などの演算子でできる"
   ]
  },
  {
   "cell_type": "markdown",
   "id": "e783a2d1",
   "metadata": {},
   "source": [
    "### 内積\n",
    "\n",
    ">$n$次元ベクトル$x$,$y$に対して,$x \\circ y$を$x$と$y$の内積といい、\n",
    ">$$ x\\circ y = x_1y_1+x_2y_2+...+x_ny_n = \\sum_{i=1}^{n}x_iy_i$$\n",
    ">と定義される\n",
    "\n",
    "- 二つの`numpy`配列に*を適用すると各要素の積が得られる\n",
    "- 内積を計算するには[]または[]を使う"
   ]
  },
  {
   "cell_type": "code",
   "execution_count": 19,
   "id": "be2366cb",
   "metadata": {},
   "outputs": [
    {
     "name": "stdout",
     "output_type": "stream",
     "text": [
      "\n",
      "\n"
     ]
    }
   ],
   "source": [
    "import numpy as np\n",
    "\n",
    "a = np.array([1,2,3,4])\n",
    "b = np.array([1,2,3,4])\n",
    "print() # 関数を使った内積\n",
    "print() # 演算子の場合"
   ]
  },
  {
   "cell_type": "markdown",
   "id": "bba88694",
   "metadata": {},
   "source": [
    "#### 内積をmarkdownで書くには"
   ]
  },
  {
   "cell_type": "markdown",
   "id": "20fe78af",
   "metadata": {},
   "source": [
    "```Markdown\n",
    "$$ \n",
    "x\\circ y \n",
    "= x_1y_1+x_2y_2+...+x_ny_n \n",
    "= \\sum_{i=1}^{n}x_iy_i\n",
    "$$\n",
    "```"
   ]
  }
 ],
 "metadata": {
  "kernelspec": {
   "display_name": "base",
   "language": "python",
   "name": "python3"
  },
  "language_info": {
   "codemirror_mode": {
    "name": "ipython",
    "version": 3
   },
   "file_extension": ".py",
   "mimetype": "text/x-python",
   "name": "python",
   "nbconvert_exporter": "python",
   "pygments_lexer": "ipython3",
   "version": "3.12.7"
  }
 },
 "nbformat": 4,
 "nbformat_minor": 5
}
