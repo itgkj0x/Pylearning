{
 "cells": [
  {
   "cell_type": "markdown",
   "id": "7902d864",
   "metadata": {},
   "source": [
    "# **プログラミング基礎第9回**\n",
    "\n",
    "---"
   ]
  },
  {
   "cell_type": "markdown",
   "id": "9d15af81",
   "metadata": {},
   "source": [
    "## 今回の内容\n",
    "- matplotlibライブラリ\n",
    "  - [ホーム](https://matplotlib.org)\n",
    "  - [様々なグラフのギャラリー](https://matplotlib.org/stable/gallery/index)\n",
    "- pyplotモジュール\n",
    "  - [概要](https://matplotlib.org/stable/api/pyplot_summary.html)\n",
    "  - [チュートリアル](https://matplotlib.org/stable/tutorials/pyplot.html)\n",
    "- 今回扱うグラフの種類\n",
    "  - 折れ線グラフ\n",
    "  - 散布図\n",
    "  - 棒グラフ\n",
    "  - ヒストグラム"
   ]
  },
  {
   "cell_type": "markdown",
   "id": "6d65c078",
   "metadata": {},
   "source": [
    "## 準備\n",
    "- モジュールの導入\n",
    "  - matpylotlib.pylotを利用するには`import`が必要\n",
    "  - `pyplot`モジュールの取り込みはノート中で1回だけ行えばよい"
   ]
  }
 ],
 "metadata": {
  "language_info": {
   "name": "python"
  }
 },
 "nbformat": 4,
 "nbformat_minor": 5
}
