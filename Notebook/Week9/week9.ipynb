{
 "cells": [
  {
   "cell_type": "markdown",
   "id": "c8dbc0b9",
   "metadata": {},
   "source": [
    "# **プログラミング基礎第9回**\n",
    "\n",
    "---"
   ]
  },
  {
   "cell_type": "markdown",
   "id": "149c245a",
   "metadata": {},
   "source": []
  }
 ],
 "metadata": {
  "language_info": {
   "name": "python"
  }
 },
 "nbformat": 4,
 "nbformat_minor": 5
}
