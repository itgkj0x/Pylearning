{
 "cells": [
  {
   "cell_type": "code",
   "execution_count": 1,
   "id": "c129f866-9fb5-48ad-9cec-880b697500c7",
   "metadata": {
    "panel-layout": {
     "height": 27.09490966796875,
     "visible": true,
     "width": 100
    }
   },
   "outputs": [
    {
     "data": {
      "text/plain": [
       "10"
      ]
     },
     "execution_count": 1,
     "metadata": {},
     "output_type": "execute_result"
    }
   ],
   "source": [
    "2*3+4"
   ]
  },
  {
   "cell_type": "code",
   "execution_count": 5,
   "id": "7fb2de3e-8a73-4248-bad5-bf6d4dcd1240",
   "metadata": {
    "panel-layout": {
     "height": 27.09490966796875,
     "visible": true,
     "width": 100
    }
   },
   "outputs": [
    {
     "data": {
      "text/plain": [
       "6.0"
      ]
     },
     "execution_count": 5,
     "metadata": {},
     "output_type": "execute_result"
    }
   ],
   "source": [
    "1+(2*3+4)/2"
   ]
  },
  {
   "cell_type": "code",
   "execution_count": 7,
   "id": "974013c6-521b-4a2a-b8cd-b18a0567a962",
   "metadata": {
    "panel-layout": {
     "height": 27.09490966796875,
     "visible": true,
     "width": 100
    }
   },
   "outputs": [
    {
     "data": {
      "text/plain": [
       "31"
      ]
     },
     "execution_count": 7,
     "metadata": {},
     "output_type": "execute_result"
    }
   ],
   "source": [
    "2**2+3**3"
   ]
  },
  {
   "cell_type": "code",
   "execution_count": 16,
   "id": "2f00634f-63e2-43f7-959f-6ea6bcf9c151",
   "metadata": {
    "panel-layout": {
     "height": 27.09490966796875,
     "visible": true,
     "width": 100
    }
   },
   "outputs": [
    {
     "data": {
      "text/plain": [
       "1.7320508075688772"
      ]
     },
     "execution_count": 16,
     "metadata": {},
     "output_type": "execute_result"
    }
   ],
   "source": [
    "3**(1/2)"
   ]
  },
  {
   "cell_type": "markdown",
   "id": "73863596-9592-455d-a65a-76feabeb3d32",
   "metadata": {},
   "source": [
    "- $2\\times3+4$\n",
    "- $1+(2\\times3+4)\\div2$\n",
    "- $(2^2+3^3)$\n",
    "- $\\sqrt{3}$"
   ]
  },
  {
   "cell_type": "code",
   "execution_count": null,
   "id": "15f57292-f93d-4f0a-9bb4-6c6237bddcc3",
   "metadata": {},
   "outputs": [],
   "source": []
  }
 ],
 "metadata": {
  "kernelspec": {
   "display_name": "Python [conda env:base] *",
   "language": "python",
   "name": "conda-base-py"
  },
  "language_info": {
   "codemirror_mode": {
    "name": "ipython",
    "version": 3
   },
   "file_extension": ".py",
   "mimetype": "text/x-python",
   "name": "python",
   "nbconvert_exporter": "python",
   "pygments_lexer": "ipython3",
   "version": "3.12.7"
  },
  "panel-cell-order": [
   "258f1ae1-d5f9-416b-82f3-2890928c47bc",
   "c129f866-9fb5-48ad-9cec-880b697500c7",
   "7fb2de3e-8a73-4248-bad5-bf6d4dcd1240",
   "974013c6-521b-4a2a-b8cd-b18a0567a962",
   "a586e2dc-a292-4719-bd76-28b676135851"
  ]
 },
 "nbformat": 4,
 "nbformat_minor": 5
}
