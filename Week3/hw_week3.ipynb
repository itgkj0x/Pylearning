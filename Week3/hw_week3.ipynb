{
 "cells": [
  {
   "cell_type": "markdown",
   "id": "348994e2",
   "metadata": {},
   "source": [
    "# **プログラミング基礎第3回**"
   ]
  },
  {
   "cell_type": "markdown",
   "id": "433556ac",
   "metadata": {},
   "source": [
    "### コメント\n",
    "- プログラムの中に書き込む\n",
    "- 実行とは関係ない\n",
    "- プログラムを読む際の理解を助ける"
   ]
  },
  {
   "cell_type": "code",
   "execution_count": 2,
   "id": "506154a2",
   "metadata": {},
   "outputs": [
    {
     "name": "stdout",
     "output_type": "stream",
     "text": [
      "hello\n"
     ]
    }
   ],
   "source": [
    "# helloを表示する（行末までがコメント）\n",
    "print(\"hello\") # これもコメント"
   ]
  },
  {
   "cell_type": "markdown",
   "id": "fdc6b4a6",
   "metadata": {},
   "source": [
    "- Jupyter Notebookではmarkdownがあるので使用しなくてもよい\n",
    "- Pythonプログラムを独立したファイルに保存する場合には必要"
   ]
  },
  {
   "cell_type": "markdown",
   "id": "d69dfa99",
   "metadata": {},
   "source": [
    "## **整数と実数の指定**\n",
    "### N進法の指定"
   ]
  },
  {
   "cell_type": "code",
   "execution_count": 42,
   "id": "844df050",
   "metadata": {},
   "outputs": [
    {
     "data": {
      "text/plain": [
       "5"
      ]
     },
     "execution_count": 42,
     "metadata": {},
     "output_type": "execute_result"
    }
   ],
   "source": [
    "0b0101 #2進法は0bを頭につける"
   ]
  },
  {
   "cell_type": "code",
   "execution_count": 1,
   "id": "8babd8d4",
   "metadata": {},
   "outputs": [
    {
     "data": {
      "text/plain": [
       "53"
      ]
     },
     "execution_count": 1,
     "metadata": {},
     "output_type": "execute_result"
    }
   ],
   "source": [
    "0b110101 #bはbinaryの頭文字"
   ]
  },
  {
   "cell_type": "code",
   "execution_count": 1,
   "id": "4316463e",
   "metadata": {},
   "outputs": [
    {
     "data": {
      "text/plain": [
       "57"
      ]
     },
     "execution_count": 1,
     "metadata": {},
     "output_type": "execute_result"
    }
   ],
   "source": [
    "0o71 #8進法は0oを頭につける"
   ]
  },
  {
   "cell_type": "code",
   "execution_count": 2,
   "id": "1f847127",
   "metadata": {},
   "outputs": [
    {
     "data": {
      "text/plain": [
       "239"
      ]
     },
     "execution_count": 2,
     "metadata": {},
     "output_type": "execute_result"
    }
   ],
   "source": [
    "0o0357 #oはoctalの頭文字"
   ]
  },
  {
   "cell_type": "code",
   "execution_count": 4,
   "id": "af2db320",
   "metadata": {},
   "outputs": [
    {
     "data": {
      "text/plain": [
       "63"
      ]
     },
     "execution_count": 4,
     "metadata": {},
     "output_type": "execute_result"
    }
   ],
   "source": [
    "0x3f"
   ]
  },
  {
   "cell_type": "markdown",
   "id": "4acecdcd",
   "metadata": {},
   "source": [
    "### 桁区切り\n",
    "-  桁数の多い数字は入力ミスや読み取りミスをしやすい\n",
    "-  桁に区切りを入れることで読みやすくなる\n",
    "-  それには下線文字(_)を使って桁を区切る\n",
    "   - 数学で使う(,)ではないことに注意"
   ]
  },
  {
   "cell_type": "code",
   "execution_count": 6,
   "id": "83097501",
   "metadata": {},
   "outputs": [
    {
     "data": {
      "text/plain": [
       "123456789"
      ]
     },
     "execution_count": 6,
     "metadata": {},
     "output_type": "execute_result"
    }
   ],
   "source": [
    "123_456_789 # 3桁が慣習"
   ]
  },
  {
   "cell_type": "code",
   "execution_count": 5,
   "id": "229c34e6",
   "metadata": {},
   "outputs": [
    {
     "data": {
      "text/plain": [
       "123456789"
      ]
     },
     "execution_count": 5,
     "metadata": {},
     "output_type": "execute_result"
    }
   ],
   "source": [
    "0b0111_0101_1011_1100_1101_0001_0101 # 4桁が多い"
   ]
  },
  {
   "cell_type": "code",
   "execution_count": 6,
   "id": "a830ca16",
   "metadata": {},
   "outputs": [
    {
     "data": {
      "text/plain": [
       "123456789"
      ]
     },
     "execution_count": 6,
     "metadata": {},
     "output_type": "execute_result"
    }
   ],
   "source": [
    "0o726_746_425 # 桁数の慣習はない"
   ]
  },
  {
   "cell_type": "code",
   "execution_count": 7,
   "id": "f45e531f",
   "metadata": {},
   "outputs": [
    {
     "data": {
      "text/plain": [
       "123456277"
      ]
     },
     "execution_count": 7,
     "metadata": {},
     "output_type": "execute_result"
    }
   ],
   "source": [
    "0x075b_cb15 # 4桁ごとが多い"
   ]
  },
  {
   "cell_type": "markdown",
   "id": "b20656bd",
   "metadata": {},
   "source": [
    "### 実数の指定\n",
    "- 小数点以下が0の実数は、少数点のみを書いてあとは省略できる\n",
    "- <span style=\"color: red; \">OUT</span>表示や出力の際にも省略表示が使われることがある"
   ]
  },
  {
   "cell_type": "code",
   "execution_count": 8,
   "id": "4694a1ab",
   "metadata": {},
   "outputs": [
    {
     "data": {
      "text/plain": [
       "123.0"
      ]
     },
     "execution_count": 8,
     "metadata": {},
     "output_type": "execute_result"
    }
   ],
   "source": [
    "123. # 少数点以下を省略"
   ]
  },
  {
   "cell_type": "markdown",
   "id": "ef08cc82",
   "metadata": {},
   "source": [
    "### 科学的表記\n",
    "\n",
    "- 科学的表記法では、実数値を「仮数」「基数」「指数」の3つで表す\n",
    "- 基数は暗黙で10、仮数と指数は10進法\n",
    "\n",
    "$$ 1.25\\times10^2 $$\n",
    "$$ 1.25e2 $$"
   ]
  },
  {
   "cell_type": "code",
   "execution_count": 11,
   "id": "b5163b17",
   "metadata": {},
   "outputs": [
    {
     "data": {
      "text/plain": [
       "125.0"
      ]
     },
     "execution_count": 11,
     "metadata": {},
     "output_type": "execute_result"
    }
   ],
   "source": [
    "1.25e2 #eはexponent(指数)"
   ]
  },
  {
   "cell_type": "code",
   "execution_count": 9,
   "id": "b678d34a",
   "metadata": {},
   "outputs": [
    {
     "data": {
      "text/plain": [
       "-524200.0"
      ]
     },
     "execution_count": 9,
     "metadata": {},
     "output_type": "execute_result"
    }
   ],
   "source": [
    "-5.242e5"
   ]
  },
  {
   "cell_type": "code",
   "execution_count": 10,
   "id": "04f4ce24",
   "metadata": {},
   "outputs": [
    {
     "data": {
      "text/plain": [
       "4.23e-30"
      ]
     },
     "execution_count": 10,
     "metadata": {},
     "output_type": "execute_result"
    }
   ],
   "source": [
    "4.23e-30"
   ]
  },
  {
   "cell_type": "markdown",
   "id": "bf928cdf",
   "metadata": {},
   "source": [
    "## **print関数**\n",
    "### print関数の基本"
   ]
  },
  {
   "cell_type": "code",
   "execution_count": 11,
   "id": "331de905",
   "metadata": {},
   "outputs": [
    {
     "data": {
      "text/plain": [
       "'hello'"
      ]
     },
     "execution_count": 11,
     "metadata": {},
     "output_type": "execute_result"
    }
   ],
   "source": [
    "\"hello\""
   ]
  },
  {
   "cell_type": "code",
   "execution_count": 13,
   "id": "08ed1242",
   "metadata": {},
   "outputs": [
    {
     "name": "stdout",
     "output_type": "stream",
     "text": [
      "hello, world\n"
     ]
    }
   ],
   "source": [
    "print(\"hello\", end='') # ''は単一引用符2個\n",
    "print(\", world\")"
   ]
  },
  {
   "cell_type": "markdown",
   "id": "93c5843e",
   "metadata": {},
   "source": [
    "print関数でend=''を指定すると改行しない"
   ]
  },
  {
   "cell_type": "markdown",
   "id": "58059d4d",
   "metadata": {},
   "source": [
    "### 変数と出力\n",
    "文字列と変数の出力を混同しないように注意する\n",
    "- 文字列の出力"
   ]
  },
  {
   "cell_type": "code",
   "execution_count": 15,
   "id": "ac2951bc",
   "metadata": {},
   "outputs": [
    {
     "name": "stdout",
     "output_type": "stream",
     "text": [
      "a\n"
     ]
    }
   ],
   "source": [
    "a = 10\n",
    "print(\"a\")"
   ]
  },
  {
   "cell_type": "markdown",
   "id": "90c14fc9",
   "metadata": {},
   "source": [
    "- 変数の値の出力"
   ]
  },
  {
   "cell_type": "code",
   "execution_count": 16,
   "id": "9a75c477",
   "metadata": {},
   "outputs": [
    {
     "name": "stdout",
     "output_type": "stream",
     "text": [
      "10\n"
     ]
    }
   ],
   "source": [
    "a = 10\n",
    "print(a)"
   ]
  },
  {
   "cell_type": "markdown",
   "id": "87e595e2",
   "metadata": {},
   "source": [
    "### 文字列と変数値の組み合わせ出力\n",
    "- カンマ(,)で区切って複数指定できる\n",
    "  - 各々を`print()`への引数（ひきすう）と呼ぶ\n",
    "- 間にスペース文字が出力に入る点にも注意"
   ]
  },
  {
   "cell_type": "code",
   "execution_count": 18,
   "id": "dcaf503d",
   "metadata": {},
   "outputs": [
    {
     "name": "stdout",
     "output_type": "stream",
     "text": [
      "a = 10\n"
     ]
    }
   ],
   "source": [
    "a=10\n",
    "print(\"a =\",a)"
   ]
  },
  {
   "cell_type": "code",
   "execution_count": 24,
   "id": "bc4954a1",
   "metadata": {},
   "outputs": [
    {
     "name": "stdout",
     "output_type": "stream",
     "text": [
      "a = 3 ,b = 5\n"
     ]
    }
   ],
   "source": [
    "a=3\n",
    "b=5\n",
    "print(\"a =\",a,\",b =\",b)"
   ]
  },
  {
   "cell_type": "code",
   "execution_count": 28,
   "id": "3934c6ea",
   "metadata": {},
   "outputs": [
    {
     "name": "stdout",
     "output_type": "stream",
     "text": [
      "a = 7,a'= 10\n"
     ]
    }
   ],
   "source": [
    "a=7\n",
    "print(\"a =\",a,end='')\n",
    "a=10\n",
    "print(\",a'=\",a)"
   ]
  },
  {
   "cell_type": "markdown",
   "id": "91abc4eb",
   "metadata": {},
   "source": [
    "### 2,8,16進法の出力\n",
    "\n",
    "- プログラムに書く数値の指定は2,8,16と10進法が選べる\n",
    "- Python内部では基本的に2進法の表現で処理される（見えない）\n",
    "- 出力の際には文字列の表現としてｎ進法を考える\n",
    "- 出力では数値から数字への変換関数を利用する\n",
    "    - `bin()`,`oct()`,`hex()`"
   ]
  },
  {
   "cell_type": "code",
   "execution_count": 31,
   "id": "bcf71425",
   "metadata": {},
   "outputs": [
    {
     "name": "stdout",
     "output_type": "stream",
     "text": [
      "1234 0b10011010010 0o2322 0x4d2\n",
      "1234 0b10011010010 0o2322 0x4d2\n"
     ]
    }
   ],
   "source": [
    "a = 1234 # 10進法指定したintの値\n",
    "b = bin(a) # 2進法の文字列\n",
    "o = oct(a) # 8進法の文字列\n",
    "h = hex(a) # 16進法の文字列\n",
    "print(a,b,o,h)\n",
    "print(a, bin(a), oct(a),hex(a)) # 直接出力"
   ]
  },
  {
   "cell_type": "markdown",
   "id": "a19c7fee",
   "metadata": {},
   "source": [
    "## **input関数**\n",
    "### input関数とプロント\n",
    "\n",
    "- `input()`の実行では一時的に入力欄□が現れる\n",
    "- `input('a:')`のように文字列を指定するとa:□と表示される\n",
    "  -  'a:'のような指定を`input()`への引数（ひきすう）と呼ぶ\n",
    "  -  表示される文字列をプロンプト（入力促進）と呼ぶ\n",
    "- 入力後に入力欄の四角い枠が消えて入力内容が表示される\n",
    "- そのあとに実行が続き出力が表示される"
   ]
  },
  {
   "cell_type": "code",
   "execution_count": 33,
   "id": "a4fcb337",
   "metadata": {},
   "outputs": [
    {
     "name": "stdout",
     "output_type": "stream",
     "text": [
      "your input:  abc\n"
     ]
    }
   ],
   "source": [
    "a = input('input: ') # 文字列が代入される\n",
    "print(\"your input: \", a)"
   ]
  },
  {
   "cell_type": "markdown",
   "id": "a297f07c",
   "metadata": {},
   "source": [
    "#### 復習\n",
    "- 以下のプログラムはエラーが出力される"
   ]
  },
  {
   "cell_type": "code",
   "execution_count": 35,
   "id": "b2df8139",
   "metadata": {},
   "outputs": [
    {
     "ename": "TypeError",
     "evalue": "can only concatenate str (not \"int\") to str",
     "output_type": "error",
     "traceback": [
      "\u001b[31m---------------------------------------------------------------------------\u001b[39m",
      "\u001b[31mTypeError\u001b[39m                                 Traceback (most recent call last)",
      "\u001b[36mCell\u001b[39m\u001b[36m \u001b[39m\u001b[32mIn[35]\u001b[39m\u001b[32m, line 2\u001b[39m\n\u001b[32m      1\u001b[39m a = \u001b[38;5;28minput\u001b[39m() \n\u001b[32m----> \u001b[39m\u001b[32m2\u001b[39m \u001b[38;5;28mprint\u001b[39m(\u001b[43ma\u001b[49m\u001b[43m \u001b[49m\u001b[43m+\u001b[49m\u001b[43m \u001b[49m\u001b[32;43m1\u001b[39;49m) \u001b[38;5;66;03m#文字列に１を足している\u001b[39;00m\n",
      "\u001b[31mTypeError\u001b[39m: can only concatenate str (not \"int\") to str"
     ]
    }
   ],
   "source": [
    "a = input() \n",
    "print(a + 1) #文字列に１を足している"
   ]
  },
  {
   "cell_type": "markdown",
   "id": "04393541",
   "metadata": {},
   "source": [
    "- Pythonが扱う値にはデータ型がある\n",
    "- `input()`の結果は文字列(str)\n",
    "- 数値計算には整数(int)または実数(float)が必要"
   ]
  },
  {
   "cell_type": "markdown",
   "id": "d13256d2",
   "metadata": {},
   "source": [
    "### 入力と計算\n",
    "- `int()`を使って文字列を整数に変換できる"
   ]
  },
  {
   "cell_type": "code",
   "execution_count": 37,
   "id": "b9b8c938",
   "metadata": {},
   "outputs": [
    {
     "name": "stdout",
     "output_type": "stream",
     "text": [
      "4\n",
      "6\n"
     ]
    }
   ],
   "source": [
    "a = input( 'a:' ) # 入力\n",
    "a = int(a) # 変換\n",
    "print(a + 1)\n",
    "a = int(input('a:')) # 入力と変換\n",
    "print(a + 1)"
   ]
  },
  {
   "cell_type": "markdown",
   "id": "5f2cb1c7",
   "metadata": {},
   "source": [
    "- `float()`を使って文字列を実数に変換できる"
   ]
  },
  {
   "cell_type": "code",
   "execution_count": null,
   "id": "42ad5606",
   "metadata": {},
   "outputs": [
    {
     "name": "stdout",
     "output_type": "stream",
     "text": [
      "4.7\n"
     ]
    }
   ],
   "source": [
    "b = float(input('b:'))\n",
    "print(b + 1.2)"
   ]
  },
  {
   "cell_type": "markdown",
   "id": "4968e8a6",
   "metadata": {},
   "source": [
    "### 2つの入力と合計\n",
    "- 2つの整数をキーボードから読み取って、その合計を表示する"
   ]
  },
  {
   "cell_type": "code",
   "execution_count": 39,
   "id": "347ad64b",
   "metadata": {},
   "outputs": [
    {
     "name": "stdout",
     "output_type": "stream",
     "text": [
      "8\n"
     ]
    }
   ],
   "source": [
    "s = int(input('s:'))\n",
    "t = int(input('t:'))\n",
    "u = s + t\n",
    "print(u)"
   ]
  },
  {
   "cell_type": "markdown",
   "id": "d2081473",
   "metadata": {},
   "source": [
    "## **組み込み関数**\n",
    "### 既出の組み込み関数\n",
    "- 組み込み関数とはPythonプログラミング言語の基本構成として事前に用意されている機能。全部で69個ある。\n",
    "- これまでに出てきた関数は以下の通り"
   ]
  },
  {
   "cell_type": "markdown",
   "id": "dd5a4fa5",
   "metadata": {},
   "source": [
    "| 名前       | 説明                    | 使用例               |\n",
    "|-----------|-------------------------|----------------------|\n",
    "| `print()`   | 出力する                 | `print(\"a =\", a)`    |\n",
    "| `input()`   | 入力する                 | `a = input(\"a: \")`   |\n",
    "| `type()`    | データ型を返す           | `type(1.5)`          |\n",
    "| `int()`     | 整数への変換             | `int(1.5)`           |\n",
    "| `float()`   | 実数への変換             | `float(25)`          |\n",
    "| `str()`     | 文字列への変換           | `str(28.3)`          |\n",
    "| `bin()`     | 2進数文字列への変換      | `bin(123)`           |\n",
    "| `oct()`     | 8進数文字列への変換      | `oct(123)`           |\n",
    "| `hex()`     | 16進数文字列への変換     | `hex(123)`           |\n",
    "\n"
   ]
  },
  {
   "cell_type": "markdown",
   "id": "db92d12a",
   "metadata": {},
   "source": [
    "### 計算に関係する組み込み関数"
   ]
  },
  {
   "cell_type": "markdown",
   "id": "37da6c45",
   "metadata": {},
   "source": [
    "| 関数         | 説明                                                                                   |\n",
    "|--------------|----------------------------------------------------------------------------------------|\n",
    "| `abs(x)`       | xの絶対値を返す。(absolute value)                                                       |\n",
    "| `pow(x, y, z)` | $x^y$の結果をzで割ったあまりを返す。(power of x) x**y, %zと等しいが、効率よく計算する。   |\n",
    "| `pow(x, y)`    | zが省略された形式                                                                      |\n",
    "| `round(x, n)`  | 実数xを小数点以下n桁に丸める。マイナスを含めて近い数にする(偶数への丸め)。|\n",
    "| `round(x)`     | nを省略すると、整数に丸められる。                                                      |\n",
    "| `min(a, b)`    | 二つ以上の値の最小値を返す。(minimum value)                                            |\n",
    "| `min(a, b, c)` |                                                                                        |\n",
    "| `max(a, b)`    | 二つ以上の値の最大値を返す。(maximum value)                                            |\n",
    "| `max(a, b, c)` |                                                                                        |\n",
    "| `len(x)`       | xの長さを返す。(length) xがstrならば文字数となる。文字列以外に長さを持つものを今後たくさん学ぶ。 |"
   ]
  },
  {
   "cell_type": "markdown",
   "id": "232b16ae",
   "metadata": {},
   "source": [
    "### 絶対値の最大値の例"
   ]
  },
  {
   "cell_type": "code",
   "execution_count": 43,
   "id": "e94a441a",
   "metadata": {},
   "outputs": [
    {
     "name": "stdout",
     "output_type": "stream",
     "text": [
      "5\n"
     ]
    }
   ],
   "source": [
    "s = int(input('s:'))\n",
    "t = int(input('t:'))\n",
    "u = int(input('u:'))\n",
    "m = max(abs(s),abs(t),abs(u))\n",
    "print(m)"
   ]
  },
  {
   "cell_type": "markdown",
   "id": "6018aef8",
   "metadata": {},
   "source": [
    "### 丸めた値の一覧"
   ]
  },
  {
   "cell_type": "code",
   "execution_count": 44,
   "id": "ab3006cd",
   "metadata": {},
   "outputs": [
    {
     "name": "stdout",
     "output_type": "stream",
     "text": [
      "4 -5 4\n"
     ]
    }
   ],
   "source": [
    "s = float(input('s:'))\n",
    "t = float(input('t:'))\n",
    "u = float(input('u:'))\n",
    "print(round(s),round(t),round(u))"
   ]
  },
  {
   "cell_type": "markdown",
   "id": "91f7d987",
   "metadata": {},
   "source": [
    "### 入力文字列の長さ"
   ]
  },
  {
   "cell_type": "code",
   "execution_count": 46,
   "id": "80654600",
   "metadata": {},
   "outputs": [
    {
     "name": "stdout",
     "output_type": "stream",
     "text": [
      "lengh = 16\n"
     ]
    }
   ],
   "source": [
    "s = input('s: ')\n",
    "print(\"lengh =\",len(s))"
   ]
  },
  {
   "cell_type": "markdown",
   "id": "43fc7156",
   "metadata": {},
   "source": [
    "- キーボード入力ではスペース文字を含めてenterキーを押すまでの内容がプログラムに送られる"
   ]
  },
  {
   "cell_type": "markdown",
   "id": "edf202db",
   "metadata": {},
   "source": [
    "## **数学関数**"
   ]
  },
  {
   "cell_type": "markdown",
   "id": "37718885",
   "metadata": {},
   "source": [
    "### 数学関数とモジュール"
   ]
  },
  {
   "cell_type": "markdown",
   "id": "48790fda",
   "metadata": {},
   "source": [
    "- 組み込み関数は後から追加できない\n",
    "- 自分で作った関数を後から追加する枠組みはモジュール\n",
    "- 数学関数はモジュールとして提供される\n",
    "- 組み込み関数との使い方の違い:\n",
    "  - `import`によるモジュールの事前指定\n",
    "  - 関数の前にモジュール名を指定して使う\n",
    "- 数学関数はプログラミング言語Cの関数を使用している   "
   ]
  },
  {
   "cell_type": "markdown",
   "id": "1e0f74ae",
   "metadata": {},
   "source": [
    "| 関数       | 数式 | 説明 |\n",
    "|------------|------|------|\n",
    "| `sqrt(x)`  | $\\sqrt{x}$  | 平方根 (square root) |\n",
    "| `exp(x)`   | $e^x$  | e のべき乗 (exponential) |\n",
    "| `log(x)`   | $\\log_{e}{x}$ | 自然対数 (natural logarithm) |\n",
    "| `log10(x)` | $\\log_{10}{x}$ | 常用対数 (common logarithm) |\n",
    "| `ceil(x)`  | $\\lfloor {x} \\rfloor$ | 切り上げ (最小整数) |\n",
    "| `floor(x)` | $\\lceil {x} \\rceil$ | 切り捨て (最大整数) |"
   ]
  },
  {
   "cell_type": "markdown",
   "id": "2539834c",
   "metadata": {},
   "source": [
    "### 数学関数の使用例"
   ]
  },
  {
   "cell_type": "code",
   "execution_count": 48,
   "id": "03cc2f67",
   "metadata": {},
   "outputs": [
    {
     "name": "stdout",
     "output_type": "stream",
     "text": [
      "sqrt(x)= 1.224744871391589\n",
      "x**(1/2)= 1.224744871391589\n"
     ]
    }
   ],
   "source": [
    "import math # mathモジュールの指定\n",
    "x = float(input('x:'))\n",
    "print(\"sqrt(x)=\",math.sqrt(x)) #関数呼び出し\n",
    "print(\"x**(1/2)=\",x**(1/2)) # **演算子の呼び出し"
   ]
  },
  {
   "cell_type": "markdown",
   "id": "2579a6ff",
   "metadata": {},
   "source": [
    "- import mathはプログラム上で一度だけ指定する\n",
    "  - Jupyter Notebookでは`In[n]`の小さい番号で行われていれば良い\n",
    "- `math.sqrt(x)`はmathモジュールに含まれていることを明示している。このため、sqrtという変数を定義しても関数とは区別はつく。 "
   ]
  }
 ],
 "metadata": {
  "kernelspec": {
   "display_name": "Python 3",
   "language": "python",
   "name": "python3"
  },
  "language_info": {
   "codemirror_mode": {
    "name": "ipython",
    "version": 3
   },
   "file_extension": ".py",
   "mimetype": "text/x-python",
   "name": "python",
   "nbconvert_exporter": "python",
   "pygments_lexer": "ipython3",
   "version": "3.13.2"
  }
 },
 "nbformat": 4,
 "nbformat_minor": 5
}
