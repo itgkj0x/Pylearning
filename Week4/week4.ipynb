{
 "cells": [
  {
   "cell_type": "markdown",
   "id": "26574896",
   "metadata": {},
   "source": [
    "# 第4回プログラミング基礎"
   ]
  },
  {
   "cell_type": "markdown",
   "id": "f7a49d66",
   "metadata": {},
   "source": [
    "## **演習1**\n",
    "- 165033を二桁ずつにしたのち、三乗して足すと同じ数になる。\n",
    "$$165033 = 16^3+50^3+33^3 = 165033$$\n",
    "- これを試すプログラムを以下の空欄を埋めて作れ。"
   ]
  },
  {
   "cell_type": "code",
   "execution_count": 1,
   "id": "e1b39bf9",
   "metadata": {},
   "outputs": [
    {
     "name": "stdout",
     "output_type": "stream",
     "text": [
      "165033 => 165033\n"
     ]
    }
   ],
   "source": [
    "x = 165033\n",
    "c = x%100\n",
    "b = x//100%100\n",
    "a = x//100//100\n",
    "abc3 = a**3+b**3+c**3\n",
    "\n",
    "\n",
    "if x == abc3 :\n",
    "    print(x,'=>',abc3)\n"
   ]
  },
  {
   "cell_type": "markdown",
   "id": "0ba16891",
   "metadata": {},
   "source": [
    "## **演習2**\n",
    "- キーボードより月を入力すると、入力された月の季節を表示するプログラムを作成せよ。\n",
    "3-5月ならば`Spring`<br>\n",
    "6-8月ならば`Summer`<br>\n",
    "9-11月ならば`Autumn`<br>\n",
    "12-2月ならば`Winter`<br>\n",
    "上記以外ならば`Invaild input`\n",
    "- 省略せずに論理演算子を使うこと\n",
    "- `Winter`は倫理和を使うとよい\n"
   ]
  },
  {
   "cell_type": "code",
   "execution_count": 8,
   "id": "489314e5",
   "metadata": {},
   "outputs": [
    {
     "name": "stdout",
     "output_type": "stream",
     "text": [
      "month: 13\n"
     ]
    },
    {
     "name": "stdout",
     "output_type": "stream",
     "text": [
      "Invaild input\n"
     ]
    }
   ],
   "source": [
    "mn = int(input(\"month:\"))\n",
    "if 3<=mn<=5 :\n",
    "    print(\"Spring\")\n",
    "elif 6<=mn<=8:\n",
    "    print(\"Summer\")\n",
    "elif 9<=mn<=11:\n",
    "    print(\"Autumn\")\n",
    "elif mn == 12 or 1 <= mn <= 2:\n",
    "    print(\"Winter\")\n",
    "else :\n",
    "    print(\"Invaild input\")\n"
   ]
  },
  {
   "cell_type": "markdown",
   "id": "1ba6247c",
   "metadata": {},
   "source": [
    "## **演習3**\n",
    "- 西暦年を入力すると平年であるか閏年であるか判定できるプログラムを作成せよ。(1個の`if-else`文だけでも作成できるのでチャレンジしてみてください)\n",
    "- 閏年は西暦年に対して以下の条件で決まる\n",
    "  - 400で割れるなら閏年\n",
    "  - それ以外で100で割り切れるなら平年\n",
    "  - それ以外で4で割り切れるなら閏年\n",
    "  - それ以外は平年"
   ]
  },
  {
   "cell_type": "code",
   "execution_count": 77,
   "id": "876e74b0",
   "metadata": {},
   "outputs": [
    {
     "name": "stdout",
     "output_type": "stream",
     "text": [
      "平年\n"
     ]
    }
   ],
   "source": [
    "yr = int(input(\"year:\"))\n",
    "if yr % 400 == 0:\n",
    "    print(\"閏年\")\n",
    "elif yr % 100 == 0:\n",
    "    print(\"平年\")\n",
    "elif yr % 4 == 0:\n",
    "    print(\"閏年\")\n",
    "else:\n",
    "    print(\"平年\")"
   ]
  }
 ],
 "metadata": {
  "kernelspec": {
   "display_name": "Python 3",
   "language": "python",
   "name": "python3"
  },
  "language_info": {
   "codemirror_mode": {
    "name": "ipython",
    "version": 3
   },
   "file_extension": ".py",
   "mimetype": "text/x-python",
   "name": "python",
   "nbconvert_exporter": "python",
   "pygments_lexer": "ipython3",
   "version": "3.13.2"
  }
 },
 "nbformat": 4,
 "nbformat_minor": 5
}
